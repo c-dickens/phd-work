{
 "cells": [
  {
   "cell_type": "code",
   "execution_count": 113,
   "metadata": {
    "collapsed": true
   },
   "outputs": [],
   "source": [
    "import numpy as np\n",
    "import itertools\n",
    "from itertools import chain, combinations\n",
    "from collections import Counter\n",
    "import matplotlib.pyplot as plt\n",
    "%matplotlib inline"
   ]
  },
  {
   "cell_type": "code",
   "execution_count": 190,
   "metadata": {},
   "outputs": [],
   "source": [
    "def generate_data(nrows, ncols):\n",
    "    return np.random.choice([0, 1], size=(nrows, ncols), p=[0.75, 0.25])\n",
    "    "
   ]
  },
  {
   "cell_type": "code",
   "execution_count": 191,
   "metadata": {},
   "outputs": [
    {
     "data": {
      "text/plain": [
       "array([[1, 0, 0, 1, 0],\n",
       "       [0, 1, 0, 0, 1],\n",
       "       [0, 0, 1, 0, 1],\n",
       "       [0, 0, 0, 0, 0],\n",
       "       [1, 0, 0, 0, 0],\n",
       "       [1, 1, 0, 0, 0],\n",
       "       [0, 0, 0, 0, 0],\n",
       "       [0, 1, 0, 0, 0],\n",
       "       [0, 0, 0, 0, 0],\n",
       "       [0, 0, 0, 0, 0]])"
      ]
     },
     "execution_count": 191,
     "metadata": {},
     "output_type": "execute_result"
    }
   ],
   "source": [
    "generate_data(10,5)"
   ]
  },
  {
   "cell_type": "code",
   "execution_count": 4,
   "metadata": {
    "collapsed": true
   },
   "outputs": [],
   "source": [
    "def findsubsets(S,m):\n",
    "    '''finds subsets of S of size m'''\n",
    "    return list(itertools.combinations(S, m))"
   ]
  },
  {
   "cell_type": "code",
   "execution_count": 5,
   "metadata": {
    "collapsed": true
   },
   "outputs": [],
   "source": [
    "def powerset(seq):\n",
    "    \"\"\"\n",
    "    Returns all the subsets of this set. This is a generator.\n",
    "    \"\"\"\n",
    "    if len(seq) <= 1:\n",
    "        yield seq\n",
    "        yield []\n",
    "    else:\n",
    "        for item in powerset(seq[1:]):\n",
    "            yield [seq[0]]+item\n",
    "            yield item"
   ]
  },
  {
   "cell_type": "code",
   "execution_count": 78,
   "metadata": {},
   "outputs": [],
   "source": [
    "def count_distinct(index_list, data, subset_size):\n",
    "    '''index_list must be a list or array in {0,...,d}.\n",
    "    Generates all subsets and prints the length subset_size ones.'''\n",
    "    if (type(index_list) != list):\n",
    "        index_list = list(index_list)\n",
    "        \n",
    "    \n",
    "    A = data\n",
    "    print(\"Number unique items in data: {}\".format(len(np.unique(A, axis=0))))\n",
    "    #print(A)\n",
    "    n,d = A.shape\n",
    "    T = index_list\n",
    "    \n",
    "    if len(T) > d: # catch error when T is too large\n",
    "        raise ValueError(\"T is {} but must be at most {}\".format(len(T),d))\n",
    "    subsets = powerset(T) \n",
    "    max_diversity = 0\n",
    "    max_diversity_indices = []\n",
    "    counter = 0\n",
    "    for subcube in powerset(T):\n",
    "        if len(subcube) == subset_size:\n",
    "            #counter += 1\n",
    "            A_subcube = A[:,subcube]\n",
    "            diversity = len(np.unique(A_subcube, axis=0))\n",
    "            print(\"subcube {}, No. unique items {}\".format(subcube,\\\n",
    "                                                diversity))\n",
    "            \n",
    "            if (diversity >= max_diversity):\n",
    "                max_diversity_indices.append(subcube)\n",
    "                max_diversity = diversity       \n",
    "            \n",
    "    return max_diversity, max_diversity_indices#, counter        "
   ]
  },
  {
   "cell_type": "code",
   "execution_count": 192,
   "metadata": {
    "collapsed": true
   },
   "outputs": [],
   "source": [
    "A = generate_data(10,5)\n",
    "B = generate_data(10,5)\n",
    "C = np.c_[A,B]"
   ]
  },
  {
   "cell_type": "code",
   "execution_count": 213,
   "metadata": {},
   "outputs": [
    {
     "data": {
      "text/plain": [
       "array([[0, 0, 0, 0, 0],\n",
       "       [0, 0, 0, 0, 0],\n",
       "       [0, 0, 0, 1, 0],\n",
       "       [0, 0, 1, 1, 1],\n",
       "       [0, 0, 0, 0, 0],\n",
       "       [1, 1, 0, 1, 1],\n",
       "       [0, 1, 1, 0, 0],\n",
       "       [0, 0, 0, 1, 0],\n",
       "       [0, 0, 0, 0, 1],\n",
       "       [0, 0, 0, 0, 0]])"
      ]
     },
     "execution_count": 213,
     "metadata": {},
     "output_type": "execute_result"
    }
   ],
   "source": [
    "A"
   ]
  },
  {
   "cell_type": "code",
   "execution_count": 214,
   "metadata": {},
   "outputs": [
    {
     "data": {
      "text/plain": [
       "array([[0, 0, 0, 0, 0],\n",
       "       [1, 0, 0, 0, 0],\n",
       "       [0, 0, 0, 1, 0],\n",
       "       [0, 0, 0, 0, 1],\n",
       "       [0, 1, 0, 0, 1],\n",
       "       [1, 0, 0, 0, 0],\n",
       "       [1, 0, 1, 0, 1],\n",
       "       [0, 1, 0, 0, 0],\n",
       "       [1, 1, 0, 0, 0],\n",
       "       [1, 0, 1, 0, 0]])"
      ]
     },
     "execution_count": 214,
     "metadata": {},
     "output_type": "execute_result"
    }
   ],
   "source": [
    "B"
   ]
  },
  {
   "cell_type": "code",
   "execution_count": 207,
   "metadata": {},
   "outputs": [
    {
     "data": {
      "text/plain": [
       "array([[0, 0, 0, 0, 0, 0, 0, 0, 0, 0],\n",
       "       [0, 0, 0, 0, 0, 1, 0, 0, 0, 0],\n",
       "       [0, 0, 0, 1, 0, 0, 0, 0, 1, 0],\n",
       "       [0, 0, 1, 1, 1, 0, 0, 0, 0, 1],\n",
       "       [0, 0, 0, 0, 0, 0, 1, 0, 0, 1],\n",
       "       [1, 1, 0, 1, 1, 1, 0, 0, 0, 0],\n",
       "       [0, 1, 1, 0, 0, 1, 0, 1, 0, 1],\n",
       "       [0, 0, 0, 1, 0, 0, 1, 0, 0, 0],\n",
       "       [0, 0, 0, 0, 1, 1, 1, 0, 0, 0],\n",
       "       [0, 0, 0, 0, 0, 1, 0, 1, 0, 0]])"
      ]
     },
     "execution_count": 207,
     "metadata": {},
     "output_type": "execute_result"
    }
   ],
   "source": [
    "C"
   ]
  },
  {
   "cell_type": "code",
   "execution_count": 238,
   "metadata": {},
   "outputs": [
    {
     "name": "stdout",
     "output_type": "stream",
     "text": [
      "Number unique items in data: 6\n",
      "subcube [3, 4], No. unique items 4\n",
      "subcube [2, 4], No. unique items 4\n",
      "subcube [1, 4], No. unique items 4\n",
      "subcube [0, 4], No. unique items 3\n",
      "subcube [2, 3], No. unique items 4\n",
      "subcube [1, 3], No. unique items 4\n",
      "subcube [0, 3], No. unique items 3\n",
      "subcube [1, 2], No. unique items 4\n",
      "subcube [0, 2], No. unique items 3\n",
      "subcube [0, 1], No. unique items 3\n"
     ]
    }
   ],
   "source": [
    "A_max_div, A_max_div_ids = count_distinct(range(A.shape[1]), A, subset_size=2)"
   ]
  },
  {
   "cell_type": "code",
   "execution_count": 239,
   "metadata": {},
   "outputs": [
    {
     "name": "stdout",
     "output_type": "stream",
     "text": [
      "Number unique items in data: 6\n",
      "subcube [2, 3, 4], No. unique items 6\n",
      "subcube [1, 3, 4], No. unique items 6\n",
      "subcube [0, 3, 4], No. unique items 5\n",
      "subcube [1, 2, 4], No. unique items 5\n",
      "subcube [0, 2, 4], No. unique items 5\n",
      "subcube [0, 1, 4], No. unique items 4\n",
      "subcube [1, 2, 3], No. unique items 5\n",
      "subcube [0, 2, 3], No. unique items 5\n",
      "subcube [0, 1, 3], No. unique items 4\n",
      "subcube [0, 1, 2], No. unique items 4\n"
     ]
    }
   ],
   "source": [
    "A_max_div, A_max_div_ids = count_distinct(range(A.shape[1]), A, subset_size=3)"
   ]
  },
  {
   "cell_type": "code",
   "execution_count": 226,
   "metadata": {},
   "outputs": [
    {
     "data": {
      "text/plain": [
       "6"
      ]
     },
     "execution_count": 226,
     "metadata": {},
     "output_type": "execute_result"
    }
   ],
   "source": [
    "A_max_div"
   ]
  },
  {
   "cell_type": "code",
   "execution_count": 227,
   "metadata": {},
   "outputs": [
    {
     "data": {
      "text/plain": [
       "[[2, 3, 4], [1, 3, 4]]"
      ]
     },
     "execution_count": 227,
     "metadata": {},
     "output_type": "execute_result"
    }
   ],
   "source": [
    "A_max_div_ids"
   ]
  },
  {
   "cell_type": "code",
   "execution_count": 228,
   "metadata": {},
   "outputs": [
    {
     "data": {
      "text/plain": [
       "2"
      ]
     },
     "execution_count": 228,
     "metadata": {},
     "output_type": "execute_result"
    }
   ],
   "source": [
    "len(A_max_div_ids)"
   ]
  },
  {
   "cell_type": "code",
   "execution_count": 232,
   "metadata": {
    "scrolled": true
   },
   "outputs": [
    {
     "name": "stdout",
     "output_type": "stream",
     "text": [
      "Number unique items in data: 9\n",
      "subcube [2, 3, 4], No. unique items 5\n",
      "subcube [1, 3, 4], No. unique items 5\n",
      "subcube [0, 3, 4], No. unique items 5\n",
      "subcube [1, 2, 4], No. unique items 6\n",
      "subcube [0, 2, 4], No. unique items 5\n",
      "subcube [0, 1, 4], No. unique items 7\n",
      "subcube [1, 2, 3], No. unique items 4\n",
      "subcube [0, 2, 3], No. unique items 4\n",
      "subcube [0, 1, 3], No. unique items 5\n",
      "subcube [0, 1, 2], No. unique items 5\n"
     ]
    }
   ],
   "source": [
    "B_max_div, B_max_div_ids = count_distinct(range(B.shape[1]), B, subset_size=3)"
   ]
  },
  {
   "cell_type": "code",
   "execution_count": 223,
   "metadata": {},
   "outputs": [
    {
     "data": {
      "text/plain": [
       "4"
      ]
     },
     "execution_count": 223,
     "metadata": {},
     "output_type": "execute_result"
    }
   ],
   "source": [
    "B_max_div"
   ]
  },
  {
   "cell_type": "code",
   "execution_count": 224,
   "metadata": {},
   "outputs": [
    {
     "data": {
      "text/plain": [
       "[[3, 4], [2, 4], [1, 4], [0, 4], [0, 1]]"
      ]
     },
     "execution_count": 224,
     "metadata": {},
     "output_type": "execute_result"
    }
   ],
   "source": [
    "B_max_div_ids"
   ]
  },
  {
   "cell_type": "code",
   "execution_count": 221,
   "metadata": {},
   "outputs": [
    {
     "data": {
      "text/plain": [
       "3"
      ]
     },
     "execution_count": 221,
     "metadata": {},
     "output_type": "execute_result"
    }
   ],
   "source": [
    "len(B_max_div_ids)"
   ]
  },
  {
   "cell_type": "code",
   "execution_count": 235,
   "metadata": {},
   "outputs": [
    {
     "name": "stdout",
     "output_type": "stream",
     "text": [
      "Number unique items in data: 10\n",
      "subcube [6, 7, 8, 9], No. unique items 7\n",
      "subcube [5, 7, 8, 9], No. unique items 6\n",
      "subcube [4, 7, 8, 9], No. unique items 7\n",
      "subcube [3, 7, 8, 9], No. unique items 7\n",
      "subcube [2, 7, 8, 9], No. unique items 6\n",
      "subcube [1, 7, 8, 9], No. unique items 6\n",
      "subcube [0, 7, 8, 9], No. unique items 6\n",
      "subcube [5, 6, 8, 9], No. unique items 8\n",
      "subcube [4, 6, 8, 9], No. unique items 8\n",
      "subcube [3, 6, 8, 9], No. unique items 8\n",
      "subcube [2, 6, 8, 9], No. unique items 5\n",
      "subcube [1, 6, 8, 9], No. unique items 7\n",
      "subcube [0, 6, 8, 9], No. unique items 6\n",
      "subcube [4, 5, 8, 9], No. unique items 7\n",
      "subcube [3, 5, 8, 9], No. unique items 8\n",
      "subcube [2, 5, 8, 9], No. unique items 6\n",
      "subcube [1, 5, 8, 9], No. unique items 6\n",
      "subcube [0, 5, 8, 9], No. unique items 6\n",
      "subcube [3, 4, 8, 9], No. unique items 7\n",
      "subcube [2, 4, 8, 9], No. unique items 6\n",
      "subcube [1, 4, 8, 9], No. unique items 7\n",
      "subcube [0, 4, 8, 9], No. unique items 6\n",
      "subcube [2, 3, 8, 9], No. unique items 6\n",
      "subcube [1, 3, 8, 9], No. unique items 7\n",
      "subcube [0, 3, 8, 9], No. unique items 6\n",
      "subcube [1, 2, 8, 9], No. unique items 6\n",
      "subcube [0, 2, 8, 9], No. unique items 5\n",
      "subcube [0, 1, 8, 9], No. unique items 5\n",
      "subcube [5, 6, 7, 9], No. unique items 8\n",
      "subcube [4, 6, 7, 9], No. unique items 8\n",
      "subcube [3, 6, 7, 9], No. unique items 8\n",
      "subcube [2, 6, 7, 9], No. unique items 6\n",
      "subcube [1, 6, 7, 9], No. unique items 7\n",
      "subcube [0, 6, 7, 9], No. unique items 7\n",
      "subcube [4, 5, 7, 9], No. unique items 7\n",
      "subcube [3, 5, 7, 9], No. unique items 8\n",
      "subcube [2, 5, 7, 9], No. unique items 6\n",
      "subcube [1, 5, 7, 9], No. unique items 6\n",
      "subcube [0, 5, 7, 9], No. unique items 6\n",
      "subcube [3, 4, 7, 9], No. unique items 8\n",
      "subcube [2, 4, 7, 9], No. unique items 6\n",
      "subcube [1, 4, 7, 9], No. unique items 7\n",
      "subcube [0, 4, 7, 9], No. unique items 7\n",
      "subcube [2, 3, 7, 9], No. unique items 6\n",
      "subcube [1, 3, 7, 9], No. unique items 7\n",
      "subcube [0, 3, 7, 9], No. unique items 7\n",
      "subcube [1, 2, 7, 9], No. unique items 6\n",
      "subcube [0, 2, 7, 9], No. unique items 6\n",
      "subcube [0, 1, 7, 9], No. unique items 5\n",
      "subcube [4, 5, 6, 9], No. unique items 8\n",
      "subcube [3, 5, 6, 9], No. unique items 9\n",
      "subcube [2, 5, 6, 9], No. unique items 7\n",
      "subcube [1, 5, 6, 9], No. unique items 8\n",
      "subcube [0, 5, 6, 9], No. unique items 8\n",
      "subcube [3, 4, 6, 9], No. unique items 8\n",
      "subcube [2, 4, 6, 9], No. unique items 7\n",
      "subcube [1, 4, 6, 9], No. unique items 7\n",
      "subcube [0, 4, 6, 9], No. unique items 7\n",
      "subcube [2, 3, 6, 9], No. unique items 7\n",
      "subcube [1, 3, 6, 9], No. unique items 8\n",
      "subcube [0, 3, 6, 9], No. unique items 8\n",
      "subcube [1, 2, 6, 9], No. unique items 6\n",
      "subcube [0, 2, 6, 9], No. unique items 5\n",
      "subcube [0, 1, 6, 9], No. unique items 6\n",
      "subcube [3, 4, 5, 9], No. unique items 8\n",
      "subcube [2, 4, 5, 9], No. unique items 6\n",
      "subcube [1, 4, 5, 9], No. unique items 7\n",
      "subcube [0, 4, 5, 9], No. unique items 7\n",
      "subcube [2, 3, 5, 9], No. unique items 7\n",
      "subcube [1, 3, 5, 9], No. unique items 7\n",
      "subcube [0, 3, 5, 9], No. unique items 7\n",
      "subcube [1, 2, 5, 9], No. unique items 6\n",
      "subcube [0, 2, 5, 9], No. unique items 6\n",
      "subcube [0, 1, 5, 9], No. unique items 5\n",
      "subcube [2, 3, 4, 9], No. unique items 7\n",
      "subcube [1, 3, 4, 9], No. unique items 7\n",
      "subcube [0, 3, 4, 9], No. unique items 6\n",
      "subcube [1, 2, 4, 9], No. unique items 6\n",
      "subcube [0, 2, 4, 9], No. unique items 6\n",
      "subcube [0, 1, 4, 9], No. unique items 6\n",
      "subcube [1, 2, 3, 9], No. unique items 6\n",
      "subcube [0, 2, 3, 9], No. unique items 6\n",
      "subcube [0, 1, 3, 9], No. unique items 6\n",
      "subcube [0, 1, 2, 9], No. unique items 5\n",
      "subcube [5, 6, 7, 8], No. unique items 6\n",
      "subcube [4, 6, 7, 8], No. unique items 6\n",
      "subcube [3, 6, 7, 8], No. unique items 6\n",
      "subcube [2, 6, 7, 8], No. unique items 6\n",
      "subcube [1, 6, 7, 8], No. unique items 6\n",
      "subcube [0, 6, 7, 8], No. unique items 5\n",
      "subcube [4, 5, 7, 8], No. unique items 6\n",
      "subcube [3, 5, 7, 8], No. unique items 6\n",
      "subcube [2, 5, 7, 8], No. unique items 6\n",
      "subcube [1, 5, 7, 8], No. unique items 6\n",
      "subcube [0, 5, 7, 8], No. unique items 5\n",
      "subcube [3, 4, 7, 8], No. unique items 6\n",
      "subcube [2, 4, 7, 8], No. unique items 6\n",
      "subcube [1, 4, 7, 8], No. unique items 6\n",
      "subcube [0, 4, 7, 8], No. unique items 5\n",
      "subcube [2, 3, 7, 8], No. unique items 6\n",
      "subcube [1, 3, 7, 8], No. unique items 6\n",
      "subcube [0, 3, 7, 8], No. unique items 5\n",
      "subcube [1, 2, 7, 8], No. unique items 6\n",
      "subcube [0, 2, 7, 8], No. unique items 6\n",
      "subcube [0, 1, 7, 8], No. unique items 5\n",
      "subcube [4, 5, 6, 8], No. unique items 7\n",
      "subcube [3, 5, 6, 8], No. unique items 8\n",
      "subcube [2, 5, 6, 8], No. unique items 7\n",
      "subcube [1, 5, 6, 8], No. unique items 6\n",
      "subcube [0, 5, 6, 8], No. unique items 6\n",
      "subcube [3, 4, 6, 8], No. unique items 6\n",
      "subcube [2, 4, 6, 8], No. unique items 7\n",
      "subcube [1, 4, 6, 8], No. unique items 7\n",
      "subcube [0, 4, 6, 8], No. unique items 6\n",
      "subcube [2, 3, 6, 8], No. unique items 7\n",
      "subcube [1, 3, 6, 8], No. unique items 7\n",
      "subcube [0, 3, 6, 8], No. unique items 6\n",
      "subcube [1, 2, 6, 8], No. unique items 6\n",
      "subcube [0, 2, 6, 8], No. unique items 5\n",
      "subcube [0, 1, 6, 8], No. unique items 5\n",
      "subcube [3, 4, 5, 8], No. unique items 7\n",
      "subcube [2, 4, 5, 8], No. unique items 6\n",
      "subcube [1, 4, 5, 8], No. unique items 7\n",
      "subcube [0, 4, 5, 8], No. unique items 6\n",
      "subcube [2, 3, 5, 8], No. unique items 7\n",
      "subcube [1, 3, 5, 8], No. unique items 6\n",
      "subcube [0, 3, 5, 8], No. unique items 5\n",
      "subcube [1, 2, 5, 8], No. unique items 6\n",
      "subcube [0, 2, 5, 8], No. unique items 6\n",
      "subcube [0, 1, 5, 8], No. unique items 5\n",
      "subcube [2, 3, 4, 8], No. unique items 7\n",
      "subcube [1, 3, 4, 8], No. unique items 7\n",
      "subcube [0, 3, 4, 8], No. unique items 6\n",
      "subcube [1, 2, 4, 8], No. unique items 6\n",
      "subcube [0, 2, 4, 8], No. unique items 6\n",
      "subcube [0, 1, 4, 8], No. unique items 5\n",
      "subcube [1, 2, 3, 8], No. unique items 6\n",
      "subcube [0, 2, 3, 8], No. unique items 6\n",
      "subcube [0, 1, 3, 8], No. unique items 5\n",
      "subcube [0, 1, 2, 8], No. unique items 5\n",
      "subcube [4, 5, 6, 7], No. unique items 7\n",
      "subcube [3, 5, 6, 7], No. unique items 8\n",
      "subcube [2, 5, 6, 7], No. unique items 7\n",
      "subcube [1, 5, 6, 7], No. unique items 7\n",
      "subcube [0, 5, 6, 7], No. unique items 6\n",
      "subcube [3, 4, 6, 7], No. unique items 7\n",
      "subcube [2, 4, 6, 7], No. unique items 7\n",
      "subcube [1, 4, 6, 7], No. unique items 7\n",
      "subcube [0, 4, 6, 7], No. unique items 6\n",
      "subcube [2, 3, 6, 7], No. unique items 7\n",
      "subcube [1, 3, 6, 7], No. unique items 7\n",
      "subcube [0, 3, 6, 7], No. unique items 6\n",
      "subcube [1, 2, 6, 7], No. unique items 6\n",
      "subcube [0, 2, 6, 7], No. unique items 6\n",
      "subcube [0, 1, 6, 7], No. unique items 5\n",
      "subcube [3, 4, 5, 7], No. unique items 7\n",
      "subcube [2, 4, 5, 7], No. unique items 6\n",
      "subcube [1, 4, 5, 7], No. unique items 7\n",
      "subcube [0, 4, 5, 7], No. unique items 6\n",
      "subcube [2, 3, 5, 7], No. unique items 7\n",
      "subcube [1, 3, 5, 7], No. unique items 6\n",
      "subcube [0, 3, 5, 7], No. unique items 5\n",
      "subcube [1, 2, 5, 7], No. unique items 6\n",
      "subcube [0, 2, 5, 7], No. unique items 6\n",
      "subcube [0, 1, 5, 7], No. unique items 5\n",
      "subcube [2, 3, 4, 7], No. unique items 7\n",
      "subcube [1, 3, 4, 7], No. unique items 7\n",
      "subcube [0, 3, 4, 7], No. unique items 6\n",
      "subcube [1, 2, 4, 7], No. unique items 6\n",
      "subcube [0, 2, 4, 7], No. unique items 6\n",
      "subcube [0, 1, 4, 7], No. unique items 5\n",
      "subcube [1, 2, 3, 7], No. unique items 6\n",
      "subcube [0, 2, 3, 7], No. unique items 6\n",
      "subcube [0, 1, 3, 7], No. unique items 5\n",
      "subcube [0, 1, 2, 7], No. unique items 5\n",
      "subcube [3, 4, 5, 6], No. unique items 8\n",
      "subcube [2, 4, 5, 6], No. unique items 7\n",
      "subcube [1, 4, 5, 6], No. unique items 7\n",
      "subcube [0, 4, 5, 6], No. unique items 6\n",
      "subcube [2, 3, 5, 6], No. unique items 9\n",
      "subcube [1, 3, 5, 6], No. unique items 8\n",
      "subcube [0, 3, 5, 6], No. unique items 7\n",
      "subcube [1, 2, 5, 6], No. unique items 7\n",
      "subcube [0, 2, 5, 6], No. unique items 7\n",
      "subcube [0, 1, 5, 6], No. unique items 6\n",
      "subcube [2, 3, 4, 6], No. unique items 8\n",
      "subcube [1, 3, 4, 6], No. unique items 8\n",
      "subcube [0, 3, 4, 6], No. unique items 7\n",
      "subcube [1, 2, 4, 6], No. unique items 6\n",
      "subcube [0, 2, 4, 6], No. unique items 6\n",
      "subcube [0, 1, 4, 6], No. unique items 6\n",
      "subcube [1, 2, 3, 6], No. unique items 7\n",
      "subcube [0, 2, 3, 6], No. unique items 7\n",
      "subcube [0, 1, 3, 6], No. unique items 6\n",
      "subcube [0, 1, 2, 6], No. unique items 5\n",
      "subcube [2, 3, 4, 5], No. unique items 7\n",
      "subcube [1, 3, 4, 5], No. unique items 7\n",
      "subcube [0, 3, 4, 5], No. unique items 6\n",
      "subcube [1, 2, 4, 5], No. unique items 6\n",
      "subcube [0, 2, 4, 5], No. unique items 6\n",
      "subcube [0, 1, 4, 5], No. unique items 6\n",
      "subcube [1, 2, 3, 5], No. unique items 6\n",
      "subcube [0, 2, 3, 5], No. unique items 6\n",
      "subcube [0, 1, 3, 5], No. unique items 5\n",
      "subcube [0, 1, 2, 5], No. unique items 5\n",
      "subcube [1, 2, 3, 4], No. unique items 6\n",
      "subcube [0, 2, 3, 4], No. unique items 6\n",
      "subcube [0, 1, 3, 4], No. unique items 6\n",
      "subcube [0, 1, 2, 4], No. unique items 5\n",
      "subcube [0, 1, 2, 3], No. unique items 5\n"
     ]
    }
   ],
   "source": [
    "C_max_div, C_max_div_ids = count_distinct(range(C.shape[1]), C, subset_size=4)"
   ]
  },
  {
   "cell_type": "code",
   "execution_count": 236,
   "metadata": {},
   "outputs": [
    {
     "data": {
      "text/plain": [
       "9"
      ]
     },
     "execution_count": 236,
     "metadata": {},
     "output_type": "execute_result"
    }
   ],
   "source": [
    "C_max_div"
   ]
  },
  {
   "cell_type": "code",
   "execution_count": 237,
   "metadata": {},
   "outputs": [
    {
     "data": {
      "text/plain": [
       "15"
      ]
     },
     "execution_count": 237,
     "metadata": {},
     "output_type": "execute_result"
    }
   ],
   "source": [
    "len(C_max_div_ids)"
   ]
  },
  {
   "cell_type": "code",
   "execution_count": 206,
   "metadata": {},
   "outputs": [
    {
     "data": {
      "text/plain": [
       "[[6, 7, 8, 9],\n",
       " [4, 7, 8, 9],\n",
       " [3, 7, 8, 9],\n",
       " [5, 6, 8, 9],\n",
       " [4, 6, 8, 9],\n",
       " [3, 6, 8, 9],\n",
       " [3, 5, 8, 9],\n",
       " [5, 6, 7, 9],\n",
       " [4, 6, 7, 9],\n",
       " [3, 6, 7, 9],\n",
       " [3, 5, 7, 9],\n",
       " [3, 4, 7, 9],\n",
       " [4, 5, 6, 9],\n",
       " [3, 5, 6, 9],\n",
       " [2, 3, 5, 6]]"
      ]
     },
     "execution_count": 206,
     "metadata": {},
     "output_type": "execute_result"
    }
   ],
   "source": [
    "C_max_div_ids"
   ]
  },
  {
   "cell_type": "code",
   "execution_count": 148,
   "metadata": {},
   "outputs": [],
   "source": [
    "def plot_frequency(diverse_ids, data_name):\n",
    "    '''Plots the bar chart showing the frequency of an index in\n",
    "    subcubes which are diverse.\n",
    "    Data name should be a string'''\n",
    "    diverse_multiset = np.ravel(diverse_ids)\n",
    "    subcube_index, counts = np.unique(np.ravel(diverse_ids), return_counts=True)\n",
    "    fig,ax = plt.subplots()\n",
    "    ax.bar(x=subcube_index, height=counts)\n",
    "    ax.set_xlabel(\"Index\")\n",
    "    ax.set_xticks(subcube_index)\n",
    "    ax.set_ylabel(\"Count in diverse set\")\n",
    "    ax.set_title(\"Index counts in diverse sets for data {}\".format(data_name))"
   ]
  },
  {
   "cell_type": "code",
   "execution_count": 208,
   "metadata": {},
   "outputs": [
    {
     "data": {
      "image/png": "[encoded data removed]",
      "text/plain": [
       "<matplotlib.figure.Figure at 0x10a6e3240>"
      ]
     },
     "metadata": {},
     "output_type": "display_data"
    }
   ],
   "source": [
    "plot_frequency(A_max_div_ids, \"A\")"
   ]
  },
  {
   "cell_type": "code",
   "execution_count": 209,
   "metadata": {},
   "outputs": [
    {
     "data": {
      "image/png": "[encoded data removed]",
      "text/plain": [
       "<matplotlib.figure.Figure at 0x10e699e48>"
      ]
     },
     "metadata": {},
     "output_type": "display_data"
    }
   ],
   "source": [
    "plot_frequency(B_max_div_ids, \"B\")"
   ]
  },
  {
   "cell_type": "code",
   "execution_count": 210,
   "metadata": {},
   "outputs": [
    {
     "data": {
      "image/png": "[encoded data removed]",
      "text/plain": [
       "<matplotlib.figure.Figure at 0x10a7ab0b8>"
      ]
     },
     "metadata": {},
     "output_type": "display_data"
    }
   ],
   "source": [
    "plot_frequency(C_max_div_ids, \"C\")"
   ]
  },
  {
   "cell_type": "code",
   "execution_count": null,
   "metadata": {
    "collapsed": true
   },
   "outputs": [],
   "source": []
  }
 ],
 "metadata": {
  "kernelspec": {
   "display_name": "Python 3",
   "language": "python",
   "name": "python3"
  },
  "language_info": {
   "codemirror_mode": {
    "name": "ipython",
    "version": 3
   },
   "file_extension": ".py",
   "mimetype": "text/x-python",
   "name": "python",
   "nbconvert_exporter": "python",
   "pygments_lexer": "ipython3",
   "version": "3.6.3"
  }
 },
 "nbformat": 4,
 "nbformat_minor": 2
}
