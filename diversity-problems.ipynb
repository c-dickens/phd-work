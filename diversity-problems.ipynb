{
 "cells": [
  {
   "cell_type": "code",
   "execution_count": 187,
   "metadata": {
    "collapsed": true
   },
   "outputs": [],
   "source": [
    "import numpy as np\n",
    "import itertools\n",
    "from itertools import chain, combinations\n"
   ]
  },
  {
   "cell_type": "code",
   "execution_count": 2,
   "metadata": {
    "collapsed": true
   },
   "outputs": [],
   "source": [
    "def generate_data(nrows, ncols):\n",
    "    return np.random.randint(low=0, high=2, size=(nrows, ncols))\n",
    "    "
   ]
  },
  {
   "cell_type": "code",
   "execution_count": 4,
   "metadata": {},
   "outputs": [
    {
     "data": {
      "text/plain": [
       "array([[1, 0, 1, 0, 0],\n",
       "       [0, 1, 0, 1, 0],\n",
       "       [0, 0, 0, 1, 1],\n",
       "       [1, 0, 1, 1, 0],\n",
       "       [0, 0, 0, 1, 1],\n",
       "       [1, 1, 0, 1, 0],\n",
       "       [1, 0, 1, 1, 0],\n",
       "       [0, 1, 0, 1, 1],\n",
       "       [1, 1, 1, 1, 0],\n",
       "       [1, 1, 0, 0, 0]])"
      ]
     },
     "execution_count": 4,
     "metadata": {},
     "output_type": "execute_result"
    }
   ],
   "source": [
    "generate_data(10,5)"
   ]
  },
  {
   "cell_type": "code",
   "execution_count": 52,
   "metadata": {
    "collapsed": true
   },
   "outputs": [],
   "source": [
    "def findsubsets(S,m):\n",
    "    '''finds subsets of S of size m'''\n",
    "    return list(itertools.combinations(S, m))"
   ]
  },
  {
   "cell_type": "code",
   "execution_count": 159,
   "metadata": {},
   "outputs": [],
   "source": [
    "def powerset(seq):\n",
    "    \"\"\"\n",
    "    Returns all the subsets of this set. This is a generator.\n",
    "    \"\"\"\n",
    "    if len(seq) <= 1:\n",
    "        yield seq\n",
    "        yield []\n",
    "    else:\n",
    "        for item in powerset(seq[1:]):\n",
    "            yield [seq[0]]+item\n",
    "            yield item"
   ]
  },
  {
   "cell_type": "code",
   "execution_count": 204,
   "metadata": {},
   "outputs": [],
   "source": [
    "def count_distinct(index_list, data):\n",
    "    '''index_list must be a list or array in {0,...,d}'''\n",
    "    A = data\n",
    "    print(\"Number unique items in A: {}\".format(len(np.unique(A, axis=0))))\n",
    "    #print(A)\n",
    "    n,d = A.shape\n",
    "    T = index_list\n",
    "    \n",
    "    if len(T) > d: # catch error when T is too large\n",
    "        raise ValueError(\"T is {} but must be at most {}\".format(len(T),d))\n",
    "    subsets = powerset(T) \n",
    "    for subcube in powerset(T):\n",
    "        if subcube != []:\n",
    "            print(\"subcube {}\".format(subcube))\n",
    "            A_subcube = A[:,subcube]\n",
    "            print(\"Number unique items: {}\".format(len(np.unique(A_subcube, axis=0))))\n",
    "            print(\"Unique items: {}\".format(np.unique(A_subcube, axis=0)))\n",
    "           "
   ]
  },
  {
   "cell_type": "code",
   "execution_count": 208,
   "metadata": {},
   "outputs": [
    {
     "name": "stdout",
     "output_type": "stream",
     "text": [
      "Number unique items in A: 10\n",
      "[[1 0 0 1 1]\n",
      " [1 1 0 0 0]\n",
      " [0 0 0 1 1]\n",
      " [1 0 1 1 0]\n",
      " [1 0 1 1 1]\n",
      " [0 0 0 0 1]\n",
      " [0 1 1 1 0]\n",
      " [0 1 0 0 0]\n",
      " [1 1 0 1 1]\n",
      " [0 0 1 0 1]]\n",
      "subcube [0, 1, 2, 3, 4]\n",
      "Number unique items: 10\n",
      "Unique items: [[0 0 0 0 1]\n",
      " [0 0 0 1 1]\n",
      " [0 0 1 0 1]\n",
      " [0 1 0 0 0]\n",
      " [0 1 1 1 0]\n",
      " [1 0 0 1 1]\n",
      " [1 0 1 1 0]\n",
      " [1 0 1 1 1]\n",
      " [1 1 0 0 0]\n",
      " [1 1 0 1 1]]\n",
      "subcube [1, 2, 3, 4]\n",
      "Number unique items: 8\n",
      "Unique items: [[0 0 0 1]\n",
      " [0 0 1 1]\n",
      " [0 1 0 1]\n",
      " [0 1 1 0]\n",
      " [0 1 1 1]\n",
      " [1 0 0 0]\n",
      " [1 0 1 1]\n",
      " [1 1 1 0]]\n",
      "subcube [0, 2, 3, 4]\n",
      "Number unique items: 9\n",
      "Unique items: [[0 0 0 0]\n",
      " [0 0 0 1]\n",
      " [0 0 1 1]\n",
      " [0 1 0 1]\n",
      " [0 1 1 0]\n",
      " [1 0 0 0]\n",
      " [1 0 1 1]\n",
      " [1 1 1 0]\n",
      " [1 1 1 1]]\n",
      "subcube [2, 3, 4]\n",
      "Number unique items: 6\n",
      "Unique items: [[0 0 0]\n",
      " [0 0 1]\n",
      " [0 1 1]\n",
      " [1 0 1]\n",
      " [1 1 0]\n",
      " [1 1 1]]\n",
      "subcube [0, 1, 3, 4]\n",
      "Number unique items: 8\n",
      "Unique items: [[0 0 0 1]\n",
      " [0 0 1 1]\n",
      " [0 1 0 0]\n",
      " [0 1 1 0]\n",
      " [1 0 1 0]\n",
      " [1 0 1 1]\n",
      " [1 1 0 0]\n",
      " [1 1 1 1]]\n",
      "subcube [1, 3, 4]\n",
      "Number unique items: 6\n",
      "Unique items: [[0 0 1]\n",
      " [0 1 0]\n",
      " [0 1 1]\n",
      " [1 0 0]\n",
      " [1 1 0]\n",
      " [1 1 1]]\n",
      "subcube [0, 3, 4]\n",
      "Number unique items: 7\n",
      "Unique items: [[0 0 0]\n",
      " [0 0 1]\n",
      " [0 1 0]\n",
      " [0 1 1]\n",
      " [1 0 0]\n",
      " [1 1 0]\n",
      " [1 1 1]]\n",
      "subcube [3, 4]\n",
      "Number unique items: 4\n",
      "Unique items: [[0 0]\n",
      " [0 1]\n",
      " [1 0]\n",
      " [1 1]]\n",
      "subcube [0, 1, 2, 4]\n",
      "Number unique items: 9\n",
      "Unique items: [[0 0 0 1]\n",
      " [0 0 1 1]\n",
      " [0 1 0 0]\n",
      " [0 1 1 0]\n",
      " [1 0 0 1]\n",
      " [1 0 1 0]\n",
      " [1 0 1 1]\n",
      " [1 1 0 0]\n",
      " [1 1 0 1]]\n",
      "subcube [1, 2, 4]\n",
      "Number unique items: 6\n",
      "Unique items: [[0 0 1]\n",
      " [0 1 0]\n",
      " [0 1 1]\n",
      " [1 0 0]\n",
      " [1 0 1]\n",
      " [1 1 0]]\n",
      "subcube [0, 2, 4]\n",
      "Number unique items: 8\n",
      "Unique items: [[0 0 0]\n",
      " [0 0 1]\n",
      " [0 1 0]\n",
      " [0 1 1]\n",
      " [1 0 0]\n",
      " [1 0 1]\n",
      " [1 1 0]\n",
      " [1 1 1]]\n",
      "subcube [2, 4]\n",
      "Number unique items: 4\n",
      "Unique items: [[0 0]\n",
      " [0 1]\n",
      " [1 0]\n",
      " [1 1]]\n",
      "subcube [0, 1, 4]\n",
      "Number unique items: 6\n",
      "Unique items: [[0 0 1]\n",
      " [0 1 0]\n",
      " [1 0 0]\n",
      " [1 0 1]\n",
      " [1 1 0]\n",
      " [1 1 1]]\n",
      "subcube [1, 4]\n",
      "Number unique items: 4\n",
      "Unique items: [[0 0]\n",
      " [0 1]\n",
      " [1 0]\n",
      " [1 1]]\n",
      "subcube [0, 4]\n",
      "Number unique items: 4\n",
      "Unique items: [[0 0]\n",
      " [0 1]\n",
      " [1 0]\n",
      " [1 1]]\n",
      "subcube [4]\n",
      "Number unique items: 2\n",
      "Unique items: [[0]\n",
      " [1]]\n",
      "subcube [0, 1, 2, 3]\n",
      "Number unique items: 9\n",
      "Unique items: [[0 0 0 0]\n",
      " [0 0 0 1]\n",
      " [0 0 1 0]\n",
      " [0 1 0 0]\n",
      " [0 1 1 1]\n",
      " [1 0 0 1]\n",
      " [1 0 1 1]\n",
      " [1 1 0 0]\n",
      " [1 1 0 1]]\n",
      "subcube [1, 2, 3]\n",
      "Number unique items: 7\n",
      "Unique items: [[0 0 0]\n",
      " [0 0 1]\n",
      " [0 1 0]\n",
      " [0 1 1]\n",
      " [1 0 0]\n",
      " [1 0 1]\n",
      " [1 1 1]]\n",
      "subcube [0, 2, 3]\n",
      "Number unique items: 7\n",
      "Unique items: [[0 0 0]\n",
      " [0 0 1]\n",
      " [0 1 0]\n",
      " [0 1 1]\n",
      " [1 0 0]\n",
      " [1 0 1]\n",
      " [1 1 1]]\n",
      "subcube [2, 3]\n",
      "Number unique items: 4\n",
      "Unique items: [[0 0]\n",
      " [0 1]\n",
      " [1 0]\n",
      " [1 1]]\n",
      "subcube [0, 1, 3]\n",
      "Number unique items: 7\n",
      "Unique items: [[0 0 0]\n",
      " [0 0 1]\n",
      " [0 1 0]\n",
      " [0 1 1]\n",
      " [1 0 1]\n",
      " [1 1 0]\n",
      " [1 1 1]]\n",
      "subcube [1, 3]\n",
      "Number unique items: 4\n",
      "Unique items: [[0 0]\n",
      " [0 1]\n",
      " [1 0]\n",
      " [1 1]]\n",
      "subcube [0, 3]\n",
      "Number unique items: 4\n",
      "Unique items: [[0 0]\n",
      " [0 1]\n",
      " [1 0]\n",
      " [1 1]]\n",
      "subcube [3]\n",
      "Number unique items: 2\n",
      "Unique items: [[0]\n",
      " [1]]\n",
      "subcube [0, 1, 2]\n",
      "Number unique items: 7\n",
      "Unique items: [[0 0 0]\n",
      " [0 0 1]\n",
      " [0 1 0]\n",
      " [0 1 1]\n",
      " [1 0 0]\n",
      " [1 0 1]\n",
      " [1 1 0]]\n",
      "subcube [1, 2]\n",
      "Number unique items: 4\n",
      "Unique items: [[0 0]\n",
      " [0 1]\n",
      " [1 0]\n",
      " [1 1]]\n",
      "subcube [0, 2]\n",
      "Number unique items: 4\n",
      "Unique items: [[0 0]\n",
      " [0 1]\n",
      " [1 0]\n",
      " [1 1]]\n",
      "subcube [2]\n",
      "Number unique items: 2\n",
      "Unique items: [[0]\n",
      " [1]]\n",
      "subcube [0, 1]\n",
      "Number unique items: 4\n",
      "Unique items: [[0 0]\n",
      " [0 1]\n",
      " [1 0]\n",
      " [1 1]]\n",
      "subcube [1]\n",
      "Number unique items: 2\n",
      "Unique items: [[0]\n",
      " [1]]\n",
      "subcube [0]\n",
      "Number unique items: 2\n",
      "Unique items: [[0]\n",
      " [1]]\n"
     ]
    }
   ],
   "source": [
    "count_distinct([0,1,2,3,4], generate_data(10,5))"
   ]
  },
  {
   "cell_type": "code",
   "execution_count": 53,
   "metadata": {},
   "outputs": [],
   "source": [
    "x = findsubsets([1,2,3], 2)"
   ]
  },
  {
   "cell_type": "code",
   "execution_count": 54,
   "metadata": {},
   "outputs": [
    {
     "data": {
      "text/plain": [
       "(1, 2)"
      ]
     },
     "execution_count": 54,
     "metadata": {},
     "output_type": "execute_result"
    }
   ],
   "source": [
    "x[0]"
   ]
  },
  {
   "cell_type": "code",
   "execution_count": 139,
   "metadata": {},
   "outputs": [],
   "source": []
  },
  {
   "cell_type": "code",
   "execution_count": 158,
   "metadata": {},
   "outputs": [
    {
     "name": "stdout",
     "output_type": "stream",
     "text": [
      "[1, 2, 3]\n",
      "[2, 3]\n",
      "[1, 3]\n",
      "[3]\n",
      "[1, 2]\n",
      "[2]\n",
      "[1]\n",
      "[]\n"
     ]
    }
   ],
   "source": [
    "for i in powerset([1,2,3]):\n",
    "    print(i)"
   ]
  },
  {
   "cell_type": "code",
   "execution_count": null,
   "metadata": {
    "collapsed": true
   },
   "outputs": [],
   "source": []
  }
 ],
 "metadata": {
  "kernelspec": {
   "display_name": "Python 3",
   "language": "python",
   "name": "python3"
  },
  "language_info": {
   "codemirror_mode": {
    "name": "ipython",
    "version": 3
   },
   "file_extension": ".py",
   "mimetype": "text/x-python",
   "name": "python",
   "nbconvert_exporter": "python",
   "pygments_lexer": "ipython3",
   "version": "3.6.3"
  }
 },
 "nbformat": 4,
 "nbformat_minor": 2
}
