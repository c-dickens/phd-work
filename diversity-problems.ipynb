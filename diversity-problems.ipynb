{
 "cells": [
  {
   "cell_type": "code",
   "execution_count": 1,
   "metadata": {
    "collapsed": true
   },
   "outputs": [],
   "source": [
    "import numpy as np\n",
    "import itertools\n",
    "from itertools import chain, combinations\n",
    "from collections import Counter\n",
    "import matplotlib.pyplot as plt\n",
    "%matplotlib inline"
   ]
  },
  {
   "cell_type": "code",
   "execution_count": 2,
   "metadata": {
    "collapsed": true
   },
   "outputs": [],
   "source": [
    "def generate_data(nrows, ncols):\n",
    "    return np.random.choice([0, 1], size=(nrows, ncols), p=[0.9, 0.1])\n",
    "    "
   ]
  },
  {
   "cell_type": "code",
   "execution_count": 3,
   "metadata": {},
   "outputs": [
    {
     "data": {
      "text/plain": [
       "array([[0, 0, 0, 0, 0],\n",
       "       [0, 0, 0, 0, 0],\n",
       "       [0, 0, 0, 0, 1],\n",
       "       [0, 1, 0, 0, 0],\n",
       "       [0, 0, 0, 0, 0],\n",
       "       [0, 0, 0, 0, 0],\n",
       "       [0, 0, 0, 0, 0],\n",
       "       [0, 0, 0, 0, 0],\n",
       "       [0, 0, 0, 0, 0],\n",
       "       [1, 0, 0, 0, 0]])"
      ]
     },
     "execution_count": 3,
     "metadata": {},
     "output_type": "execute_result"
    }
   ],
   "source": [
    "generate_data(10,5)"
   ]
  },
  {
   "cell_type": "code",
   "execution_count": 4,
   "metadata": {
    "collapsed": true
   },
   "outputs": [],
   "source": [
    "def findsubsets(S,m):\n",
    "    '''finds subsets of S of size m'''\n",
    "    return list(itertools.combinations(S, m))"
   ]
  },
  {
   "cell_type": "code",
   "execution_count": 5,
   "metadata": {
    "collapsed": true
   },
   "outputs": [],
   "source": [
    "def powerset(seq):\n",
    "    \"\"\"\n",
    "    Returns all the subsets of this set. This is a generator.\n",
    "    \"\"\"\n",
    "    if len(seq) <= 1:\n",
    "        yield seq\n",
    "        yield []\n",
    "    else:\n",
    "        for item in powerset(seq[1:]):\n",
    "            yield [seq[0]]+item\n",
    "            yield item"
   ]
  },
  {
   "cell_type": "code",
   "execution_count": 6,
   "metadata": {
    "collapsed": true
   },
   "outputs": [],
   "source": [
    "def count_distinct(index_list, data, subset_size):\n",
    "    '''index_list must be a list or array in {0,...,d}.\n",
    "    Generates all subsets and prints the length subset_size ones.'''\n",
    "    if (type(index_list) != list):\n",
    "        index_list = list(index_list)\n",
    "        \n",
    "    \n",
    "    A = data\n",
    "    print(\"Number unique items in data: {}\".format(len(np.unique(A, axis=0))))\n",
    "    #print(A)\n",
    "    n,d = A.shape\n",
    "    T = index_list\n",
    "    \n",
    "    if len(T) > d: # catch error when T is too large\n",
    "        raise ValueError(\"T is {} but must be at most {}\".format(len(T),d))\n",
    "    subsets = powerset(T) \n",
    "    max_diversity = 0\n",
    "    max_diversity_indices = []\n",
    "    counter = 0\n",
    "    for subcube in powerset(T):\n",
    "        if len(subcube) == subset_size:\n",
    "            #counter += 1\n",
    "            A_subcube = A[:,subcube]\n",
    "            diversity = len(np.unique(A_subcube, axis=0))\n",
    "            print(\"subcube {}, No. unique items {}\".format(subcube,\\\n",
    "                                                diversity))\n",
    "            \n",
    "            if (diversity >= max_diversity):\n",
    "                max_diversity_indices.append(subcube)\n",
    "                max_diversity = diversity       \n",
    "            \n",
    "    return max_diversity, max_diversity_indices#, counter        "
   ]
  },
  {
   "cell_type": "code",
   "execution_count": 12,
   "metadata": {
    "collapsed": true
   },
   "outputs": [],
   "source": [
    "A = generate_data(20,6)\n",
    "#B = generate_data(10,5)\n",
    "#C = np.c_[A,B]"
   ]
  },
  {
   "cell_type": "code",
   "execution_count": 13,
   "metadata": {},
   "outputs": [
    {
     "data": {
      "text/plain": [
       "array([[0, 0, 0, 0, 0, 0],\n",
       "       [0, 0, 0, 0, 0, 0],\n",
       "       [0, 0, 1, 0, 0, 0],\n",
       "       [0, 0, 0, 0, 0, 0],\n",
       "       [0, 0, 0, 0, 0, 1],\n",
       "       [0, 0, 0, 0, 1, 0],\n",
       "       [0, 0, 1, 0, 0, 0],\n",
       "       [0, 1, 0, 1, 0, 0],\n",
       "       [0, 0, 0, 0, 1, 0],\n",
       "       [0, 1, 0, 0, 0, 0],\n",
       "       [0, 0, 0, 0, 0, 0],\n",
       "       [1, 0, 0, 0, 0, 0],\n",
       "       [0, 0, 0, 0, 0, 0],\n",
       "       [1, 1, 0, 0, 0, 0],\n",
       "       [0, 0, 0, 0, 0, 1],\n",
       "       [0, 1, 0, 0, 0, 0],\n",
       "       [0, 0, 0, 0, 0, 0],\n",
       "       [0, 0, 0, 1, 0, 1],\n",
       "       [0, 0, 0, 0, 0, 0],\n",
       "       [0, 0, 0, 0, 0, 0]])"
      ]
     },
     "execution_count": 13,
     "metadata": {},
     "output_type": "execute_result"
    }
   ],
   "source": [
    "A"
   ]
  },
  {
   "cell_type": "code",
   "execution_count": 14,
   "metadata": {},
   "outputs": [
    {
     "name": "stdout",
     "output_type": "stream",
     "text": [
      "Number unique items in data: 9\n",
      "subcube [1, 2, 3, 4, 5], No. unique items 7\n",
      "subcube [0, 2, 3, 4, 5], No. unique items 7\n",
      "subcube [0, 1, 3, 4, 5], No. unique items 8\n",
      "subcube [0, 1, 2, 4, 5], No. unique items 7\n",
      "subcube [0, 1, 2, 3, 5], No. unique items 8\n",
      "subcube [0, 1, 2, 3, 4], No. unique items 8\n"
     ]
    }
   ],
   "source": [
    "A_max_div, A_max_div_ids = count_distinct(range(A.shape[1]), A, subset_size=5)"
   ]
  },
  {
   "cell_type": "code",
   "execution_count": 15,
   "metadata": {},
   "outputs": [
    {
     "name": "stdout",
     "output_type": "stream",
     "text": [
      "Number unique items in data: 9\n",
      "subcube [2, 3, 4, 5], No. unique items 6\n",
      "subcube [1, 3, 4, 5], No. unique items 6\n",
      "subcube [0, 3, 4, 5], No. unique items 6\n",
      "subcube [1, 2, 4, 5], No. unique items 5\n",
      "subcube [0, 2, 4, 5], No. unique items 5\n",
      "subcube [0, 1, 4, 5], No. unique items 6\n",
      "subcube [1, 2, 3, 5], No. unique items 6\n",
      "subcube [0, 2, 3, 5], No. unique items 6\n",
      "subcube [0, 1, 3, 5], No. unique items 7\n",
      "subcube [0, 1, 2, 5], No. unique items 6\n",
      "subcube [1, 2, 3, 4], No. unique items 6\n",
      "subcube [0, 2, 3, 4], No. unique items 5\n",
      "subcube [0, 1, 3, 4], No. unique items 7\n",
      "subcube [0, 1, 2, 4], No. unique items 6\n",
      "subcube [0, 1, 2, 3], No. unique items 7\n"
     ]
    }
   ],
   "source": [
    "A_max_div, A_max_div_ids = count_distinct(range(A.shape[1]), A, subset_size=4)"
   ]
  },
  {
   "cell_type": "code",
   "execution_count": 16,
   "metadata": {},
   "outputs": [
    {
     "name": "stdout",
     "output_type": "stream",
     "text": [
      "Number unique items in data: 9\n",
      "subcube [3, 4, 5], No. unique items 5\n",
      "subcube [2, 4, 5], No. unique items 4\n",
      "subcube [1, 4, 5], No. unique items 4\n",
      "subcube [0, 4, 5], No. unique items 4\n",
      "subcube [2, 3, 5], No. unique items 5\n",
      "subcube [1, 3, 5], No. unique items 5\n",
      "subcube [0, 3, 5], No. unique items 5\n",
      "subcube [1, 2, 5], No. unique items 4\n",
      "subcube [0, 2, 5], No. unique items 4\n",
      "subcube [0, 1, 5], No. unique items 5\n",
      "subcube [2, 3, 4], No. unique items 4\n",
      "subcube [1, 3, 4], No. unique items 5\n",
      "subcube [0, 3, 4], No. unique items 4\n",
      "subcube [1, 2, 4], No. unique items 4\n",
      "subcube [0, 2, 4], No. unique items 4\n",
      "subcube [0, 1, 4], No. unique items 5\n",
      "subcube [1, 2, 3], No. unique items 5\n",
      "subcube [0, 2, 3], No. unique items 4\n",
      "subcube [0, 1, 3], No. unique items 6\n",
      "subcube [0, 1, 2], No. unique items 5\n"
     ]
    }
   ],
   "source": [
    "A_max_div, A_max_div_ids = count_distinct(range(A.shape[1]), A, subset_size=3)"
   ]
  },
  {
   "cell_type": "code",
   "execution_count": 31,
   "metadata": {},
   "outputs": [
    {
     "name": "stdout",
     "output_type": "stream",
     "text": [
      "Number unique items in data: 14\n",
      "subcube [4, 5], No. unique items 4\n",
      "subcube [3, 5], No. unique items 4\n",
      "subcube [2, 5], No. unique items 3\n",
      "subcube [1, 5], No. unique items 3\n",
      "subcube [0, 5], No. unique items 4\n",
      "subcube [3, 4], No. unique items 4\n",
      "subcube [2, 4], No. unique items 3\n",
      "subcube [1, 4], No. unique items 3\n",
      "subcube [0, 4], No. unique items 3\n",
      "subcube [2, 3], No. unique items 4\n",
      "subcube [1, 3], No. unique items 4\n",
      "subcube [0, 3], No. unique items 4\n",
      "subcube [1, 2], No. unique items 3\n",
      "subcube [0, 2], No. unique items 3\n",
      "subcube [0, 1], No. unique items 3\n"
     ]
    }
   ],
   "source": [
    "A_max_div, A_max_div_ids = count_distinct(range(A.shape[1]), A, subset_size=2)"
   ]
  },
  {
   "cell_type": "markdown",
   "metadata": {},
   "source": [
    "### Frequency plotting (may not be necessary)"
   ]
  },
  {
   "cell_type": "code",
   "execution_count": 148,
   "metadata": {
    "collapsed": true
   },
   "outputs": [],
   "source": [
    "def plot_frequency(diverse_ids, data_name):\n",
    "    '''Plots the bar chart showing the frequency of an index in\n",
    "    subcubes which are diverse.\n",
    "    Data name should be a string'''\n",
    "    diverse_multiset = np.ravel(diverse_ids)\n",
    "    subcube_index, counts = np.unique(np.ravel(diverse_ids), return_counts=True)\n",
    "    fig,ax = plt.subplots()\n",
    "    ax.bar(x=subcube_index, height=counts)\n",
    "    ax.set_xlabel(\"Index\")\n",
    "    ax.set_xticks(subcube_index)\n",
    "    ax.set_ylabel(\"Count in diverse set\")\n",
    "    ax.set_title(\"Index counts in diverse sets for data {}\".format(data_name))"
   ]
  },
  {
   "cell_type": "code",
   "execution_count": 250,
   "metadata": {},
   "outputs": [
    {
     "data": {
      "image/png": "[encoded data removed]",
      "text/plain": [
       "<matplotlib.figure.Figure at 0x1147cdcf8>"
      ]
     },
     "metadata": {},
     "output_type": "display_data"
    }
   ],
   "source": [
    "plot_frequency(A_max_div_ids, \"A\")"
   ]
  },
  {
   "cell_type": "code",
   "execution_count": 251,
   "metadata": {},
   "outputs": [
    {
     "data": {
      "image/png": "[encoded data removed]",
      "text/plain": [
       "<matplotlib.figure.Figure at 0x10e676b70>"
      ]
     },
     "metadata": {},
     "output_type": "display_data"
    }
   ],
   "source": [
    "plot_frequency(B_max_div_ids, \"B\")"
   ]
  },
  {
   "cell_type": "code",
   "execution_count": 252,
   "metadata": {},
   "outputs": [
    {
     "data": {
      "image/png": "[encoded data removed]",
      "text/plain": [
       "<matplotlib.figure.Figure at 0x1147e8550>"
      ]
     },
     "metadata": {},
     "output_type": "display_data"
    }
   ],
   "source": [
    "plot_frequency(C_max_div_ids, \"C\")"
   ]
  },
  {
   "cell_type": "markdown",
   "metadata": {},
   "source": [
    "### Leverage score approach\n",
    "Can we calculate column leverage scores and use these to guide which rows should be kept?"
   ]
  },
  {
   "cell_type": "code",
   "execution_count": 378,
   "metadata": {
    "collapsed": true
   },
   "outputs": [],
   "source": [
    "from numpy.linalg import norm\n",
    "\n",
    "def column_leverage(matrix):\n",
    "    A = matrix\n",
    "    n,d = A.shape\n",
    "    q,r = np.linalg.qr(A)\n",
    "    row_norms = norm(A, axis=0)**2 / norm(A, ord='fro')\n",
    "    return row_norms"
   ]
  },
  {
   "cell_type": "code",
   "execution_count": 379,
   "metadata": {},
   "outputs": [
    {
     "data": {
      "text/plain": [
       "array([ 1.30930734,  0.21821789,  0.65465367,  1.09108945,  1.30930734])"
      ]
     },
     "execution_count": 379,
     "metadata": {},
     "output_type": "execute_result"
    }
   ],
   "source": [
    "column_leverage(A)"
   ]
  },
  {
   "cell_type": "code",
   "execution_count": 383,
   "metadata": {},
   "outputs": [
    {
     "name": "stdout",
     "output_type": "stream",
     "text": [
      "Number unique items in data: 10\n",
      "subcube [2, 3, 4], No. unique items 7\n",
      "subcube [1, 3, 4], No. unique items 5\n",
      "subcube [0, 3, 4], No. unique items 8\n",
      "subcube [1, 2, 4], No. unique items 5\n",
      "subcube [0, 2, 4], No. unique items 6\n",
      "subcube [0, 1, 4], No. unique items 5\n",
      "subcube [1, 2, 3], No. unique items 5\n",
      "subcube [0, 2, 3], No. unique items 7\n",
      "subcube [0, 1, 3], No. unique items 5\n",
      "subcube [0, 1, 2], No. unique items 5\n"
     ]
    }
   ],
   "source": [
    "A_max_div, A_max_div_ids = count_distinct(range(A.shape[1]), A, subset_size=3)"
   ]
  },
  {
   "cell_type": "code",
   "execution_count": 384,
   "metadata": {},
   "outputs": [
    {
     "data": {
      "text/plain": [
       "[[2, 3, 4], [0, 3, 4]]"
      ]
     },
     "execution_count": 384,
     "metadata": {},
     "output_type": "execute_result"
    }
   ],
   "source": [
    "A_max_div_ids"
   ]
  },
  {
   "cell_type": "code",
   "execution_count": 385,
   "metadata": {},
   "outputs": [
    {
     "data": {
      "text/plain": [
       "array([ 0.8,  0.8,  1.4,  1.2,  0.8])"
      ]
     },
     "execution_count": 385,
     "metadata": {},
     "output_type": "execute_result"
    }
   ],
   "source": [
    "column_leverage(B)"
   ]
  },
  {
   "cell_type": "code",
   "execution_count": 386,
   "metadata": {},
   "outputs": [
    {
     "name": "stdout",
     "output_type": "stream",
     "text": [
      "Number unique items in data: 8\n",
      "subcube [2, 3, 4], No. unique items 6\n",
      "subcube [1, 3, 4], No. unique items 7\n",
      "subcube [0, 3, 4], No. unique items 5\n",
      "subcube [1, 2, 4], No. unique items 6\n",
      "subcube [0, 2, 4], No. unique items 6\n",
      "subcube [0, 1, 4], No. unique items 6\n",
      "subcube [1, 2, 3], No. unique items 6\n",
      "subcube [0, 2, 3], No. unique items 5\n",
      "subcube [0, 1, 3], No. unique items 5\n",
      "subcube [0, 1, 2], No. unique items 6\n"
     ]
    }
   ],
   "source": [
    "B_max_div, B_max_div_ids = count_distinct(range(B.shape[1]), B, subset_size=3)"
   ]
  },
  {
   "cell_type": "code",
   "execution_count": 387,
   "metadata": {},
   "outputs": [
    {
     "data": {
      "text/plain": [
       "[[2, 3, 4], [1, 3, 4]]"
      ]
     },
     "execution_count": 387,
     "metadata": {},
     "output_type": "execute_result"
    }
   ],
   "source": [
    "B_max_div_ids"
   ]
  },
  {
   "cell_type": "code",
   "execution_count": null,
   "metadata": {
    "collapsed": true
   },
   "outputs": [],
   "source": []
  }
 ],
 "metadata": {
  "kernelspec": {
   "display_name": "Python 3",
   "language": "python",
   "name": "python3"
  },
  "language_info": {
   "codemirror_mode": {
    "name": "ipython",
    "version": 3
   },
   "file_extension": ".py",
   "mimetype": "text/x-python",
   "name": "python",
   "nbconvert_exporter": "python",
   "pygments_lexer": "ipython3",
   "version": "3.6.3"
  }
 },
 "nbformat": 4,
 "nbformat_minor": 2
}
