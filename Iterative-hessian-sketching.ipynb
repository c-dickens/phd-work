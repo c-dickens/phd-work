{
 "cells": [
  {
   "cell_type": "markdown",
   "metadata": {},
   "source": [
    "# Iterative Hessian Sketching for Regression\n",
    "Code to reproduce results from https://arxiv.org/abs/1411.0347"
   ]
  },
  {
   "cell_type": "code",
   "execution_count": 1,
   "metadata": {
    "collapsed": true
   },
   "outputs": [],
   "source": [
    "import numpy as np\n",
    "import scipy as sp\n",
    "from sklearn.datasets import make_regression\n",
    "from scipy.optimize import minimize\n",
    "from sklearn.metrics import mean_squared_error\n",
    "import matplotlib.pyplot as plt\n",
    "%matplotlib inline\n",
    "\n",
    "from numpy.linalg import norm"
   ]
  },
  {
   "cell_type": "code",
   "execution_count": 2,
   "metadata": {
    "collapsed": true
   },
   "outputs": [],
   "source": [
    "def gaussian_sketch(nrows, ncols):\n",
    "    '''Generate a Gausian sketching matrix of size\n",
    "    (nrows, ncols)'''\n",
    "    return (1/np.sqrt(nrows))*np.random.randn(nrows, ncols)"
   ]
  },
  {
   "cell_type": "code",
   "execution_count": 3,
   "metadata": {
    "collapsed": true
   },
   "outputs": [],
   "source": [
    "def generate_data(nsamples, nfeatures, variance=1):\n",
    "    '''Generates a data matrix of size (nsamples, nfeatures)\n",
    "    which defines a linear relationship on the variables.'''\n",
    "    X, y, coef = make_regression(n_samples=nsamples, n_features=nfeatures,\\\n",
    "                        n_informative=nfeatures,noise=variance,coef=True)\n",
    "    #X[:,0] = np.ones(shape=(nsamples)) # add bias terms\n",
    "    return X, y, coef"
   ]
  },
  {
   "cell_type": "code",
   "execution_count": 4,
   "metadata": {},
   "outputs": [
    {
     "name": "stdout",
     "output_type": "stream",
     "text": [
      "[ 53.68660231  19.62507652]\n",
      "(1000, 2)\n"
     ]
    }
   ],
   "source": [
    "X,y, coef = generate_data(1000,2)\n",
    "print(coef)\n",
    "print(X.shape)"
   ]
  },
  {
   "cell_type": "code",
   "execution_count": 5,
   "metadata": {
    "collapsed": true
   },
   "outputs": [],
   "source": [
    "def iterative_hessian(data, targets, sketch_size, num_iters):\n",
    "    '''\n",
    "    Input:\n",
    "    data - n x d matrix\n",
    "    targets - n x 1 target variables\n",
    "    num_iters - how many iterations to perform.  \n",
    "    Need log(1/eps) -- > num_iters for eps accuracy where\n",
    "    eps is relative error in the semi-norm ||u-v||_A = \n",
    "    1/sqrt(n)*||A(u-v)||_2.\n",
    "    \n",
    "    \n",
    "    Add functionality for lower bound on sketch size\n",
    "    '''\n",
    "    A = data\n",
    "    y = targets\n",
    "    n,d = A.shape\n",
    "    x0 = np.zeros(shape=(d,1))\n",
    "    m = int(sketch_size) # sketching dimension\n",
    "    \n",
    "    ATy = A.T.dot(y)[:,None]\n",
    "    covariance_mat = A.T.dot(A)\n",
    "   \n",
    "    for n_iter in range(int(num_iters)):\n",
    "        S = gaussian_sketch(m, n)\n",
    "        S_A = S.dot(A)\n",
    "        B = S_A.T.dot(S_A)\n",
    "        z = ATy - covariance_mat.dot(x0) + np.dot(S_A.T, (np.dot(S_A,x0)))\n",
    "        sol = sp.linalg.lstsq(B,z)\n",
    "        x_new = sol[0] \n",
    "        \n",
    "        \n",
    "        ### KEEP BELOW AS THIS WILL BE USED FOR LASSO OR\n",
    "        ### PENALISED REGRESSION.\n",
    "        \n",
    "        #x0 = np.zeros((X.shape[0],1))\n",
    "        #xt = np.zeros((2,1))\n",
    "        #x_new = np.zeros((2,1))\n",
    "        #for it in range(20):\n",
    "        #    result = minimize(f2min, x0=x_new,args=(X,y,x_new),\n",
    "        #                     method='L-BFGS-B', jac=False )\n",
    "        #    print(result)\n",
    "        #    x_new = result.x\n",
    "        \n",
    "        x_new = sp.linalg.solve(B,z)\n",
    "        #print(\"ITERATION {}: ||x_t - x_t+1|| = {}\".\\\n",
    "                  #format(n_iter, np.linalg.norm(x0-x_new)))\n",
    "        x0 = x_new\n",
    "    return np.ravel(x0)"
   ]
  },
  {
   "cell_type": "code",
   "execution_count": 6,
   "metadata": {},
   "outputs": [
    {
     "name": "stderr",
     "output_type": "stream",
     "text": [
      "/Users/cdickens/anaconda3/lib/python3.6/site-packages/scipy/linalg/basic.py:1226: RuntimeWarning: internal gelsd driver lwork query error, required iwork dimension not returned. This is likely the result of LAPACK bug 0038, fixed in LAPACK 3.2.2 (released July 21, 2010). Falling back to 'gelss' driver.\n",
      "  warnings.warn(mesg, RuntimeWarning)\n"
     ]
    }
   ],
   "source": [
    "x_hat = iterative_hessian(X,y, X.shape[0]//2, 10)"
   ]
  },
  {
   "cell_type": "code",
   "execution_count": 7,
   "metadata": {},
   "outputs": [
    {
     "data": {
      "text/plain": [
       "array([ 53.73342548,  19.62552371])"
      ]
     },
     "execution_count": 7,
     "metadata": {},
     "output_type": "execute_result"
    }
   ],
   "source": [
    "x_hat"
   ]
  },
  {
   "cell_type": "code",
   "execution_count": 8,
   "metadata": {},
   "outputs": [
    {
     "name": "stdout",
     "output_type": "stream",
     "text": [
      "(2, 1)\n"
     ]
    }
   ],
   "source": [
    "x_true = sp.linalg.lstsq(X,y)\n",
    "x_true[0]\n",
    "print(x_true[0][:,None].shape)\n"
   ]
  },
  {
   "cell_type": "code",
   "execution_count": null,
   "metadata": {
    "collapsed": true
   },
   "outputs": [],
   "source": []
  },
  {
   "cell_type": "code",
   "execution_count": 9,
   "metadata": {},
   "outputs": [
    {
     "data": {
      "text/plain": [
       "<matplotlib.collections.PathCollection at 0x111f34be0>"
      ]
     },
     "execution_count": 9,
     "metadata": {},
     "output_type": "execute_result"
    },
    {
     "data": {
      "image/png": "[encoded data removed]",
      "text/plain": [
       "<matplotlib.figure.Figure at 0x110c36dd8>"
      ]
     },
     "metadata": {},
     "output_type": "display_data"
    }
   ],
   "source": [
    "fig, ax = plt.subplots()\n",
    "ax.scatter(X[:,1], y)\n",
    "#ax.plot(X[:,1], np.sort(X@coef))\n",
    "#ax.plot(X[:,1],X@x_hat)"
   ]
  },
  {
   "cell_type": "markdown",
   "metadata": {},
   "source": [
    "### Checking the optimisation step\n",
    "We need to use $x_{t+1} \\leftarrow \\text{argmin}_{x \\in C} \\|SA(x-x_t)\\|_2^2 - (y - Ax_t)^TAx$.  To do this we will invoke the scipy minimizer but we this only minimises with one dimensional inputs so we need a local function.  "
   ]
  },
  {
   "cell_type": "code",
   "execution_count": 10,
   "metadata": {
    "collapsed": true
   },
   "outputs": [],
   "source": [
    "def lstsq(start_x, sketch, data, target):\n",
    "    S = sketch #\n",
    "    A = data\n",
    "    y = target\n",
    "    x0 = start_x\n",
    "    return norm(S@A@x0-S@y)**2"
   ]
  },
  {
   "cell_type": "code",
   "execution_count": 11,
   "metadata": {
    "collapsed": true
   },
   "outputs": [],
   "source": [
    "res = minimize(lstsq, x0=np.zeros((2,1)),args=(gaussian_sketch(750,1000), X,y))"
   ]
  },
  {
   "cell_type": "code",
   "execution_count": 12,
   "metadata": {},
   "outputs": [
    {
     "data": {
      "text/plain": [
       "      fun: 985.7391107102227\n",
       " hess_inv: array([[ 0.00010496, -0.0001129 ],\n",
       "       [-0.0001129 ,  0.0002624 ]])\n",
       "      jac: array([  1.52587891e-05,   0.00000000e+00])\n",
       "  message: 'Desired error not necessarily achieved due to precision loss.'\n",
       "     nfev: 73\n",
       "      nit: 10\n",
       "     njev: 18\n",
       "   status: 2\n",
       "  success: False\n",
       "        x: array([ 53.75395617,  19.61118485])"
      ]
     },
     "execution_count": 12,
     "metadata": {},
     "output_type": "execute_result"
    }
   ],
   "source": [
    "res"
   ]
  },
  {
   "cell_type": "code",
   "execution_count": 13,
   "metadata": {
    "collapsed": true
   },
   "outputs": [],
   "source": [
    "def f2min(x, data, target, offset):\n",
    "    A = data\n",
    "    S = np.eye(A.shape[0])\n",
    "    #S = gaussian_sketch(nrows=A.shape[0]//2, ncols=A.shape[0] )\n",
    "    #print(S.shape)\n",
    "    #print(A.shape)\n",
    "    y = target\n",
    "    xt = np.ravel(offset)\n",
    "\n",
    "    #print(xt.shape)\n",
    "    #print((S@y).shape)\n",
    "    #print((S@A@(x-xt)).shape)\n",
    "    norm_val = norm(S@A@(x-xt))**2 #(1/2*S.shape[0])*\n",
    "    inner_prod = (y - A@xt).T@A@(x-xt)\n",
    "    \n",
    "    return norm_val - inner_prod"
   ]
  },
  {
   "cell_type": "code",
   "execution_count": 14,
   "metadata": {
    "collapsed": true
   },
   "outputs": [],
   "source": [
    "def grad_f2min(x, data, target, offset):\n",
    "    A = data\n",
    "    y = target\n",
    "    S = np.eye(A.shape[0])\n",
    "    xt = np.ravel(offset)\n",
    "    S_A = S@A\n",
    "    grad = S_A.T@S_A@(x-xt) - A.T@(y-A@xt)\n",
    "    \n",
    "    return grad"
   ]
  },
  {
   "cell_type": "code",
   "execution_count": 15,
   "metadata": {},
   "outputs": [
    {
     "name": "stdout",
     "output_type": "stream",
     "text": [
      "      fun: -884364.64378391474\n",
      " hess_inv: <2x2 LbfgsInvHessProduct with dtype=float64>\n",
      "      jac: array([ 0.        ,  0.01164153])\n",
      "  message: b'CONVERGENCE: REL_REDUCTION_OF_F_<=_FACTR*EPSMCH'\n",
      "     nfev: 21\n",
      "      nit: 5\n",
      "   status: 0\n",
      "  success: True\n",
      "        x: array([ 26.86670809,   9.81274985])\n",
      "      fun: -221091.28680638617\n",
      " hess_inv: <2x2 LbfgsInvHessProduct with dtype=float64>\n",
      "      jac: array([ 0.00291038,  0.00291038])\n",
      "  message: b'CONVERGENCE: REL_REDUCTION_OF_F_<=_FACTR*EPSMCH'\n",
      "     nfev: 21\n",
      "      nit: 5\n",
      "   status: 0\n",
      "  success: True\n",
      "        x: array([ 40.30006827,  14.71913598])\n",
      "      fun: -55272.812660837975\n",
      " hess_inv: <2x2 LbfgsInvHessProduct with dtype=float64>\n",
      "      jac: array([-0.0007276 , -0.00145519])\n",
      "  message: b'CONVERGENCE: REL_REDUCTION_OF_F_<=_FACTR*EPSMCH'\n",
      "     nfev: 18\n",
      "      nit: 5\n",
      "   status: 0\n",
      "  success: True\n",
      "        x: array([ 47.01674669,  17.17232964])\n",
      "      fun: -13818.204074663925\n",
      " hess_inv: <2x2 LbfgsInvHessProduct with dtype=float64>\n",
      "      jac: array([ 0.       , -0.0001819])\n",
      "  message: b'CONVERGENCE: REL_REDUCTION_OF_F_<=_FACTR*EPSMCH'\n",
      "     nfev: 18\n",
      "      nit: 5\n",
      "   status: 0\n",
      "  success: True\n",
      "        x: array([ 50.37508608,  18.39892663])\n",
      "      fun: -3454.5510549393812\n",
      " hess_inv: <2x2 LbfgsInvHessProduct with dtype=float64>\n",
      "      jac: array([  4.54747351e-05,   9.09494702e-05])\n",
      "  message: b'CONVERGENCE: REL_REDUCTION_OF_F_<=_FACTR*EPSMCH'\n",
      "     nfev: 18\n",
      "      nit: 5\n",
      "   status: 0\n",
      "  success: True\n",
      "        x: array([ 52.05425575,  19.01222517])\n",
      "      fun: -863.63779087551404\n",
      " hess_inv: <2x2 LbfgsInvHessProduct with dtype=float64>\n",
      "      jac: array([  3.41060513e-05,   4.54747351e-05])\n",
      "  message: b'CONVERGENCE: REL_REDUCTION_OF_F_<=_FACTR*EPSMCH'\n",
      "     nfev: 18\n",
      "      nit: 5\n",
      "   status: 0\n",
      "  success: True\n",
      "        x: array([ 52.89384063,  19.31887445])\n",
      "      fun: -215.90943882039136\n",
      " hess_inv: <2x2 LbfgsInvHessProduct with dtype=float64>\n",
      "      jac: array([ -5.68434189e-06,   8.52651283e-06])\n",
      "  message: b'CONVERGENCE: NORM_OF_PROJECTED_GRADIENT_<=_PGTOL'\n",
      "     nfev: 15\n",
      "      nit: 3\n",
      "   status: 0\n",
      "  success: True\n",
      "        x: array([ 53.31363305,  19.47219908])\n",
      "      fun: -53.977361069020205\n",
      " hess_inv: <2x2 LbfgsInvHessProduct with dtype=float64>\n",
      "      jac: array([ -2.13162821e-06,   7.10542736e-07])\n",
      "  message: b'CONVERGENCE: NORM_OF_PROJECTED_GRADIENT_<=_PGTOL'\n",
      "     nfev: 15\n",
      "      nit: 3\n",
      "   status: 0\n",
      "  success: True\n",
      "        x: array([ 53.52352926,  19.54886139])\n",
      "      fun: -13.494341106952692\n",
      " hess_inv: <2x2 LbfgsInvHessProduct with dtype=float64>\n",
      "      jac: array([ -1.77635684e-07,  -1.77635684e-07])\n",
      "  message: b'CONVERGENCE: NORM_OF_PROJECTED_GRADIENT_<=_PGTOL'\n",
      "     nfev: 15\n",
      "      nit: 3\n",
      "   status: 0\n",
      "  success: True\n",
      "        x: array([ 53.62847736,  19.58719254])\n",
      "      fun: -3.3735856646872295\n",
      " hess_inv: <2x2 LbfgsInvHessProduct with dtype=float64>\n",
      "      jac: array([  3.55271368e-07,   2.66453526e-07])\n",
      "  message: b'CONVERGENCE: NORM_OF_PROJECTED_GRADIENT_<=_PGTOL'\n",
      "     nfev: 15\n",
      "      nit: 3\n",
      "   status: 0\n",
      "  success: True\n",
      "        x: array([ 53.68095141,  19.60635812])\n",
      "      fun: -0.84339660475901224\n",
      " hess_inv: <2x2 LbfgsInvHessProduct with dtype=float64>\n",
      "      jac: array([  1.11022302e-08,   3.33066907e-08])\n",
      "  message: b'CONVERGENCE: NORM_OF_PROJECTED_GRADIENT_<=_PGTOL'\n",
      "     nfev: 15\n",
      "      nit: 3\n",
      "   status: 0\n",
      "  success: True\n",
      "        x: array([ 53.70718844,  19.61594091])\n",
      "      fun: -0.21084924684181922\n",
      " hess_inv: <2x2 LbfgsInvHessProduct with dtype=float64>\n",
      "      jac: array([ 0.,  0.])\n",
      "  message: b'CONVERGENCE: NORM_OF_PROJECTED_GRADIENT_<=_PGTOL'\n",
      "     nfev: 15\n",
      "      nit: 3\n",
      "   status: 0\n",
      "  success: True\n",
      "        x: array([ 53.72030695,  19.6207323 ])\n",
      "      fun: -0.05271235949612986\n",
      " hess_inv: <2x2 LbfgsInvHessProduct with dtype=float64>\n",
      "      jac: array([ -2.77555756e-09,  -1.38777878e-09])\n",
      "  message: b'CONVERGENCE: NORM_OF_PROJECTED_GRADIENT_<=_PGTOL'\n",
      "     nfev: 15\n",
      "      nit: 3\n",
      "   status: 0\n",
      "  success: True\n",
      "        x: array([ 53.72686621,  19.623128  ])\n",
      "      fun: -0.01317811377038605\n",
      " hess_inv: <2x2 LbfgsInvHessProduct with dtype=float64>\n",
      "      jac: array([  8.67361738e-10,   0.00000000e+00])\n",
      "  message: b'CONVERGENCE: NORM_OF_PROJECTED_GRADIENT_<=_PGTOL'\n",
      "     nfev: 15\n",
      "      nit: 3\n",
      "   status: 0\n",
      "  success: True\n",
      "        x: array([ 53.73014584,  19.62432585])\n",
      "      fun: -0.0032945403885082159\n",
      " hess_inv: <2x2 LbfgsInvHessProduct with dtype=float64>\n",
      "      jac: array([  4.33680869e-11,   1.73472348e-10])\n",
      "  message: b'CONVERGENCE: NORM_OF_PROJECTED_GRADIENT_<=_PGTOL'\n",
      "     nfev: 15\n",
      "      nit: 3\n",
      "   status: 0\n",
      "  success: True\n",
      "        x: array([ 53.73178565,  19.62492477])\n",
      "      fun: -0.00082364107036275453\n",
      " hess_inv: <2x2 LbfgsInvHessProduct with dtype=float64>\n",
      "      jac: array([  5.42101086e-11,   3.25260652e-11])\n",
      "  message: b'CONVERGENCE: NORM_OF_PROJECTED_GRADIENT_<=_PGTOL'\n",
      "     nfev: 15\n",
      "      nit: 3\n",
      "   status: 0\n",
      "  success: True\n",
      "        x: array([ 53.73260556,  19.62522424])\n",
      "      fun: -0.00020591325421438479\n",
      " hess_inv: <2x2 LbfgsInvHessProduct with dtype=float64>\n",
      "      jac: array([  5.42101086e-12,  -2.71050543e-12])\n",
      "  message: b'CONVERGENCE: NORM_OF_PROJECTED_GRADIENT_<=_PGTOL'\n",
      "     nfev: 15\n",
      "      nit: 3\n",
      "   status: 0\n",
      "  success: True\n",
      "        x: array([ 53.73301551,  19.62537397])\n",
      "      fun: -5.1479806868879097e-05\n",
      " hess_inv: <2x2 LbfgsInvHessProduct with dtype=float64>\n",
      "      jac: array([  2.71050543e-12,   6.77626358e-13])\n",
      "  message: b'CONVERGENCE: NORM_OF_PROJECTED_GRADIENT_<=_PGTOL'\n",
      "     nfev: 15\n",
      "      nit: 3\n",
      "   status: 0\n",
      "  success: True\n",
      "        x: array([ 53.73322049,  19.62544883])\n",
      "      fun: -1.2870698374869301e-05\n",
      " hess_inv: <2x2 LbfgsInvHessProduct with dtype=float64>\n",
      "      jac: array([  2.03287907e-12,   1.35525272e-12])\n",
      "  message: b'CONVERGENCE: NORM_OF_PROJECTED_GRADIENT_<=_PGTOL'\n",
      "     nfev: 15\n",
      "      nit: 3\n",
      "   status: 0\n",
      "  success: True\n",
      "        x: array([ 53.73332298,  19.62548627])\n",
      "      fun: -3.218047922509231e-06\n",
      " hess_inv: <2x2 LbfgsInvHessProduct with dtype=float64>\n",
      "      jac: array([ -5.37865922e-12,   1.77876919e-12])\n",
      "  message: b'CONVERGENCE: NORM_OF_PROJECTED_GRADIENT_<=_PGTOL'\n",
      "     nfev: 15\n",
      "      nit: 3\n",
      "   status: 0\n",
      "  success: True\n",
      "        x: array([ 53.73337422,  19.62550498])\n"
     ]
    }
   ],
   "source": [
    "x0 = np.zeros((X.shape[0],1))\n",
    "xt = np.zeros((2,1))\n",
    "x_new = np.zeros((2,1))\n",
    "for it in range(20):\n",
    "    result = minimize(f2min, x0=x_new,args=(X,y,x_new),\n",
    "         method='L-BFGS-B', jac=False )\n",
    "    print(result)\n",
    "    x_new = result.x\n"
   ]
  },
  {
   "cell_type": "code",
   "execution_count": 16,
   "metadata": {},
   "outputs": [
    {
     "data": {
      "text/plain": [
       "      fun: -3.218047922509231e-06\n",
       " hess_inv: <2x2 LbfgsInvHessProduct with dtype=float64>\n",
       "      jac: array([ -5.37865922e-12,   1.77876919e-12])\n",
       "  message: b'CONVERGENCE: NORM_OF_PROJECTED_GRADIENT_<=_PGTOL'\n",
       "     nfev: 15\n",
       "      nit: 3\n",
       "   status: 0\n",
       "  success: True\n",
       "        x: array([ 53.73337422,  19.62550498])"
      ]
     },
     "execution_count": 16,
     "metadata": {},
     "output_type": "execute_result"
    }
   ],
   "source": [
    "result"
   ]
  },
  {
   "cell_type": "markdown",
   "metadata": {},
   "source": [
    "This now seems to be working in generality.  Keep it here for the time being in case necessary for reference at a later data."
   ]
  },
  {
   "cell_type": "markdown",
   "metadata": {},
   "source": [
    "## Reproducing the results of the paper\n",
    "We need to produce two graphs each showing MSE and MS(prediction)E against the rows dimension $n$.  Parameter settings are as follows:\n",
    "1. $n \\in \\{100,200, \\ldots, 25600 \\}$\n",
    "2. $d=10$\n",
    "3. Iterative Hessian sketch with $N = 1 + \\text{ceil}(\\log(n)$ rounds and $m=7d$\n",
    "4. Sketch and solve approach with sketch size $M = Nm$\n",
    "\n",
    "This is repeated over 300 trials with standard error bars."
   ]
  },
  {
   "cell_type": "code",
   "execution_count": 17,
   "metadata": {},
   "outputs": [
    {
     "data": {
      "text/plain": [
       "100"
      ]
     },
     "execution_count": 17,
     "metadata": {},
     "output_type": "execute_result"
    }
   ],
   "source": [
    "n_vals = [100*2**_ for _ in range(11)]\n",
    "d = 10\n",
    "num_rounds = [np.log2(n_vals[_]) for _ in range(len(n_vals))]\n",
    "num_rounds = np.ceil(num_rounds) + 1\n",
    "#num_rounds = 20*np.ones_like(n_vals)\n",
    "hessian_sketch_dimension = 10*d\n",
    "sketch_and_solve_dimension = [int(num_rounds[_]*hessian_sketch_dimension) for _ in range(len(num_rounds))] \n",
    "hessian_sketch_dimension"
   ]
  },
  {
   "cell_type": "markdown",
   "metadata": {},
   "source": [
    "Need to solve 3 separate problems and measure two error metrics:\n",
    "1. Plain regression\n",
    "2. Regression using IHS\n",
    "3. Regression using S&S"
   ]
  },
  {
   "cell_type": "code",
   "execution_count": 18,
   "metadata": {
    "collapsed": true
   },
   "outputs": [],
   "source": [
    "# Error metrics\n",
    "mse_ls = np.zeros(shape=(len(n_vals),1))\n",
    "mse_ihs = np.zeros_like(mse_ls)\n",
    "mse_SkSol = np.zeros_like(mse_ls)"
   ]
  },
  {
   "cell_type": "code",
   "execution_count": 19,
   "metadata": {
    "collapsed": true
   },
   "outputs": [],
   "source": [
    "# Generate data\n",
    "X,y, coef = generate_data(nsamples=n_vals[-1], nfeatures=d)"
   ]
  },
  {
   "cell_type": "code",
   "execution_count": 22,
   "metadata": {
    "collapsed": true
   },
   "outputs": [],
   "source": [
    "def test_all_methods(num_tests):\n",
    "    # Error metrics\n",
    "    mse_ls = np.zeros(shape=(len(n_vals),1))\n",
    "    mse_ihs = np.zeros_like(mse_ls)\n",
    "    mse_SkSol = np.zeros_like(mse_ls)\n",
    "    \n",
    "    pred_err_ls = np.zeros_like(mse_ls)\n",
    "    pred_err_ihs = np.zeros_like(mse_ls)\n",
    "    pred_err_SkSol = np.zeros_like(mse_ls)\n",
    "    \n",
    "    # Fix the dataset\n",
    "    X_full,y_full, x_star_full = generate_data(nsamples=n_vals[-1],\n",
    "                                               nfeatures=d)\n",
    "    \n",
    "    for exp_no in range(len(n_vals)):\n",
    "        # Generate new data\n",
    "        X = X_full[:n_vals[exp_no]]\n",
    "        y = y_full[:n_vals[exp_no]]\n",
    "        x_star = x_star_full[:n_vals[exp_no]]\n",
    "    \n",
    "        # plain regression\n",
    "        optimal = sp.linalg.lstsq(X,y)\n",
    "        x_ls = optimal[0]\n",
    "        mse_ls[exp_no] += norm(x_star - x_ls,2)**2\n",
    "        pred_err_ls[exp_no] += norm(X@(x_star[:,None] - x_ls[:,None]))**2\n",
    "    \n",
    "        # IHS \n",
    "        x_ihs = iterative_hessian(X, y, hessian_sketch_dimension,\n",
    "                              num_rounds[exp_no])\n",
    "        mse_ihs[exp_no] += norm(x_star - x_ihs,2)**2\n",
    "        pred_err_ihs[exp_no] += norm(X@(x_star[:,None] - x_ihs[:,None]))**2\n",
    "    \n",
    "        # Sketch and Solve\n",
    "        M = sketch_and_solve_dimension[exp_no]\n",
    "        S = gaussian_sketch(nrows=M,ncols=X.shape[0])\n",
    "        sk_optimal = sp.linalg.lstsq(S@X, S@y)\n",
    "        x_sk = sk_optimal[0]\n",
    "        mse_SkSol[exp_no] += norm(x_star - x_sk,2)**2\n",
    "        pred_err_SkSol[exp_no] += norm(X@(x_star[:,None] - x_sk[:,None]))**2\n",
    "        \n",
    "    mse_ls /= num_tests\n",
    "    mse_ihs /= num_tests\n",
    "    mse_SkSol /= num_tests\n",
    "    \n",
    "    pred_err_ls /= num_tests\n",
    "    pred_err_ihs /= num_tests\n",
    "    pred_err_SkSol /= num_tests\n",
    "    \n",
    "    \n",
    "    \n",
    "    fig, ax = plt.subplots()\n",
    "\n",
    "    ax.loglog(n_vals, mse_ls, 'o-', label=\"Least Squares\")\n",
    "    ax.loglog(n_vals, mse_ihs, 'o-', label=\"IHS\")\n",
    "    ax.loglog(n_vals, mse_SkSol, 'o-', label=\"Sketch-and-Solve\")\n",
    "    \n",
    "    ax.legend()\n",
    "    ax.set_title(\"MSE compared to row dimension\")\n",
    "    ax.set_xlabel(\"Row dimension $n$\")\n",
    "    ax.set_ylabel(\"$||x_{estimate} - x^*||^2$\")\n",
    "    \n",
    "    fig1, ax1 = plt.subplots()\n",
    "\n",
    "    ax1.loglog(n_vals, pred_err_ls, 'o-', label=\"Least Squares\")\n",
    "    ax1.loglog(n_vals, pred_err_ihs, 'o-', label=\"IHS\")\n",
    "    ax1.loglog(n_vals, pred_err_SkSol, 'o-', label=\"Sketch-and-Solve\")\n",
    "    \n",
    "    ax1.legend()\n",
    "    ax1.set_title(\"Prediction error compared to row dimension\")\n",
    "    ax1.set_xlabel(\"Row dimension $n$\")\n",
    "    ax1.set_ylabel(\"$||x_{estimate} - x^*||^2$\")\n",
    "    \n",
    "    "
   ]
  },
  {
   "cell_type": "code",
   "execution_count": 21,
   "metadata": {},
   "outputs": [
    {
     "data": {
      "image/png": "[encoded data removed]",
      "text/plain": [
       "<matplotlib.figure.Figure at 0x111ed6240>"
      ]
     },
     "metadata": {},
     "output_type": "display_data"
    },
    {
     "data": {
      "image/png": "[encoded data removed]",
      "text/plain": [
       "<matplotlib.figure.Figure at 0x1120933c8>"
      ]
     },
     "metadata": {},
     "output_type": "display_data"
    }
   ],
   "source": [
    "test_all_methods(100)"
   ]
  },
  {
   "cell_type": "markdown",
   "metadata": {
    "collapsed": true
   },
   "source": [
    "## Comparing convergence with sketch size and number of iterations\n",
    "\n",
    "We now use the gaussian sketch to test convergence with a least squares problem of size $(n,d) = (6000,200)$ and unit variance.  The task is to see how fast the approximation converges to the least squares solution with varying sketch sizes, as well as the number of iterations required.\n",
    "1. set $\\gamma \\in \\{ 4,6,8 \\}$ and measure log error to least squares estimator vs iterations. i.e. $\\log \\| x_t - x_{LS} \\|$.\n",
    "2. Same values of gamma and measure log-error to truth vs iterations i.e $\\log \\| x_t - x^* \\|$"
   ]
  },
  {
   "cell_type": "code",
   "execution_count": 69,
   "metadata": {},
   "outputs": [
    {
     "data": {
      "text/plain": [
       "array([ 78.79602041,  17.49318729,  86.43638118,  71.76487369,\n",
       "        64.43654778,  24.52958585,   9.48483268,  55.96853053,\n",
       "        90.72091364,  96.34363814,  54.23028359,  95.07568757,\n",
       "        68.67542283,  11.45651436,   6.14353669,  47.05663306,\n",
       "        76.37864164,  51.38813722,  13.81661864,  77.83691105,\n",
       "         2.34436251,  67.40119444,  12.96600775,   3.64450336,\n",
       "        17.29458254,  54.37519192,   7.81889827,   7.30369582,\n",
       "        93.03529281,   7.26291893,  65.93571914,  81.51233461,\n",
       "        41.41247311,  55.8484279 ,  88.37449169,  68.94135691,\n",
       "        44.27941673,  67.40620417,  16.41478642,  79.96555402,\n",
       "        14.41352149,  30.34181641,  75.90942833,  18.97386159,\n",
       "         9.17472151,  24.42058352,  32.06753797,  90.20254813,\n",
       "        84.18382741,  67.21574002,  17.70241462,  39.23190079,\n",
       "        83.62448163,  96.69810845,  86.51349912,  47.28334004,\n",
       "        85.67207   ,  41.82793746,  89.57596099,  24.3394801 ,\n",
       "        50.24596316,   1.95878596,  66.10285693,  65.66661637,\n",
       "        53.56575246,  71.40274808,  64.10458905,  31.95659462,\n",
       "        34.81972897,  44.64674151,  11.73563567,  67.55623535,\n",
       "         9.64958248,  50.30362085,   8.17368845,  21.96314064,\n",
       "        95.45980114,  69.67394225,  97.0243844 ,  37.96356812,\n",
       "        30.55072177,  40.86206204,  50.1366375 ,  22.86227579,\n",
       "        64.05077764,  16.74762433,  83.93159507,   9.74872811,\n",
       "        53.49109722,  62.45175541,  90.55518323,  72.84009742,\n",
       "        17.81600475,  40.64073002,  34.30728623,  81.36819011,\n",
       "        67.91232891,  22.64101885,   2.36559605,  81.39057725,\n",
       "        14.21370297,  63.55862054,  75.27013132,  12.33162517,\n",
       "        31.52878547,  51.24626818,  28.25793505,  92.95006588,\n",
       "        73.13238151,  36.25272715,  90.07470574,  51.95237033,\n",
       "        53.76276155,   0.53806053,  86.65864533,  25.70323104,\n",
       "        64.1313072 ,  26.94144505,  60.08685637,  99.49095998,\n",
       "        87.11329563,  83.64010956,  38.51204526,   7.87582473,\n",
       "        13.38128187,  90.82457514,  61.49930566,  58.0233132 ,\n",
       "        56.47328229,  93.43200836,  44.95534945,  44.19567276,\n",
       "        30.4743006 ,  40.01784077,  89.70748061,  42.34896952,\n",
       "        19.39679204,  90.51254881,   7.84303527,   1.67249118,\n",
       "        65.79681851,  21.51704712,  12.79538489,  54.88815086,\n",
       "        94.0300179 ,  22.72051682,  62.67815696,  79.71117186,\n",
       "        49.86018956,  81.78808502,  26.62891178,  22.55092407,\n",
       "        37.39876901,  69.08081966,   4.5946773 ,   8.27865429,\n",
       "         7.06334881,  89.38619893,  90.89227579,  59.16374317,\n",
       "        20.41521911,  96.31912873,   8.82214315,  41.50689036,\n",
       "        28.61475171,  84.56638211,  96.83279264,  98.76702745,\n",
       "        79.119246  ,  82.57581154,  33.24238804,  77.24575743,\n",
       "        27.18764535,  32.42666745,  15.30571305,  91.99081169,\n",
       "        79.19542991,  45.06813415,  32.38084024,  29.05363627,\n",
       "        64.2007725 ,  97.8030416 ,   2.54848407,   5.8542855 ,\n",
       "        51.72319131,  86.77649022,  16.78247966,   4.06702167,\n",
       "         5.29567862,  32.09074569,   6.15762142,  36.84507651,\n",
       "        47.50439131,  26.69948698,  50.05870271,   7.50412386,\n",
       "        30.39734767,  22.25023995,  87.66953467,  96.43423357])"
      ]
     },
     "execution_count": 69,
     "metadata": {},
     "output_type": "execute_result"
    }
   ],
   "source": [
    "X, y, x_star = generate_data(nsamples=6000, nfeatures=200)\n",
    "n,d = X.shape\n",
    "gamma_vals = [4,6,8]\n",
    "number_iterations = range(0,30, 5)"
   ]
  },
  {
   "cell_type": "code",
   "execution_count": 106,
   "metadata": {},
   "outputs": [
    {
     "data": {
      "text/plain": [
       "array([[ 1.],\n",
       "       [ 1.],\n",
       "       [ 1.],\n",
       "       [ 1.],\n",
       "       [ 1.],\n",
       "       [ 1.]])"
      ]
     },
     "execution_count": 106,
     "metadata": {},
     "output_type": "execute_result"
    }
   ],
   "source": [
    "# setup independent variables\n",
    "iter_vs_lsq_errors = {gamma_vals[i]: np.zeros((len(number_iterations),1))\\\n",
    "                      for i in range(len(gamma_vals))}\n",
    "\n",
    "iter_vs_truth_errors = {gamma_vals[i]: np.zeros((len(number_iterations),1))\\\n",
    "                      for i in range(len(gamma_vals))}\n",
    "lsq_vs_truth_errors = np.ones(shape=(len(number_iterations),1))\n",
    "\n",
    "lsq_vs_truth_errors"
   ]
  },
  {
   "cell_type": "code",
   "execution_count": 107,
   "metadata": {},
   "outputs": [
    {
     "name": "stdout",
     "output_type": "stream",
     "text": [
      "Testing gamma: 4, num_iterations: 0\n",
      "Testing gamma: 4, num_iterations: 1\n",
      "Testing gamma: 4, num_iterations: 2\n",
      "Testing gamma: 4, num_iterations: 3\n",
      "Testing gamma: 4, num_iterations: 4\n",
      "Testing gamma: 4, num_iterations: 5\n",
      "Testing gamma: 6, num_iterations: 0\n",
      "Testing gamma: 6, num_iterations: 1\n",
      "Testing gamma: 6, num_iterations: 2\n",
      "Testing gamma: 6, num_iterations: 3\n",
      "Testing gamma: 6, num_iterations: 4\n",
      "Testing gamma: 6, num_iterations: 5\n",
      "Testing gamma: 8, num_iterations: 0\n",
      "Testing gamma: 8, num_iterations: 1\n",
      "Testing gamma: 8, num_iterations: 2\n",
      "Testing gamma: 8, num_iterations: 3\n",
      "Testing gamma: 8, num_iterations: 4\n",
      "Testing gamma: 8, num_iterations: 5\n"
     ]
    }
   ],
   "source": [
    "# Least squares estimator\n",
    "optimal = sp.linalg.lstsq(X,y)\n",
    "x_ls = optimal[0]\n",
    "lsq_vs_truth_errors = np.log(1/np.sqrt(n)*norm(X@(x_ls-x_star))*lsq_vs_truth_errors)\n",
    "\n",
    "for gamma in gamma_vals:\n",
    "    \n",
    "    sketch_size = int(gamma*d)\n",
    "    \n",
    "    \n",
    "    \n",
    "    for ii in range(len(number_iterations)):\n",
    "        print(\"Testing gamma: {}, num_iterations: {}\".format(gamma,ii))\n",
    "        iter_num = number_iterations[ii]\n",
    "    \n",
    "    \n",
    "        # x_t is IHS output after iter_num iterations\n",
    "        x_t = iterative_hessian(data=X,targets=y,\n",
    "                            sketch_size=sketch_size,num_iters=iter_num)\n",
    "    \n",
    "        iter_vs_lsq_errors[gamma][ii] = 1/np.sqrt(n)*norm(X@(x_t-x_ls))\n",
    "        iter_vs_truth_errors[gamma][ii] = 1/np.sqrt(n)*norm(X@(x_t-x_star))\n",
    "        \n"
   ]
  },
  {
   "cell_type": "code",
   "execution_count": 109,
   "metadata": {},
   "outputs": [
    {
     "data": {
      "text/plain": [
       "Text(0.5,1,'Error to least-squares solution vs iteration')"
      ]
     },
     "execution_count": 109,
     "metadata": {},
     "output_type": "execute_result"
    },
    {
     "data": {
      "image/png": "[encoded data removed]",
      "text/plain": [
       "<matplotlib.figure.Figure at 0x11610b438>"
      ]
     },
     "metadata": {},
     "output_type": "display_data"
    }
   ],
   "source": [
    "fig, ax = plt.subplots()\n",
    "\n",
    "for gamma in gamma_vals:\n",
    "    ax.plot(number_iterations, np.log(iter_vs_lsq_errors[gamma]),\n",
    "            '-D', label=\"gamma = {}\".format(gamma))\n",
    "ax.legend()\n",
    "ax.set_xlabel(\"Number of iterations\")\n",
    "ax.set_ylabel(\"$\\log ||x_t - x_{LS} ||_A$\")\n",
    "ax.set_title('Error to least-squares solution vs iteration')"
   ]
  },
  {
   "cell_type": "code",
   "execution_count": 117,
   "metadata": {},
   "outputs": [
    {
     "data": {
      "text/plain": [
       "Text(0.5,1,'Error to ground truth vs iteration')"
      ]
     },
     "execution_count": 117,
     "metadata": {},
     "output_type": "execute_result"
    },
    {
     "data": {
      "image/png": "[encoded data removed]",
      "text/plain": [
       "<matplotlib.figure.Figure at 0x11bedfe10>"
      ]
     },
     "metadata": {},
     "output_type": "display_data"
    }
   ],
   "source": [
    "fig, ax = plt.subplots()\n",
    "\n",
    "for gamma in gamma_vals:\n",
    "    ax.plot(number_iterations, np.log(iter_vs_truth_errors[gamma]),\n",
    "            '-D', label=\"$\\gamma =$ {}\".format(gamma))\n",
    "    \n",
    "ax.plot(number_iterations, lsq_vs_truth_errors, '-D', label=\"x_ls to x*\")\n",
    "ax.legend()\n",
    "ax.set_xlabel(\"Number of iterations\")\n",
    "ax.set_ylabel(\"$\\log ||x_t - x^* ||_A$\")\n",
    "ax.set_title('Error to ground truth vs iteration')"
   ]
  }
 ],
 "metadata": {
  "kernelspec": {
   "display_name": "Python 3",
   "language": "python",
   "name": "python3"
  },
  "language_info": {
   "codemirror_mode": {
    "name": "ipython",
    "version": 3
   },
   "file_extension": ".py",
   "mimetype": "text/x-python",
   "name": "python",
   "nbconvert_exporter": "python",
   "pygments_lexer": "ipython3",
   "version": "3.6.3"
  }
 },
 "nbformat": 4,
 "nbformat_minor": 2
}
