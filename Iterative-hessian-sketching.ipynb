{
 "cells": [
  {
   "cell_type": "markdown",
   "metadata": {},
   "source": [
    "# Iterative Hessian Sketching for Regression\n",
    "Code to reproduce results from https://arxiv.org/abs/1411.0347"
   ]
  },
  {
   "cell_type": "code",
   "execution_count": 117,
   "metadata": {},
   "outputs": [],
   "source": [
    "import numpy as np\n",
    "import scipy as sp\n",
    "from sklearn.datasets import make_regression\n",
    "from scipy.optimize import minimize\n",
    "import matplotlib.pyplot as plt\n",
    "%matplotlib inline\n",
    "\n",
    "from numpy.linalg import norm"
   ]
  },
  {
   "cell_type": "code",
   "execution_count": 178,
   "metadata": {
    "collapsed": true
   },
   "outputs": [],
   "source": [
    "def gaussian_sketch(nrows, ncols):\n",
    "    '''Generate a Gausian sketching matrix of size\n",
    "    (nrows, ncols)'''\n",
    "    return (1/np.sqrt(nrows))*np.random.randn(nrows, ncols)"
   ]
  },
  {
   "cell_type": "code",
   "execution_count": 92,
   "metadata": {
    "collapsed": true
   },
   "outputs": [],
   "source": [
    "def generate_data(nsamples, nfeatures, variance=1):\n",
    "    '''Generates a data matrix of size (nsamples, nfeatures)\n",
    "    which defines a linear relationship on the variables.'''\n",
    "    X, y = make_regression(n_samples=nsamples, n_features=nfeatures,\\\n",
    "                        n_informative=nfeatures,noise=variance)\n",
    "    X[:,0] = np.ones(shape=(nsamples)) # add bias terms\n",
    "    return X, y"
   ]
  },
  {
   "cell_type": "code",
   "execution_count": 237,
   "metadata": {},
   "outputs": [
    {
     "data": {
      "text/plain": [
       "array([[ 1.        ,  0.10980959],\n",
       "       [ 1.        , -0.69993803],\n",
       "       [ 1.        , -2.18847374],\n",
       "       ..., \n",
       "       [ 1.        ,  1.00829309],\n",
       "       [ 1.        , -2.19282429],\n",
       "       [ 1.        , -0.48726985]])"
      ]
     },
     "execution_count": 237,
     "metadata": {},
     "output_type": "execute_result"
    }
   ],
   "source": [
    "X,y = generate_data(1000,2)\n",
    "X"
   ]
  },
  {
   "cell_type": "code",
   "execution_count": 412,
   "metadata": {},
   "outputs": [],
   "source": [
    "def iterative_hessian(data, targets, num_iters):\n",
    "    '''\n",
    "    Add docs\n",
    "    '''\n",
    "    A = data\n",
    "    y = targets\n",
    "    n,d = A.shape\n",
    "    x0 = np.zeros(shape=(d,1))\n",
    "    m = n//2 # sketching dimension\n",
    "    \n",
    "    ATy = A.T.dot(y)\n",
    "    covariance_mat = A.T.dot(A)\n",
    "    print(\"ATy shape {}\".format(ATy.shape))\n",
    "    print(\"covar mat prod shape {}\".format(covariance_mat.dot(x0).shape))\n",
    "   \n",
    "    \n",
    "    \n",
    "    for n_iter in range(num_iters):\n",
    "        S = gaussian_sketch(m, n)\n",
    "        S_A = S.dot(A)\n",
    "        print(\"IP shape {}\".format(np.dot(S_A.T, (np.dot(S_A,x0))).shape))\n",
    "        B = S_A.T.dot(S_A)\n",
    "        z = ATy - covariance_mat.dot(x0) + np.dot(S_A.T, (np.dot(S_A,x0)))\n",
    "        sol = sp.linalg.lstsq(B,z)\n",
    "        x_new = sol[0] \n",
    "        \n",
    "        \n",
    "        ### KEEP BELOW AS THIS WILL BE USED FOR LASSO OR\n",
    "        ### PENALISED REGRESSION.\n",
    "        \n",
    "        #x0 = np.zeros((X.shape[0],1))\n",
    "        #xt = np.zeros((2,1))\n",
    "        #x_new = np.zeros((2,1))\n",
    "        #for it in range(20):\n",
    "        #    result = minimize(f2min, x0=x_new,args=(X,y,x_new),\n",
    "        #                     method='L-BFGS-B', jac=False )\n",
    "        #    print(result)\n",
    "        #    x_new = result.x\n",
    "        \n",
    "        \n",
    "        \n",
    "        \n",
    "        print(z.shape)\n",
    "        x_new = sp.linalg.solve(B,z)\n",
    "        print(x_new)\n",
    "        print(\"ITERATION {}: ||x_t - x_t+1|| = {}\".\\\n",
    "                  format(n_iter, np.linalg.norm(x0-x_new)))\n",
    "        x0 = x_new\n",
    "        \n",
    "    \n",
    "    return x0\n",
    "        \n",
    "        "
   ]
  },
  {
   "cell_type": "code",
   "execution_count": 413,
   "metadata": {},
   "outputs": [
    {
     "name": "stdout",
     "output_type": "stream",
     "text": [
      "ATy shape (2,)\n",
      "covar mat prod shape (2, 1)\n",
      "IP shape (2, 1)\n",
      "(2, 2)\n",
      "[[  3.15338285  22.03505168]\n",
      " [  2.56171554  17.90062828]]\n",
      "ITERATION 0: ||x_t - x_t+1|| = 28.678950559119645\n",
      "IP shape (2, 2)\n",
      "(2, 2)\n",
      "[[  2.73600785  19.11853944]\n",
      " [  2.63303046  18.39895912]]\n",
      "ITERATION 1: ||x_t - x_t+1|| = 2.9889237134314923\n",
      "IP shape (2, 2)\n",
      "(2, 2)\n",
      "[[  2.71902871  18.9998934 ]\n",
      " [  2.61097173  18.24481823]]\n",
      "ITERATION 2: ||x_t - x_t+1|| = 0.1964972703936377\n",
      "IP shape (2, 2)\n",
      "(2, 2)\n",
      "[[  2.71776352  18.99105259]\n",
      " [  2.6126912   18.25683349]]\n",
      "ITERATION 3: ||x_t - x_t+1|| = 0.015069288255894934\n",
      "IP shape (2, 2)\n",
      "(2, 2)\n",
      "[[  2.71773758  18.99087135]\n",
      " [  2.61294529  18.25860901]]\n",
      "ITERATION 4: ||x_t - x_t+1|| = 0.0018029368504805484\n",
      "IP shape (2, 2)\n",
      "(2, 2)\n",
      "[[  2.71776776  18.99108224]\n",
      " [  2.61294586  18.25861299]]\n",
      "ITERATION 5: ||x_t - x_t+1|| = 0.00021307270573610494\n",
      "IP shape (2, 2)\n",
      "(2, 2)\n",
      "[[  2.71776592  18.99106936]\n",
      " [  2.61294313  18.25859387]]\n",
      "ITERATION 6: ||x_t - x_t+1|| = 2.3290839629701993e-05\n",
      "IP shape (2, 2)\n",
      "(2, 2)\n",
      "[[  2.7177658   18.99106856]\n",
      " [  2.61294301  18.25859305]]\n",
      "ITERATION 7: ||x_t - x_t+1|| = 1.1557091045034067e-06\n",
      "IP shape (2, 2)\n",
      "(2, 2)\n",
      "[[  2.71776581  18.99106863]\n",
      " [  2.61294302  18.2585931 ]]\n",
      "ITERATION 8: ||x_t - x_t+1|| = 8.707995334396457e-08\n",
      "IP shape (2, 2)\n",
      "(2, 2)\n",
      "[[  2.71776581  18.99106862]\n",
      " [  2.61294301  18.25859309]]\n",
      "ITERATION 9: ||x_t - x_t+1|| = 9.789976134867492e-09\n"
     ]
    }
   ],
   "source": [
    "x_hat = iterative_hessian(X,y, 10)"
   ]
  },
  {
   "cell_type": "code",
   "execution_count": 399,
   "metadata": {},
   "outputs": [
    {
     "data": {
      "text/plain": [
       "array([[  2.71776581,  18.99106862],\n",
       "       [  2.61294301,  18.25859309]])"
      ]
     },
     "execution_count": 399,
     "metadata": {},
     "output_type": "execute_result"
    }
   ],
   "source": [
    "x_hat"
   ]
  },
  {
   "cell_type": "code",
   "execution_count": 396,
   "metadata": {},
   "outputs": [
    {
     "data": {
      "text/plain": [
       "array([  2.68324845,  18.29311045])"
      ]
     },
     "execution_count": 396,
     "metadata": {},
     "output_type": "execute_result"
    }
   ],
   "source": [
    "x_true = sp.linalg.lstsq(X,y)\n",
    "x_true[0]"
   ]
  },
  {
   "cell_type": "code",
   "execution_count": 171,
   "metadata": {},
   "outputs": [
    {
     "data": {
      "text/plain": [
       "[<matplotlib.lines.Line2D at 0x113f09b70>]"
      ]
     },
     "execution_count": 171,
     "metadata": {},
     "output_type": "execute_result"
    },
    {
     "data": {
      "image/png": "[encoded data removed]",
      "text/plain": [
       "<matplotlib.figure.Figure at 0x11403dda0>"
      ]
     },
     "metadata": {},
     "output_type": "display_data"
    }
   ],
   "source": [
    "fig, ax = plt.subplots()\n",
    "\n",
    "ax.scatter(X[:,1], y)\n",
    "ax.plot(X[:,1], X@x_true[0])\n",
    "ax.plot(X[:,1],X@x_hat)"
   ]
  },
  {
   "cell_type": "markdown",
   "metadata": {},
   "source": [
    "### Checking the optimisation step\n",
    "We need to use $x_{t+1} \\leftarrow \\text{argmin}_{x \\in C} \\|SA(x-x_t)\\|_2^2 - (y - Ax_t)^TAx$.  To do this we will invoke the scipy minimizer but we this only minimises with one dimensional inputs so we need a local function.  "
   ]
  },
  {
   "cell_type": "code",
   "execution_count": 354,
   "metadata": {
    "collapsed": true
   },
   "outputs": [],
   "source": [
    "def lstsq(start_x, sketch, data, target):\n",
    "    S = sketch #\n",
    "    A = data\n",
    "    y = target\n",
    "    x0 = start_x\n",
    "    return norm(S@A@x0-S@y)**2"
   ]
  },
  {
   "cell_type": "code",
   "execution_count": 361,
   "metadata": {},
   "outputs": [],
   "source": [
    "res = minimize(lstsq, x0=np.zeros((2,1)),args=(gaussian_sketch(750,1000), X,y))"
   ]
  },
  {
   "cell_type": "code",
   "execution_count": 362,
   "metadata": {},
   "outputs": [
    {
     "data": {
      "text/plain": [
       "      fun: 4891280.004093261\n",
       " hess_inv: array([[ 0.00092058, -0.0009488 ],\n",
       "       [-0.0009488 ,  0.00102779]])\n",
       "      jac: array([ 0.,  0.])\n",
       "  message: 'Optimization terminated successfully.'\n",
       "     nfev: 68\n",
       "      nit: 9\n",
       "     njev: 17\n",
       "   status: 0\n",
       "  success: True\n",
       "        x: array([  1.53622863,  19.1349492 ])"
      ]
     },
     "execution_count": 362,
     "metadata": {},
     "output_type": "execute_result"
    }
   ],
   "source": [
    "res"
   ]
  },
  {
   "cell_type": "code",
   "execution_count": 369,
   "metadata": {
    "collapsed": true
   },
   "outputs": [],
   "source": [
    "def f2min(x, data, target, offset):\n",
    "    A = data\n",
    "    S = np.eye(A.shape[0])\n",
    "    #S = gaussian_sketch(nrows=A.shape[0]//2, ncols=A.shape[0] )\n",
    "    #print(S.shape)\n",
    "    #print(A.shape)\n",
    "    y = target\n",
    "    xt = np.ravel(offset)\n",
    "\n",
    "    #print(xt.shape)\n",
    "    #print((S@y).shape)\n",
    "    #print((S@A@(x-xt)).shape)\n",
    "    norm_val = norm(S@A@(x-xt))**2 #(1/2*S.shape[0])*\n",
    "    inner_prod = (y - A@xt).T@A@(x-xt)\n",
    "    \n",
    "    return norm_val - inner_prod"
   ]
  },
  {
   "cell_type": "code",
   "execution_count": 377,
   "metadata": {
    "collapsed": true
   },
   "outputs": [],
   "source": [
    "def grad_f2min(x, data, target, offset):\n",
    "    A = data\n",
    "    y = target\n",
    "    S = np.eye(A.shape[0])\n",
    "    xt = np.ravel(offset)\n",
    "    S_A = S@A\n",
    "    grad = S_A.T@S_A@(x-xt) - A.T@(y-A@xt)\n",
    "    \n",
    "    return grad"
   ]
  },
  {
   "cell_type": "code",
   "execution_count": 385,
   "metadata": {},
   "outputs": [
    {
     "name": "stdout",
     "output_type": "stream",
     "text": [
      "      fun: -88862.213049437763\n",
      " hess_inv: <2x2 LbfgsInvHessProduct with dtype=float64>\n",
      "      jac: array([-0.00436557, -0.00145519])\n",
      "  message: b'CONVERGENCE: REL_REDUCTION_OF_F_<=_FACTR*EPSMCH'\n",
      "     nfev: 15\n",
      "      nit: 4\n",
      "   status: 0\n",
      "  success: True\n",
      "        x: array([ 1.34162354,  9.14655541])\n",
      "      fun: -22215.552874863668\n",
      " hess_inv: <2x2 LbfgsInvHessProduct with dtype=float64>\n",
      "      jac: array([ 0.0003638 , -0.00145519])\n",
      "  message: b'CONVERGENCE: REL_REDUCTION_OF_F_<=_FACTR*EPSMCH'\n",
      "     nfev: 15\n",
      "      nit: 4\n",
      "   status: 0\n",
      "  success: True\n",
      "        x: array([  2.0124362,  13.7198327])\n",
      "      fun: -5553.8887086430104\n",
      " hess_inv: <2x2 LbfgsInvHessProduct with dtype=float64>\n",
      "      jac: array([ 0.,  0.])\n",
      "  message: b'CONVERGENCE: NORM_OF_PROJECTED_GRADIENT_<=_PGTOL'\n",
      "     nfev: 15\n",
      "      nit: 4\n",
      "   status: 0\n",
      "  success: True\n",
      "        x: array([  2.34784227,  16.00647158])\n",
      "      fun: -1388.4721825066126\n",
      " hess_inv: <2x2 LbfgsInvHessProduct with dtype=float64>\n",
      "      jac: array([  2.27373675e-05,  -2.27373675e-05])\n",
      "  message: b'CONVERGENCE: REL_REDUCTION_OF_F_<=_FACTR*EPSMCH'\n",
      "     nfev: 15\n",
      "      nit: 4\n",
      "   status: 0\n",
      "  success: True\n",
      "        x: array([  2.51554536,  17.14979099])\n",
      "      fun: -347.11806353220624\n",
      " hess_inv: <2x2 LbfgsInvHessProduct with dtype=float64>\n",
      "      jac: array([ -1.13686838e-05,   5.68434189e-06])\n",
      "  message: b'CONVERGENCE: REL_REDUCTION_OF_F_<=_FACTR*EPSMCH'\n",
      "     nfev: 15\n",
      "      nit: 4\n",
      "   status: 0\n",
      "  success: True\n",
      "        x: array([  2.5993969 ,  17.72145072])\n",
      "      fun: -86.779516335420283\n",
      " hess_inv: <2x2 LbfgsInvHessProduct with dtype=float64>\n",
      "      jac: array([  0.00000000e+00,  -1.42108547e-06])\n",
      "  message: b'CONVERGENCE: NORM_OF_PROJECTED_GRADIENT_<=_PGTOL'\n",
      "     nfev: 15\n",
      "      nit: 3\n",
      "   status: 0\n",
      "  success: True\n",
      "        x: array([  2.64132267,  18.00728058])\n",
      "      fun: -21.694880218679973\n",
      " hess_inv: <2x2 LbfgsInvHessProduct with dtype=float64>\n",
      "      jac: array([ 0.,  0.])\n",
      "  message: b'CONVERGENCE: NORM_OF_PROJECTED_GRADIENT_<=_PGTOL'\n",
      "     nfev: 15\n",
      "      nit: 3\n",
      "   status: 0\n",
      "  success: True\n",
      "        x: array([  2.66228556,  18.15019551])\n",
      "      fun: -5.4237204856699348\n",
      " hess_inv: <2x2 LbfgsInvHessProduct with dtype=float64>\n",
      "      jac: array([ -1.77635684e-07,  -3.55271368e-07])\n",
      "  message: b'CONVERGENCE: NORM_OF_PROJECTED_GRADIENT_<=_PGTOL'\n",
      "     nfev: 15\n",
      "      nit: 3\n",
      "   status: 0\n",
      "  success: True\n",
      "        x: array([  2.672767  ,  18.22165298])\n",
      "      fun: -1.3559303353433532\n",
      " hess_inv: <2x2 LbfgsInvHessProduct with dtype=float64>\n",
      "      jac: array([  0.00000000e+00,  -6.66133815e-08])\n",
      "  message: b'CONVERGENCE: NORM_OF_PROJECTED_GRADIENT_<=_PGTOL'\n",
      "     nfev: 15\n",
      "      nit: 3\n",
      "   status: 0\n",
      "  success: True\n",
      "        x: array([  2.67800772,  18.25738171])\n",
      "      fun: -0.33898269016691701\n",
      " hess_inv: <2x2 LbfgsInvHessProduct with dtype=float64>\n",
      "      jac: array([  0.00000000e+00,   1.66533454e-08])\n",
      "  message: b'CONVERGENCE: NORM_OF_PROJECTED_GRADIENT_<=_PGTOL'\n",
      "     nfev: 15\n",
      "      nit: 3\n",
      "   status: 0\n",
      "  success: True\n",
      "        x: array([  2.68062808,  18.27524608])\n",
      "      fun: -0.084745725471645647\n",
      " hess_inv: <2x2 LbfgsInvHessProduct with dtype=float64>\n",
      "      jac: array([ -2.77555756e-09,  -2.77555756e-09])\n",
      "  message: b'CONVERGENCE: NORM_OF_PROJECTED_GRADIENT_<=_PGTOL'\n",
      "     nfev: 15\n",
      "      nit: 3\n",
      "   status: 0\n",
      "  success: True\n",
      "        x: array([  2.68193826,  18.28417826])\n",
      "      fun: -0.021186457869908776\n",
      " hess_inv: <2x2 LbfgsInvHessProduct with dtype=float64>\n",
      "      jac: array([  1.04083409e-09,   3.46944695e-10])\n",
      "  message: b'CONVERGENCE: NORM_OF_PROJECTED_GRADIENT_<=_PGTOL'\n",
      "     nfev: 15\n",
      "      nit: 3\n",
      "   status: 0\n",
      "  success: True\n",
      "        x: array([  2.68259335,  18.28864435])\n",
      "      fun: -0.0052966277168437293\n",
      " hess_inv: <2x2 LbfgsInvHessProduct with dtype=float64>\n",
      "      jac: array([  0.00000000e+00,   1.73472348e-10])\n",
      "  message: b'CONVERGENCE: NORM_OF_PROJECTED_GRADIENT_<=_PGTOL'\n",
      "     nfev: 15\n",
      "      nit: 3\n",
      "   status: 0\n",
      "  success: True\n",
      "        x: array([  2.6829209,  18.2908774])\n",
      "      fun: -0.0013241635541172631\n",
      " hess_inv: <2x2 LbfgsInvHessProduct with dtype=float64>\n",
      "      jac: array([  0.00000000e+00,  -2.16840434e-11])\n",
      "  message: b'CONVERGENCE: NORM_OF_PROJECTED_GRADIENT_<=_PGTOL'\n",
      "     nfev: 15\n",
      "      nit: 3\n",
      "   status: 0\n",
      "  success: True\n",
      "        x: array([  2.68308467,  18.29199392])\n",
      "      fun: -0.00033104420099204507\n",
      " hess_inv: <2x2 LbfgsInvHessProduct with dtype=float64>\n",
      "      jac: array([  1.62630326e-11,  -1.08420217e-11])\n",
      "  message: b'CONVERGENCE: NORM_OF_PROJECTED_GRADIENT_<=_PGTOL'\n",
      "     nfev: 15\n",
      "      nit: 3\n",
      "   status: 0\n",
      "  success: True\n",
      "        x: array([  2.68316656,  18.29255218])\n",
      "      fun: -8.2762704745932637e-05\n",
      " hess_inv: <2x2 LbfgsInvHessProduct with dtype=float64>\n",
      "      jac: array([ -7.46062893e-05,   1.06767229e-05])\n",
      "  message: b'CONVERGENCE: REL_REDUCTION_OF_F_<=_FACTR*EPSMCH'\n",
      "     nfev: 12\n",
      "      nit: 2\n",
      "   status: 0\n",
      "  success: True\n",
      "        x: array([  2.68320746,  18.29283132])\n",
      "      fun: -2.0691523340052123e-05\n",
      " hess_inv: <2x2 LbfgsInvHessProduct with dtype=float64>\n",
      "      jac: array([ -3.73551772e-05,   5.35070543e-06])\n",
      "  message: b'CONVERGENCE: REL_REDUCTION_OF_F_<=_FACTR*EPSMCH'\n",
      "     nfev: 12\n",
      "      nit: 2\n",
      "   status: 0\n",
      "  success: True\n",
      "        x: array([  2.68322793,  18.29297088])\n",
      "      fun: -5.1732997265553683e-06\n",
      " hess_inv: <2x2 LbfgsInvHessProduct with dtype=float64>\n",
      "      jac: array([ -1.87036358e-05,   2.68154148e-06])\n",
      "  message: b'CONVERGENCE: REL_REDUCTION_OF_F_<=_FACTR*EPSMCH'\n",
      "     nfev: 12\n",
      "      nit: 2\n",
      "   status: 0\n",
      "  success: True\n",
      "        x: array([  2.68323818,  18.29304067])\n",
      "      fun: -1.2935332126656506e-06\n",
      " hess_inv: <2x2 LbfgsInvHessProduct with dtype=float64>\n",
      "      jac: array([ -9.36485679e-06,   1.34386912e-06])\n",
      "  message: b'CONVERGENCE: NORM_OF_PROJECTED_GRADIENT_<=_PGTOL'\n",
      "     nfev: 12\n",
      "      nit: 2\n",
      "   status: 0\n",
      "  success: True\n",
      "        x: array([  2.68324331,  18.29307556])\n",
      "      fun: -3.2348715651153797e-07\n",
      " hess_inv: <2x2 LbfgsInvHessProduct with dtype=float64>\n",
      "      jac: array([ -4.68895587e-06,   6.73492938e-07])\n",
      "  message: b'CONVERGENCE: NORM_OF_PROJECTED_GRADIENT_<=_PGTOL'\n",
      "     nfev: 12\n",
      "      nit: 2\n",
      "   status: 0\n",
      "  success: True\n",
      "        x: array([  2.68324587,  18.293093  ])\n"
     ]
    }
   ],
   "source": [
    "x0 = np.zeros((X.shape[0],1))\n",
    "xt = np.zeros((2,1))\n",
    "x_new = np.zeros((2,1))\n",
    "for it in range(20):\n",
    "    result = minimize(f2min, x0=x_new,args=(X,y,x_new),\n",
    "         method='L-BFGS-B', jac=False )\n",
    "    print(result)\n",
    "    x_new = result.x\n"
   ]
  },
  {
   "cell_type": "code",
   "execution_count": 386,
   "metadata": {},
   "outputs": [
    {
     "data": {
      "text/plain": [
       "      fun: -3.2348715651153797e-07\n",
       " hess_inv: <2x2 LbfgsInvHessProduct with dtype=float64>\n",
       "      jac: array([ -4.68895587e-06,   6.73492938e-07])\n",
       "  message: b'CONVERGENCE: NORM_OF_PROJECTED_GRADIENT_<=_PGTOL'\n",
       "     nfev: 12\n",
       "      nit: 2\n",
       "   status: 0\n",
       "  success: True\n",
       "        x: array([  2.68324587,  18.293093  ])"
      ]
     },
     "execution_count": 386,
     "metadata": {},
     "output_type": "execute_result"
    }
   ],
   "source": [
    "result"
   ]
  },
  {
   "cell_type": "markdown",
   "metadata": {},
   "source": [
    "This now seems to be working in generality.  Keep it here for the time being in case necessary for reference at a later data."
   ]
  },
  {
   "cell_type": "code",
   "execution_count": null,
   "metadata": {
    "collapsed": true
   },
   "outputs": [],
   "source": []
  }
 ],
 "metadata": {
  "kernelspec": {
   "display_name": "Python 3",
   "language": "python",
   "name": "python3"
  },
  "language_info": {
   "codemirror_mode": {
    "name": "ipython",
    "version": 3
   },
   "file_extension": ".py",
   "mimetype": "text/x-python",
   "name": "python",
   "nbconvert_exporter": "python",
   "pygments_lexer": "ipython3",
   "version": "3.6.3"
  }
 },
 "nbformat": 4,
 "nbformat_minor": 2
}
