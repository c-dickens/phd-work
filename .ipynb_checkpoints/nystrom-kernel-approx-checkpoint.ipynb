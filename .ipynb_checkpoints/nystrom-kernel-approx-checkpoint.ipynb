{
 "cells": [
  {
   "cell_type": "markdown",
   "metadata": {},
   "source": [
    "# Nyström Kernel Approximation\n",
    "Python implementation of the Nyström Kernel Approximation from https://arxiv.org/abs/1605.07583 and https://github.com/cnmusco/recursive-nystrom . Hopefully for later use with our work on kernel machines."
   ]
  },
  {
   "cell_type": "code",
   "execution_count": 1,
   "metadata": {},
   "outputs": [
    {
     "data": {
      "text/plain": [
       "'/Users/cdickens/Documents/GitHub/phd_work'"
      ]
     },
     "execution_count": 1,
     "metadata": {},
     "output_type": "execute_result"
    }
   ],
   "source": [
    "pwd"
   ]
  },
  {
   "cell_type": "code",
   "execution_count": 2,
   "metadata": {},
   "outputs": [
    {
     "data": {
      "text/plain": [
       "'\\nDOWNLOAD_ROOT = \"https://archive.ics.uci.edu/ml/machine-learning-databases/covtype/covtype.data.gz\"\\nCOVER_PATH = os.path.join(\"datasets\", \"covertype\")\\nCOVER_URL = DOWNLOAD_ROOT + \"datasets/covertype/cover.gz\"\\n\\ndef fetch_data(data_url=COVER_URL, data_path=COVER_PATH):\\n    if not os.path.isdir(data_path):\\n        os.makedirs(data_path)\\n    tgz_path = os.path.join(data_path, \"cover.gz\")\\n    urllib.request.urlretrieve(data_url, tgz_path)\\n    housing_tgz = tarfile.open(tgz_path)\\n    housing_tgz.extractall(path=data_path)\\n    housing_tgz.close()\\n'"
      ]
     },
     "execution_count": 2,
     "metadata": {},
     "output_type": "execute_result"
    }
   ],
   "source": [
    "import os\n",
    "import tarfile\n",
    "from six.moves import urllib\n",
    "\n",
    "\"\"\"\n",
    "DOWNLOAD_ROOT = \"https://archive.ics.uci.edu/ml/machine-learning-databases/covtype/covtype.data.gz\"\n",
    "COVER_PATH = os.path.join(\"datasets\", \"covertype\")\n",
    "COVER_URL = DOWNLOAD_ROOT + \"datasets/covertype/cover.gz\"\n",
    "\n",
    "def fetch_data(data_url=COVER_URL, data_path=COVER_PATH):\n",
    "    if not os.path.isdir(data_path):\n",
    "        os.makedirs(data_path)\n",
    "    tgz_path = os.path.join(data_path, \"cover.gz\")\n",
    "    urllib.request.urlretrieve(data_url, tgz_path)\n",
    "    housing_tgz = tarfile.open(tgz_path)\n",
    "    housing_tgz.extractall(path=data_path)\n",
    "    housing_tgz.close()\n",
    "\"\"\""
   ]
  },
  {
   "cell_type": "code",
   "execution_count": 3,
   "metadata": {
    "collapsed": true
   },
   "outputs": [],
   "source": [
    "import pandas as pd\n",
    "import numpy as np\n",
    "import random\n",
    "\n",
    "random.seed(1)\n",
    "\n",
    "cov_data = pd.read_csv('datasets/covtype.data', header=None)"
   ]
  },
  {
   "cell_type": "code",
   "execution_count": 4,
   "metadata": {},
   "outputs": [
    {
     "data": {
      "text/plain": [
       "pandas.core.frame.DataFrame"
      ]
     },
     "execution_count": 4,
     "metadata": {},
     "output_type": "execute_result"
    }
   ],
   "source": [
    "cov_data.shape\n",
    "type(cov_data)"
   ]
  },
  {
   "cell_type": "code",
   "execution_count": 5,
   "metadata": {},
   "outputs": [
    {
     "data": {
      "text/html": [
       "<div>\n",
       "<style>\n",
       "    .dataframe thead tr:only-child th {\n",
       "        text-align: right;\n",
       "    }\n",
       "\n",
       "    .dataframe thead th {\n",
       "        text-align: left;\n",
       "    }\n",
       "\n",
       "    .dataframe tbody tr th {\n",
       "        vertical-align: top;\n",
       "    }\n",
       "</style>\n",
       "<table border=\"1\" class=\"dataframe\">\n",
       "  <thead>\n",
       "    <tr style=\"text-align: right;\">\n",
       "      <th></th>\n",
       "      <th>0</th>\n",
       "      <th>1</th>\n",
       "      <th>2</th>\n",
       "      <th>3</th>\n",
       "      <th>4</th>\n",
       "      <th>5</th>\n",
       "      <th>6</th>\n",
       "      <th>7</th>\n",
       "      <th>8</th>\n",
       "      <th>9</th>\n",
       "      <th>...</th>\n",
       "      <th>45</th>\n",
       "      <th>46</th>\n",
       "      <th>47</th>\n",
       "      <th>48</th>\n",
       "      <th>49</th>\n",
       "      <th>50</th>\n",
       "      <th>51</th>\n",
       "      <th>52</th>\n",
       "      <th>53</th>\n",
       "      <th>54</th>\n",
       "    </tr>\n",
       "  </thead>\n",
       "  <tbody>\n",
       "    <tr>\n",
       "      <th>263205</th>\n",
       "      <td>2234</td>\n",
       "      <td>309</td>\n",
       "      <td>25</td>\n",
       "      <td>283</td>\n",
       "      <td>94</td>\n",
       "      <td>760</td>\n",
       "      <td>144</td>\n",
       "      <td>214</td>\n",
       "      <td>207</td>\n",
       "      <td>437</td>\n",
       "      <td>...</td>\n",
       "      <td>0</td>\n",
       "      <td>0</td>\n",
       "      <td>0</td>\n",
       "      <td>0</td>\n",
       "      <td>0</td>\n",
       "      <td>0</td>\n",
       "      <td>0</td>\n",
       "      <td>0</td>\n",
       "      <td>0</td>\n",
       "      <td>3</td>\n",
       "    </tr>\n",
       "    <tr>\n",
       "      <th>227964</th>\n",
       "      <td>2990</td>\n",
       "      <td>124</td>\n",
       "      <td>11</td>\n",
       "      <td>430</td>\n",
       "      <td>88</td>\n",
       "      <td>1801</td>\n",
       "      <td>238</td>\n",
       "      <td>232</td>\n",
       "      <td>124</td>\n",
       "      <td>2932</td>\n",
       "      <td>...</td>\n",
       "      <td>1</td>\n",
       "      <td>0</td>\n",
       "      <td>0</td>\n",
       "      <td>0</td>\n",
       "      <td>0</td>\n",
       "      <td>0</td>\n",
       "      <td>0</td>\n",
       "      <td>0</td>\n",
       "      <td>0</td>\n",
       "      <td>2</td>\n",
       "    </tr>\n",
       "    <tr>\n",
       "      <th>227696</th>\n",
       "      <td>2084</td>\n",
       "      <td>238</td>\n",
       "      <td>33</td>\n",
       "      <td>124</td>\n",
       "      <td>82</td>\n",
       "      <td>240</td>\n",
       "      <td>144</td>\n",
       "      <td>246</td>\n",
       "      <td>224</td>\n",
       "      <td>95</td>\n",
       "      <td>...</td>\n",
       "      <td>0</td>\n",
       "      <td>0</td>\n",
       "      <td>0</td>\n",
       "      <td>0</td>\n",
       "      <td>0</td>\n",
       "      <td>0</td>\n",
       "      <td>0</td>\n",
       "      <td>0</td>\n",
       "      <td>0</td>\n",
       "      <td>3</td>\n",
       "    </tr>\n",
       "    <tr>\n",
       "      <th>23131</th>\n",
       "      <td>2845</td>\n",
       "      <td>130</td>\n",
       "      <td>30</td>\n",
       "      <td>95</td>\n",
       "      <td>42</td>\n",
       "      <td>4826</td>\n",
       "      <td>252</td>\n",
       "      <td>206</td>\n",
       "      <td>58</td>\n",
       "      <td>4689</td>\n",
       "      <td>...</td>\n",
       "      <td>0</td>\n",
       "      <td>0</td>\n",
       "      <td>0</td>\n",
       "      <td>0</td>\n",
       "      <td>0</td>\n",
       "      <td>0</td>\n",
       "      <td>0</td>\n",
       "      <td>0</td>\n",
       "      <td>0</td>\n",
       "      <td>2</td>\n",
       "    </tr>\n",
       "    <tr>\n",
       "      <th>160744</th>\n",
       "      <td>3253</td>\n",
       "      <td>50</td>\n",
       "      <td>4</td>\n",
       "      <td>841</td>\n",
       "      <td>109</td>\n",
       "      <td>6400</td>\n",
       "      <td>221</td>\n",
       "      <td>231</td>\n",
       "      <td>146</td>\n",
       "      <td>1565</td>\n",
       "      <td>...</td>\n",
       "      <td>0</td>\n",
       "      <td>0</td>\n",
       "      <td>0</td>\n",
       "      <td>0</td>\n",
       "      <td>0</td>\n",
       "      <td>0</td>\n",
       "      <td>0</td>\n",
       "      <td>0</td>\n",
       "      <td>0</td>\n",
       "      <td>2</td>\n",
       "    </tr>\n",
       "  </tbody>\n",
       "</table>\n",
       "<p>5 rows × 55 columns</p>\n",
       "</div>"
      ],
      "text/plain": [
       "          0    1   2    3    4     5    6    7    8     9  ...  45  46  47  \\\n",
       "263205  2234  309  25  283   94   760  144  214  207   437 ...   0   0   0   \n",
       "227964  2990  124  11  430   88  1801  238  232  124  2932 ...   1   0   0   \n",
       "227696  2084  238  33  124   82   240  144  246  224    95 ...   0   0   0   \n",
       "23131   2845  130  30   95   42  4826  252  206   58  4689 ...   0   0   0   \n",
       "160744  3253   50   4  841  109  6400  221  231  146  1565 ...   0   0   0   \n",
       "\n",
       "        48  49  50  51  52  53  54  \n",
       "263205   0   0   0   0   0   0   3  \n",
       "227964   0   0   0   0   0   0   2  \n",
       "227696   0   0   0   0   0   0   3  \n",
       "23131    0   0   0   0   0   0   2  \n",
       "160744   0   0   0   0   0   0   2  \n",
       "\n",
       "[5 rows x 55 columns]"
      ]
     },
     "execution_count": 5,
     "metadata": {},
     "output_type": "execute_result"
    }
   ],
   "source": [
    "# Choose a small subset for experiments\n",
    "nsamples = 6000 \n",
    "# remove the last column of labels\n",
    "\n",
    "cov_data_shuffled = cov_data.iloc[np.random.permutation(len(cov_data))]\n",
    "cov_data_shuffled.shape\n",
    "cov_data_shuffled.head()"
   ]
  },
  {
   "cell_type": "code",
   "execution_count": 6,
   "metadata": {
    "collapsed": true
   },
   "outputs": [],
   "source": [
    "X = cov_data_shuffled.iloc[0:nsamples].copy()"
   ]
  },
  {
   "cell_type": "code",
   "execution_count": 7,
   "metadata": {},
   "outputs": [
    {
     "data": {
      "text/plain": [
       "(6000, 55)"
      ]
     },
     "execution_count": 7,
     "metadata": {},
     "output_type": "execute_result"
    }
   ],
   "source": [
    "X.shape"
   ]
  },
  {
   "cell_type": "code",
   "execution_count": 8,
   "metadata": {
    "collapsed": true
   },
   "outputs": [],
   "source": [
    "X = X.drop(labels=54, axis=1)\n",
    "#df = df.drop(labels='column_to_delete', axis=1)"
   ]
  },
  {
   "cell_type": "code",
   "execution_count": 9,
   "metadata": {},
   "outputs": [
    {
     "data": {
      "text/plain": [
       "(6000, 54)"
      ]
     },
     "execution_count": 9,
     "metadata": {},
     "output_type": "execute_result"
    }
   ],
   "source": [
    "X.shape\n",
    "#X.iloc[:,0:10]"
   ]
  },
  {
   "cell_type": "code",
   "execution_count": 45,
   "metadata": {
    "collapsed": true
   },
   "outputs": [],
   "source": [
    "n, d = X.shape\n",
    "means = np.zeros((1,d))\n",
    "means = np.mean(X.iloc[:,:], axis=0)"
   ]
  },
  {
   "cell_type": "code",
   "execution_count": 25,
   "metadata": {
    "collapsed": true
   },
   "outputs": [],
   "source": [
    "means[means.index >= 10] = 0"
   ]
  },
  {
   "cell_type": "code",
   "execution_count": 26,
   "metadata": {},
   "outputs": [
    {
     "data": {
      "text/plain": [
       "(54,)"
      ]
     },
     "execution_count": 26,
     "metadata": {},
     "output_type": "execute_result"
    }
   ],
   "source": [
    "means.shape"
   ]
  },
  {
   "cell_type": "code",
   "execution_count": 27,
   "metadata": {},
   "outputs": [
    {
     "data": {
      "text/plain": [
       "0     2957.433333\n",
       "1      156.088500\n",
       "2       14.159167\n",
       "3      267.284500\n",
       "4       47.098000\n",
       "5     2358.879833\n",
       "6      212.266500\n",
       "7      222.965333\n",
       "8      142.076167\n",
       "9     1996.079667\n",
       "10       0.000000\n",
       "11       0.000000\n",
       "12       0.000000\n",
       "13       0.000000\n",
       "14       0.000000\n",
       "15       0.000000\n",
       "16       0.000000\n",
       "17       0.000000\n",
       "18       0.000000\n",
       "19       0.000000\n",
       "20       0.000000\n",
       "21       0.000000\n",
       "22       0.000000\n",
       "23       0.000000\n",
       "24       0.000000\n",
       "25       0.000000\n",
       "26       0.000000\n",
       "27       0.000000\n",
       "28       0.000000\n",
       "29       0.000000\n",
       "30       0.000000\n",
       "31       0.000000\n",
       "32       0.000000\n",
       "33       0.000000\n",
       "34       0.000000\n",
       "35       0.000000\n",
       "36       0.000000\n",
       "37       0.000000\n",
       "38       0.000000\n",
       "39       0.000000\n",
       "40       0.000000\n",
       "41       0.000000\n",
       "42       0.000000\n",
       "43       0.000000\n",
       "44       0.000000\n",
       "45       0.000000\n",
       "46       0.000000\n",
       "47       0.000000\n",
       "48       0.000000\n",
       "49       0.000000\n",
       "50       0.000000\n",
       "51       0.000000\n",
       "52       0.000000\n",
       "53       0.000000\n",
       "dtype: float64"
      ]
     },
     "execution_count": 27,
     "metadata": {},
     "output_type": "execute_result"
    }
   ],
   "source": [
    "means"
   ]
  },
  {
   "cell_type": "code",
   "execution_count": 35,
   "metadata": {
    "collapsed": true
   },
   "outputs": [],
   "source": [
    "X = X - np.tile(means, (nsamples, 1))"
   ]
  },
  {
   "cell_type": "code",
   "execution_count": 36,
   "metadata": {},
   "outputs": [
    {
     "data": {
      "text/plain": [
       "array([ 2957.43333333,   156.0885    ,    14.15916667,   267.2845    ,\n",
       "          47.098     ,  2358.87983333,   212.2665    ,   222.96533333,\n",
       "         142.07616667,  1996.07966667,     0.        ,     0.        ,\n",
       "           0.        ,     0.        ,     0.        ,     0.        ,\n",
       "           0.        ,     0.        ,     0.        ,     0.        ,\n",
       "           0.        ,     0.        ,     0.        ,     0.        ,\n",
       "           0.        ,     0.        ,     0.        ,     0.        ,\n",
       "           0.        ,     0.        ,     0.        ,     0.        ,\n",
       "           0.        ,     0.        ,     0.        ,     0.        ,\n",
       "           0.        ,     0.        ,     0.        ,     0.        ,\n",
       "           0.        ,     0.        ,     0.        ,     0.        ,\n",
       "           0.        ,     0.        ,     0.        ,     0.        ,\n",
       "           0.        ,     0.        ,     0.        ,     0.        ,\n",
       "           0.        ,     0.        ])"
      ]
     },
     "execution_count": 36,
     "metadata": {},
     "output_type": "execute_result"
    }
   ],
   "source": [
    "np.tile(means, (nsamples, 1))[0,:]"
   ]
  },
  {
   "cell_type": "code",
   "execution_count": 43,
   "metadata": {},
   "outputs": [
    {
     "data": {
      "text/plain": [
       "0    -6638.3000\n",
       "1     -159.2655\n",
       "2      -17.4775\n",
       "3     -518.8535\n",
       "4      -47.2940\n",
       "5    -6316.6395\n",
       "6     -492.7995\n",
       "7     -454.8960\n",
       "8     -219.2285\n",
       "9    -5551.2390\n",
       "10      -0.4550\n",
       "11       0.0000\n",
       "12       0.0000\n",
       "13       1.0000\n",
       "14       0.0000\n",
       "15       0.0000\n",
       "16       0.0000\n",
       "17       0.0000\n",
       "18       0.0000\n",
       "19       0.0000\n",
       "20       0.0000\n",
       "21       0.0000\n",
       "22       0.0000\n",
       "23       1.0000\n",
       "24       0.0000\n",
       "25       0.0000\n",
       "26       0.0000\n",
       "27       0.0000\n",
       "28       0.0000\n",
       "29       0.0000\n",
       "30       0.0000\n",
       "31       0.0000\n",
       "32       0.0000\n",
       "33       0.0000\n",
       "34       0.0000\n",
       "35       0.0000\n",
       "36       0.0000\n",
       "37       0.0000\n",
       "38       0.0000\n",
       "39       0.0000\n",
       "40       0.0000\n",
       "41       0.0000\n",
       "42       0.0000\n",
       "43       0.0000\n",
       "44       0.0000\n",
       "45       0.0000\n",
       "46       0.0000\n",
       "47       0.0000\n",
       "48       0.0000\n",
       "49       0.0000\n",
       "50       0.0000\n",
       "51       0.0000\n",
       "52       0.0000\n",
       "53       0.0000\n",
       "Name: 263205, dtype: float64"
      ]
     },
     "execution_count": 43,
     "metadata": {},
     "output_type": "execute_result"
    }
   ],
   "source": [
    "X.iloc[0,:] # just to check that the correct subtractions are made"
   ]
  },
  {
   "cell_type": "code",
   "execution_count": 14,
   "metadata": {},
   "outputs": [
    {
     "data": {
      "text/plain": [
       "(6000, 54)"
      ]
     },
     "execution_count": 14,
     "metadata": {},
     "output_type": "execute_result"
    }
   ],
   "source": [
    "X.shape"
   ]
  },
  {
   "cell_type": "code",
   "execution_count": 60,
   "metadata": {},
   "outputs": [
    {
     "name": "stderr",
     "output_type": "stream",
     "text": [
      "/Users/cdickens/anaconda3/lib/python3.6/site-packages/ipykernel_launcher.py:2: FutureWarning: reshape is deprecated and will raise in a subsequent release. Please use .values.reshape(...) instead\n",
      "  \n"
     ]
    },
    {
     "data": {
      "text/plain": [
       "(10, 1)"
      ]
     },
     "execution_count": 60,
     "metadata": {},
     "output_type": "execute_result"
    }
   ],
   "source": [
    "new_vals = np.sum(X.iloc[:,0:10]**2,axis=0)\n",
    "new_vals = new_vals.reshape((-1,1))\n",
    "new_vals.shape"
   ]
  },
  {
   "cell_type": "code",
   "execution_count": 72,
   "metadata": {},
   "outputs": [],
   "source": [
    "col_norms = nsamples**(-0.5)*np.ones((1,d))\n",
    "new_vals = 1/np.sqrt(np.sum(X.iloc[:,0:10]**2,axis=0))\n",
    "new_vals = new_vals.values.reshape((1,-1))\n",
    "#col_norms.shape\n",
    "col_norms[:,0:10] = new_vals\n",
    "col_norms[np.where(col_norms == np.Inf)] = 0"
   ]
  },
  {
   "cell_type": "code",
   "execution_count": 79,
   "metadata": {},
   "outputs": [],
   "source": [
    "X = np.dot(X,np.diag(col_norms[0]))"
   ]
  },
  {
   "cell_type": "code",
   "execution_count": 82,
   "metadata": {},
   "outputs": [],
   "source": [
    "# Set kernel parameters and construct explicit kernel\n",
    "import scipy\n",
    "from scipy.spatial.distance import pdist, squareform\n",
    "gamma = 256\n",
    "  # this is an NxD matrix, where N is number of items and D its dimensionalites\n",
    "pairwise_sq_dists = squareform(pdist(X, 'sqeuclidean'))\n",
    "K = scipy.exp(-256*pairwise_sq_dists)"
   ]
  },
  {
   "cell_type": "code",
   "execution_count": 83,
   "metadata": {},
   "outputs": [
    {
     "data": {
      "text/plain": [
       "(6000, 6000)"
      ]
     },
     "execution_count": 83,
     "metadata": {},
     "output_type": "execute_result"
    }
   ],
   "source": [
    "K.shape"
   ]
  },
  {
   "cell_type": "code",
   "execution_count": null,
   "metadata": {
    "collapsed": true
   },
   "outputs": [],
   "source": []
  }
 ],
 "metadata": {
  "kernelspec": {
   "display_name": "Python 3",
   "language": "python",
   "name": "python3"
  },
  "language_info": {
   "codemirror_mode": {
    "name": "ipython",
    "version": 3
   },
   "file_extension": ".py",
   "mimetype": "text/x-python",
   "name": "python",
   "nbconvert_exporter": "python",
   "pygments_lexer": "ipython3",
   "version": "3.6.3"
  }
 },
 "nbformat": 4,
 "nbformat_minor": 2
}
