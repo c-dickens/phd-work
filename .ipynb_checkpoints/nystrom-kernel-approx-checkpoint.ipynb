{
 "cells": [
  {
   "cell_type": "markdown",
   "metadata": {},
   "source": [
    "# Nyström Kernel Approximation\n",
    "Python implementation of the Nyström Kernel Approximation from https://arxiv.org/abs/1605.07583 and https://github.com/cnmusco/recursive-nystrom . Hopefully for later use with our work on kernel machines."
   ]
  },
  {
   "cell_type": "code",
   "execution_count": 1,
   "metadata": {},
   "outputs": [
    {
     "data": {
      "text/plain": [
       "'/Users/cdickens/Documents/GitHub/phd_work'"
      ]
     },
     "execution_count": 1,
     "metadata": {},
     "output_type": "execute_result"
    }
   ],
   "source": [
    "pwd"
   ]
  },
  {
   "cell_type": "code",
   "execution_count": 14,
   "metadata": {},
   "outputs": [
    {
     "data": {
      "text/plain": [
       "'\\nDOWNLOAD_ROOT = \"https://archive.ics.uci.edu/ml/machine-learning-databases/covtype/covtype.data.gz\"\\nCOVER_PATH = os.path.join(\"datasets\", \"covertype\")\\nCOVER_URL = DOWNLOAD_ROOT + \"datasets/covertype/cover.gz\"\\n\\ndef fetch_data(data_url=COVER_URL, data_path=COVER_PATH):\\n    if not os.path.isdir(data_path):\\n        os.makedirs(data_path)\\n    tgz_path = os.path.join(data_path, \"cover.gz\")\\n    urllib.request.urlretrieve(data_url, tgz_path)\\n    housing_tgz = tarfile.open(tgz_path)\\n    housing_tgz.extractall(path=data_path)\\n    housing_tgz.close()\\n'"
      ]
     },
     "execution_count": 14,
     "metadata": {},
     "output_type": "execute_result"
    }
   ],
   "source": [
    "import os\n",
    "import tarfile\n",
    "from six.moves import urllib\n",
    "\n",
    "\"\"\"\n",
    "DOWNLOAD_ROOT = \"https://archive.ics.uci.edu/ml/machine-learning-databases/covtype/covtype.data.gz\"\n",
    "COVER_PATH = os.path.join(\"datasets\", \"covertype\")\n",
    "COVER_URL = DOWNLOAD_ROOT + \"datasets/covertype/cover.gz\"\n",
    "\n",
    "def fetch_data(data_url=COVER_URL, data_path=COVER_PATH):\n",
    "    if not os.path.isdir(data_path):\n",
    "        os.makedirs(data_path)\n",
    "    tgz_path = os.path.join(data_path, \"cover.gz\")\n",
    "    urllib.request.urlretrieve(data_url, tgz_path)\n",
    "    housing_tgz = tarfile.open(tgz_path)\n",
    "    housing_tgz.extractall(path=data_path)\n",
    "    housing_tgz.close()\n",
    "\"\"\""
   ]
  },
  {
   "cell_type": "code",
   "execution_count": 41,
   "metadata": {},
   "outputs": [],
   "source": [
    "import pandas as pd\n",
    "import numpy as np\n",
    "import random\n",
    "\n",
    "random.seed(1)\n",
    "\n",
    "cov_data = pd.read_csv('datasets/covtype.data', header=None)"
   ]
  },
  {
   "cell_type": "code",
   "execution_count": 52,
   "metadata": {},
   "outputs": [
    {
     "data": {
      "text/plain": [
       "pandas.core.frame.DataFrame"
      ]
     },
     "execution_count": 52,
     "metadata": {},
     "output_type": "execute_result"
    }
   ],
   "source": [
    "cov_data.shape\n",
    "type(cov_data)"
   ]
  },
  {
   "cell_type": "code",
   "execution_count": 56,
   "metadata": {},
   "outputs": [
    {
     "data": {
      "text/html": [
       "<div>\n",
       "<style>\n",
       "    .dataframe thead tr:only-child th {\n",
       "        text-align: right;\n",
       "    }\n",
       "\n",
       "    .dataframe thead th {\n",
       "        text-align: left;\n",
       "    }\n",
       "\n",
       "    .dataframe tbody tr th {\n",
       "        vertical-align: top;\n",
       "    }\n",
       "</style>\n",
       "<table border=\"1\" class=\"dataframe\">\n",
       "  <thead>\n",
       "    <tr style=\"text-align: right;\">\n",
       "      <th></th>\n",
       "      <th>0</th>\n",
       "      <th>1</th>\n",
       "      <th>2</th>\n",
       "      <th>3</th>\n",
       "      <th>4</th>\n",
       "      <th>5</th>\n",
       "      <th>6</th>\n",
       "      <th>7</th>\n",
       "      <th>8</th>\n",
       "      <th>9</th>\n",
       "      <th>...</th>\n",
       "      <th>45</th>\n",
       "      <th>46</th>\n",
       "      <th>47</th>\n",
       "      <th>48</th>\n",
       "      <th>49</th>\n",
       "      <th>50</th>\n",
       "      <th>51</th>\n",
       "      <th>52</th>\n",
       "      <th>53</th>\n",
       "      <th>54</th>\n",
       "    </tr>\n",
       "  </thead>\n",
       "  <tbody>\n",
       "    <tr>\n",
       "      <th>390935</th>\n",
       "      <td>2544</td>\n",
       "      <td>54</td>\n",
       "      <td>6</td>\n",
       "      <td>430</td>\n",
       "      <td>41</td>\n",
       "      <td>1020</td>\n",
       "      <td>224</td>\n",
       "      <td>226</td>\n",
       "      <td>137</td>\n",
       "      <td>1406</td>\n",
       "      <td>...</td>\n",
       "      <td>0</td>\n",
       "      <td>0</td>\n",
       "      <td>0</td>\n",
       "      <td>0</td>\n",
       "      <td>0</td>\n",
       "      <td>0</td>\n",
       "      <td>0</td>\n",
       "      <td>0</td>\n",
       "      <td>0</td>\n",
       "      <td>5</td>\n",
       "    </tr>\n",
       "    <tr>\n",
       "      <th>248405</th>\n",
       "      <td>2641</td>\n",
       "      <td>343</td>\n",
       "      <td>14</td>\n",
       "      <td>67</td>\n",
       "      <td>6</td>\n",
       "      <td>153</td>\n",
       "      <td>191</td>\n",
       "      <td>218</td>\n",
       "      <td>165</td>\n",
       "      <td>708</td>\n",
       "      <td>...</td>\n",
       "      <td>0</td>\n",
       "      <td>0</td>\n",
       "      <td>0</td>\n",
       "      <td>0</td>\n",
       "      <td>0</td>\n",
       "      <td>0</td>\n",
       "      <td>0</td>\n",
       "      <td>0</td>\n",
       "      <td>0</td>\n",
       "      <td>2</td>\n",
       "    </tr>\n",
       "    <tr>\n",
       "      <th>374650</th>\n",
       "      <td>2692</td>\n",
       "      <td>189</td>\n",
       "      <td>33</td>\n",
       "      <td>30</td>\n",
       "      <td>20</td>\n",
       "      <td>1766</td>\n",
       "      <td>201</td>\n",
       "      <td>242</td>\n",
       "      <td>149</td>\n",
       "      <td>1138</td>\n",
       "      <td>...</td>\n",
       "      <td>0</td>\n",
       "      <td>0</td>\n",
       "      <td>0</td>\n",
       "      <td>0</td>\n",
       "      <td>0</td>\n",
       "      <td>0</td>\n",
       "      <td>0</td>\n",
       "      <td>0</td>\n",
       "      <td>0</td>\n",
       "      <td>2</td>\n",
       "    </tr>\n",
       "    <tr>\n",
       "      <th>343422</th>\n",
       "      <td>2601</td>\n",
       "      <td>349</td>\n",
       "      <td>16</td>\n",
       "      <td>510</td>\n",
       "      <td>221</td>\n",
       "      <td>731</td>\n",
       "      <td>188</td>\n",
       "      <td>211</td>\n",
       "      <td>160</td>\n",
       "      <td>1073</td>\n",
       "      <td>...</td>\n",
       "      <td>0</td>\n",
       "      <td>0</td>\n",
       "      <td>0</td>\n",
       "      <td>0</td>\n",
       "      <td>0</td>\n",
       "      <td>0</td>\n",
       "      <td>0</td>\n",
       "      <td>0</td>\n",
       "      <td>0</td>\n",
       "      <td>3</td>\n",
       "    </tr>\n",
       "    <tr>\n",
       "      <th>353797</th>\n",
       "      <td>3133</td>\n",
       "      <td>67</td>\n",
       "      <td>30</td>\n",
       "      <td>190</td>\n",
       "      <td>-25</td>\n",
       "      <td>916</td>\n",
       "      <td>233</td>\n",
       "      <td>166</td>\n",
       "      <td>0</td>\n",
       "      <td>1215</td>\n",
       "      <td>...</td>\n",
       "      <td>0</td>\n",
       "      <td>0</td>\n",
       "      <td>0</td>\n",
       "      <td>0</td>\n",
       "      <td>0</td>\n",
       "      <td>0</td>\n",
       "      <td>0</td>\n",
       "      <td>0</td>\n",
       "      <td>0</td>\n",
       "      <td>1</td>\n",
       "    </tr>\n",
       "  </tbody>\n",
       "</table>\n",
       "<p>5 rows × 55 columns</p>\n",
       "</div>"
      ],
      "text/plain": [
       "          0    1   2    3    4     5    6    7    8     9  ...  45  46  47  \\\n",
       "390935  2544   54   6  430   41  1020  224  226  137  1406 ...   0   0   0   \n",
       "248405  2641  343  14   67    6   153  191  218  165   708 ...   0   0   0   \n",
       "374650  2692  189  33   30   20  1766  201  242  149  1138 ...   0   0   0   \n",
       "343422  2601  349  16  510  221   731  188  211  160  1073 ...   0   0   0   \n",
       "353797  3133   67  30  190  -25   916  233  166    0  1215 ...   0   0   0   \n",
       "\n",
       "        48  49  50  51  52  53  54  \n",
       "390935   0   0   0   0   0   0   5  \n",
       "248405   0   0   0   0   0   0   2  \n",
       "374650   0   0   0   0   0   0   2  \n",
       "343422   0   0   0   0   0   0   3  \n",
       "353797   0   0   0   0   0   0   1  \n",
       "\n",
       "[5 rows x 55 columns]"
      ]
     },
     "execution_count": 56,
     "metadata": {},
     "output_type": "execute_result"
    }
   ],
   "source": [
    "# Choose a small subset for experiments\n",
    "nsamples = 6000 \n",
    "# remove the last column of labels\n",
    "\n",
    "cov_data_shuffled = cov_data.iloc[np.random.permutation(len(cov_data))]\n",
    "cov_data_shuffled.shape\n",
    "cov_data_shuffled.head()"
   ]
  },
  {
   "cell_type": "code",
   "execution_count": 75,
   "metadata": {
    "collapsed": true
   },
   "outputs": [],
   "source": [
    "X = cov_data_shuffled.iloc[0:nsamples].copy()"
   ]
  },
  {
   "cell_type": "code",
   "execution_count": 76,
   "metadata": {},
   "outputs": [
    {
     "data": {
      "text/plain": [
       "(6000, 55)"
      ]
     },
     "execution_count": 76,
     "metadata": {},
     "output_type": "execute_result"
    }
   ],
   "source": [
    "X.shape"
   ]
  },
  {
   "cell_type": "code",
   "execution_count": 77,
   "metadata": {
    "collapsed": true
   },
   "outputs": [],
   "source": [
    "X = X.drop(labels=54, axis=1)\n",
    "#df = df.drop(labels='column_to_delete', axis=1)"
   ]
  },
  {
   "cell_type": "code",
   "execution_count": 78,
   "metadata": {},
   "outputs": [
    {
     "data": {
      "text/plain": [
       "(6000, 54)"
      ]
     },
     "execution_count": 78,
     "metadata": {},
     "output_type": "execute_result"
    }
   ],
   "source": [
    "X.shape\n",
    "#X.iloc[:,0:10]"
   ]
  },
  {
   "cell_type": "code",
   "execution_count": 119,
   "metadata": {},
   "outputs": [],
   "source": [
    "N, M = X.shape\n",
    "means = np.zeros((1,M))\n",
    "means = np.mean(X.iloc[:,:], axis=0)"
   ]
  },
  {
   "cell_type": "code",
   "execution_count": 95,
   "metadata": {},
   "outputs": [],
   "source": [
    "means[means.index > 10] = 0"
   ]
  },
  {
   "cell_type": "code",
   "execution_count": 96,
   "metadata": {},
   "outputs": [
    {
     "data": {
      "text/plain": [
       "(54,)"
      ]
     },
     "execution_count": 96,
     "metadata": {},
     "output_type": "execute_result"
    }
   ],
   "source": [
    "means.shape"
   ]
  },
  {
   "cell_type": "code",
   "execution_count": 97,
   "metadata": {},
   "outputs": [],
   "source": [
    "X = X - np.tile(means, (nsamples, 1))"
   ]
  },
  {
   "cell_type": "code",
   "execution_count": 98,
   "metadata": {},
   "outputs": [
    {
     "data": {
      "text/plain": [
       "(6000, 54)"
      ]
     },
     "execution_count": 98,
     "metadata": {},
     "output_type": "execute_result"
    }
   ],
   "source": [
    "X.shape"
   ]
  },
  {
   "cell_type": "code",
   "execution_count": 127,
   "metadata": {},
   "outputs": [
    {
     "data": {
      "text/plain": [
       "array([[ 77.45966692,  77.45966692,  77.45966692,  77.45966692,\n",
       "         77.45966692,  77.45966692,  77.45966692,  77.45966692,\n",
       "         77.45966692,  77.45966692,  77.45966692,  77.45966692,\n",
       "         77.45966692,  77.45966692,  77.45966692,  77.45966692,\n",
       "         77.45966692,  77.45966692,  77.45966692,  77.45966692,\n",
       "         77.45966692,  77.45966692,  77.45966692,  77.45966692,\n",
       "         77.45966692,  77.45966692,  77.45966692,  77.45966692,\n",
       "         77.45966692,  77.45966692,  77.45966692,  77.45966692,\n",
       "         77.45966692,  77.45966692,  77.45966692,  77.45966692,\n",
       "         77.45966692,  77.45966692,  77.45966692,  77.45966692,\n",
       "         77.45966692,  77.45966692,  77.45966692,  77.45966692,\n",
       "         77.45966692,  77.45966692,  77.45966692,  77.45966692,\n",
       "         77.45966692,  77.45966692,  77.45966692,  77.45966692,\n",
       "         77.45966692,  77.45966692]])"
      ]
     },
     "execution_count": 127,
     "metadata": {},
     "output_type": "execute_result"
    }
   ],
   "source": [
    "col_norms = nsamples**(0.5)*np.ones((1,M))\n",
    "new_vals = 1/np.sqrt(np.sum(X.iloc[:,0:10]**2,axis=0))\n",
    "col_norms.shape\n",
    "col_norms"
   ]
  },
  {
   "cell_type": "code",
   "execution_count": 121,
   "metadata": {},
   "outputs": [
    {
     "data": {
      "text/plain": [
       "(10,)"
      ]
     },
     "execution_count": 121,
     "metadata": {},
     "output_type": "execute_result"
    }
   ],
   "source": [
    "new_vals.shape"
   ]
  },
  {
   "cell_type": "code",
   "execution_count": 125,
   "metadata": {},
   "outputs": [
    {
     "data": {
      "text/plain": [
       "array([[ 0.,  0.,  0.,  0.,  0.,  0.,  0.,  0.,  0.,  0.,  0.,  0.,  0.,\n",
       "         0.,  0.,  0.,  0.,  0.,  0.,  0.,  0.,  0.,  0.,  0.,  0.,  0.,\n",
       "         0.,  0.,  0.,  0.,  0.,  0.,  0.,  0.,  0.,  0.,  0.,  0.,  0.,\n",
       "         0.,  0.,  0.,  0.,  0.,  0.,  0.,  0.,  0.,  0.,  0.,  0.,  0.,\n",
       "         0.,  0.]])"
      ]
     },
     "execution_count": 125,
     "metadata": {},
     "output_type": "execute_result"
    }
   ],
   "source": [
    "col_norms[:,0:10] = np.zeros((1, len(col_norms)))\n",
    "col_norms.shape\n",
    "col_norms"
   ]
  },
  {
   "cell_type": "code",
   "execution_count": 126,
   "metadata": {},
   "outputs": [
    {
     "data": {
      "text/plain": [
       "(1, 54)"
      ]
     },
     "execution_count": 126,
     "metadata": {},
     "output_type": "execute_result"
    }
   ],
   "source": [
    "col_norms.shape"
   ]
  },
  {
   "cell_type": "code",
   "execution_count": null,
   "metadata": {
    "collapsed": true
   },
   "outputs": [],
   "source": []
  }
 ],
 "metadata": {
  "kernelspec": {
   "display_name": "Python 3",
   "language": "python",
   "name": "python3"
  },
  "language_info": {
   "codemirror_mode": {
    "name": "ipython",
    "version": 3
   },
   "file_extension": ".py",
   "mimetype": "text/x-python",
   "name": "python",
   "nbconvert_exporter": "python",
   "pygments_lexer": "ipython3",
   "version": "3.6.3"
  }
 },
 "nbformat": 4,
 "nbformat_minor": 2
}
