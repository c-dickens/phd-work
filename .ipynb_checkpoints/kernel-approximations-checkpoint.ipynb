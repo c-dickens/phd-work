{
 "cells": [
  {
   "cell_type": "markdown",
   "metadata": {},
   "source": [
    "# Kernel Approximations\n",
    "Testing a quick idead about kernel approximations and leverage scores.  Example taken from http://scikit-learn.org/stable/auto_examples/plot_kernel_ridge_regression.html#sphx-glr-auto-examples-plot-kernel-ridge-regression-py"
   ]
  },
  {
   "cell_type": "code",
   "execution_count": 101,
   "metadata": {
    "collapsed": true
   },
   "outputs": [],
   "source": [
    "import time\n",
    "\n",
    "import numpy as np\n",
    "from numpy.linalg import norm, eig\n",
    "from sklearn import datasets\n",
    "from sklearn.preprocessing import StandardScaler\n",
    "from sklearn.metrics.pairwise import rbf_kernel\n",
    "from sklearn.kernel_approximation import RBFSampler\n",
    "import matplotlib.pyplot as plt\n",
    "\n",
    "rng = np.random.RandomState(0)"
   ]
  },
  {
   "cell_type": "code",
   "execution_count": 102,
   "metadata": {},
   "outputs": [
    {
     "data": {
      "text/plain": [
       "(506, 13)"
      ]
     },
     "execution_count": 102,
     "metadata": {},
     "output_type": "execute_result"
    }
   ],
   "source": [
    "boston = datasets.load_boston()\n",
    "y = boston.target\n",
    "X = boston['data']\n",
    "#X = X[0:500,:]\n",
    "X.shape"
   ]
  },
  {
   "cell_type": "code",
   "execution_count": 103,
   "metadata": {
    "collapsed": true
   },
   "outputs": [],
   "source": [
    "X = StandardScaler().fit_transform(X)"
   ]
  },
  {
   "cell_type": "code",
   "execution_count": 104,
   "metadata": {
    "collapsed": true
   },
   "outputs": [],
   "source": [
    "K_rbf_true = rbf_kernel(X, gamma=1)"
   ]
  },
  {
   "cell_type": "code",
   "execution_count": 105,
   "metadata": {},
   "outputs": [
    {
     "data": {
      "text/plain": [
       "(506, 506)"
      ]
     },
     "execution_count": 105,
     "metadata": {},
     "output_type": "execute_result"
    }
   ],
   "source": [
    "K_rbf_true.shape"
   ]
  },
  {
   "cell_type": "code",
   "execution_count": 106,
   "metadata": {},
   "outputs": [
    {
     "data": {
      "text/plain": [
       "37.201961621173211"
      ]
     },
     "execution_count": 106,
     "metadata": {},
     "output_type": "execute_result"
    }
   ],
   "source": [
    "norm(K_rbf_true, 'fro')"
   ]
  },
  {
   "cell_type": "code",
   "execution_count": 127,
   "metadata": {
    "collapsed": true
   },
   "outputs": [],
   "source": [
    "rbf_feature = RBFSampler(gamma=1,n_components=10000, random_state=1)\n",
    "X_features = rbf_feature.fit_transform(X)"
   ]
  },
  {
   "cell_type": "code",
   "execution_count": 128,
   "metadata": {},
   "outputs": [
    {
     "data": {
      "text/plain": [
       "(506, 10000)"
      ]
     },
     "execution_count": 128,
     "metadata": {},
     "output_type": "execute_result"
    }
   ],
   "source": [
    "X_features.shape"
   ]
  },
  {
   "cell_type": "code",
   "execution_count": 129,
   "metadata": {
    "collapsed": true
   },
   "outputs": [],
   "source": [
    "K_rbf_approx = np.dot(X_features, X_features.T)"
   ]
  },
  {
   "cell_type": "code",
   "execution_count": 130,
   "metadata": {},
   "outputs": [
    {
     "data": {
      "text/plain": [
       "(506, 506)"
      ]
     },
     "execution_count": 130,
     "metadata": {},
     "output_type": "execute_result"
    }
   ],
   "source": [
    "K_rbf_approx.shape"
   ]
  },
  {
   "cell_type": "code",
   "execution_count": 131,
   "metadata": {},
   "outputs": [
    {
     "data": {
      "text/plain": [
       "37.517570703245703"
      ]
     },
     "execution_count": 131,
     "metadata": {},
     "output_type": "execute_result"
    }
   ],
   "source": [
    "norm(K_rbf_approx, 'fro')"
   ]
  },
  {
   "cell_type": "code",
   "execution_count": 132,
   "metadata": {
    "collapsed": true
   },
   "outputs": [
    {
     "data": {
      "text/plain": [
       "array([  1.20921231e+01,   1.27346995e+01,   9.14162998e+00,\n",
       "         7.53991338e+00,   7.11539404e+00,   6.13124195e+00,\n",
       "         5.63707691e+00,   4.93253940e+00,   4.82192996e+00,\n",
       "         4.66791262e+00,   4.59270958e+00,   4.66182397e+00,\n",
       "         4.54425481e+00,   4.35094883e+00,   4.21919473e+00,\n",
       "         4.15767731e+00,   3.93079747e+00,   3.89107635e+00,\n",
       "         3.87446536e+00,   3.67474822e+00,   3.60326068e+00,\n",
       "         3.50582512e+00,   3.33957315e+00,   3.25321887e+00,\n",
       "         3.22797241e+00,   3.11660103e+00,   2.98470391e+00,\n",
       "         3.04203617e+00,   3.04152408e+00,   3.02695005e+00,\n",
       "         2.91857252e+00,   2.91887402e+00,   2.84937425e+00,\n",
       "         2.82445672e+00,   2.79624521e+00,   2.76525486e+00,\n",
       "         2.71134901e+00,   2.68155730e+00,   2.59735351e+00,\n",
       "         2.57714847e+00,   2.51251517e+00,   2.49808791e+00,\n",
       "         2.49624509e+00,   2.42120175e+00,   2.39473392e+00,\n",
       "         2.35109163e+00,   2.29855206e+00,   2.27512201e+00,\n",
       "         2.34437205e+00,   2.21730355e+00,   2.18542115e+00,\n",
       "         1.97607429e+00,   2.13198249e+00,   2.08561257e+00,\n",
       "         2.12091272e+00,   2.12705531e+00,   2.04230562e+00,\n",
       "         2.03097146e+00,   2.03681227e+00,   2.06716111e+00,\n",
       "         2.01559187e+00,   1.94512779e+00,   1.92299789e+00,\n",
       "         1.90980594e+00,   1.94094847e+00,   1.85319740e+00,\n",
       "         1.86253592e+00,   1.82544851e+00,   1.84092732e+00,\n",
       "         1.79501110e+00,   1.81587264e+00,   1.81155476e+00,\n",
       "         1.80753258e+00,   1.75316625e+00,   1.78110506e+00,\n",
       "         1.73984270e+00,   1.70045780e+00,   1.75858339e+00,\n",
       "         1.67209021e+00,   1.66049589e+00,   1.65346237e+00,\n",
       "         1.62814523e+00,   1.60498765e+00,   1.61805085e+00,\n",
       "         1.57032904e+00,   1.55155905e+00,   1.54594662e+00,\n",
       "         1.49796340e+00,   1.51565465e+00,   1.51185976e+00,\n",
       "         1.46668410e+00,   1.45540445e+00,   1.29771198e-03,\n",
       "         1.44375772e+00,   1.43407751e+00,   1.48042758e+00,\n",
       "         1.45199060e+00,   1.43872339e+00,   1.40542302e+00,\n",
       "         1.40422128e+00,   1.38146586e+00,   1.39431862e+00,\n",
       "         1.39438788e+00,   1.34880052e+00,   1.33922607e+00,\n",
       "         1.35575464e+00,   1.33009212e+00,   1.29133564e+00,\n",
       "         1.31701804e+00,   1.27340006e+00,   1.27444154e+00,\n",
       "         1.31396671e+00,   1.30636787e+00,   1.24279628e+00,\n",
       "         1.22160927e+00,   1.21435954e+00,   1.31200100e+00,\n",
       "         1.17835163e+00,   1.13455497e+00,   1.13034857e+00,\n",
       "         1.16798164e+00,   1.15368653e+00,   1.16506641e+00,\n",
       "         1.10578538e+00,   1.09230719e+00,   1.11051420e+00,\n",
       "         1.08777901e+00,   1.19290438e+00,   1.16423539e+00,\n",
       "         1.14907793e+00,   1.14940335e+00,   1.10899179e+00,\n",
       "         1.06952296e+00,   1.08475199e+00,   1.08590925e+00,\n",
       "         1.07344698e+00,   1.07324432e+00,   1.06279418e+00,\n",
       "         9.33702741e-01,   1.05138500e+00,   1.05849993e+00,\n",
       "         9.37623532e-01,   1.05794729e+00,   9.50302814e-01,\n",
       "         1.03579242e+00,   1.06068127e+00,   9.59765837e-01,\n",
       "         1.05972852e+00,   1.04071454e+00,   1.02670365e+00,\n",
       "         9.67092891e-01,   1.02382682e+00,   1.03054316e+00,\n",
       "         9.71786064e-01,   9.82021445e-01,   1.01637792e+00,\n",
       "         1.01941861e+00,   9.82766071e-01,   1.01010156e+00,\n",
       "         1.01229879e+00,   9.85154276e-01,   9.88798032e-01,\n",
       "         1.00576632e+00,   9.87700265e-01,   9.88981770e-01,\n",
       "         1.00236141e+00,   1.00106787e+00,   9.96232186e-01,\n",
       "         9.97884540e-01,   9.98122639e-01,   9.98006922e-01,\n",
       "         9.99505575e-01,   1.00049353e+00,   9.99685527e-01,\n",
       "         9.99757157e-01,   1.00022501e+00,   1.00026674e+00,\n",
       "         9.99991299e-01,   9.99965919e-01,   9.99629046e-01,\n",
       "         1.00003898e+00,   9.99962098e-01,   9.99961015e-01,\n",
       "         9.99999279e-01,   1.00000529e+00,   1.00000000e+00,\n",
       "         1.00000002e+00,   1.09112092e-02,   8.64565040e-01,\n",
       "         8.77589696e-01,   8.84171427e-01,   8.91135455e-01,\n",
       "         8.90038368e-01,   8.88296014e-01,   9.00463773e-01,\n",
       "         9.09903738e-01,   9.11094784e-01,   9.15574386e-01,\n",
       "         9.21726552e-01,   9.15275115e-01,   9.18655945e-01,\n",
       "         9.19945779e-01,   9.34098223e-01,   9.50824700e-01,\n",
       "         9.18672915e-01,   9.61384235e-01,   9.42244235e-01,\n",
       "         9.85008133e-01,   1.00000021e+00,   8.03550754e-01,\n",
       "         8.07204366e-01,   8.18375464e-01,   8.15834999e-01,\n",
       "         8.26606396e-01,   8.30455471e-01,   8.53952579e-01,\n",
       "         8.49583582e-01,   8.42702576e-01,   8.42400399e-01,\n",
       "         8.33037108e-01,   8.62915962e-01,   8.66246290e-01,\n",
       "         2.20909070e-02,   4.47929797e-03,   7.38468581e-01,\n",
       "         7.39465290e-01,   7.48655231e-01,   7.76120418e-01,\n",
       "         7.99005501e-01,   7.96947392e-01,   7.83525249e-01,\n",
       "         7.65555380e-01,   7.57530374e-01,   7.86261827e-01,\n",
       "         7.56095644e-01,   8.24198702e-01,   7.63987179e-01,\n",
       "         7.86346396e-01,   7.62229016e-01,   8.02685466e-01,\n",
       "         9.38552530e-03,   1.24641764e-02,   1.47448577e-02,\n",
       "         1.10911330e-02,   1.63435535e-02,   3.64579962e-02,\n",
       "         3.11741068e-02,   2.01507266e-02,   2.17900988e-02,\n",
       "         6.70447678e-01,   6.81932497e-01,   6.82868721e-01,\n",
       "         6.89327278e-01,   7.23150898e-01,   6.94279047e-01,\n",
       "         7.34606656e-01,   7.12012532e-01,   7.05655440e-01,\n",
       "         7.06785941e-01,   7.03354206e-01,   7.43223704e-01,\n",
       "         7.60541251e-01,   1.75157569e-02,   2.66107424e-02,\n",
       "         1.75171084e-02,   3.06467068e-02,   3.56665045e-02,\n",
       "         6.07688100e-01,   6.49742688e-01,   6.23981590e-01,\n",
       "         6.67575836e-01,   6.28642802e-01,   6.43172324e-01,\n",
       "         6.13165610e-01,   6.39669364e-01,   7.18665089e-01,\n",
       "         6.37379833e-01,   6.34490830e-01,   7.09603247e-01,\n",
       "         6.66737016e-01,   7.34300818e-01,   7.12166962e-01,\n",
       "         2.93154501e-02,   3.60355805e-02,   3.04627501e-02,\n",
       "         3.06445271e-02,   4.26425914e-02,   3.46304383e-02,\n",
       "         4.48247191e-02,   5.45522200e-02,   4.31527404e-02,\n",
       "         4.79857359e-02,   5.15738349e-02,   6.90281505e-01,\n",
       "         4.99327766e-02,   6.59075437e-01,   6.03503187e-01,\n",
       "         5.00418920e-02,   5.45445809e-01,   5.42142181e-01,\n",
       "         5.90499964e-01,   5.00139033e-02,   5.53005719e-01,\n",
       "         6.38089465e-01,   5.96685116e-01,   5.81069600e-01,\n",
       "         5.78357583e-01,   5.59861353e-01,   5.70798710e-01,\n",
       "         6.01415575e-01,   5.64045351e-01,   6.34375947e-01,\n",
       "         5.96517359e-01,   6.11451447e-01,   5.69272770e-01,\n",
       "         5.66244182e-01,   6.22438294e-01,   5.30897417e-02,\n",
       "         5.99151479e-02,   5.33852173e-01,   5.24968548e-01,\n",
       "         5.15079405e-01,   5.60413765e-02,   5.47721246e-01,\n",
       "         5.55876780e-01,   5.10412105e-01,   5.15246508e-01,\n",
       "         5.19574006e-01,   5.02375487e-01,   4.99530553e-01,\n",
       "         5.00488558e-01,   4.79851619e-01,   4.90885085e-01,\n",
       "         4.63973167e-01,   4.70482185e-01,   4.95618189e-01,\n",
       "         6.13675454e-02,   6.33371636e-02,   6.45301640e-02,\n",
       "         6.88951095e-02,   7.18708296e-02,   5.62020789e-02,\n",
       "         7.44383992e-02,   5.76748860e-02,   4.72933439e-01,\n",
       "         1.03407745e-01,   6.60926381e-02,   6.58817022e-02,\n",
       "         1.05954252e-01,   5.64063107e-02,   1.00075220e-01,\n",
       "         7.67778851e-02,   6.69539067e-02,   8.06704057e-02,\n",
       "         7.67392713e-02,   5.00050798e-01,   4.49236407e-01,\n",
       "         4.52079819e-01,   4.55701494e-01,   4.87975968e-01,\n",
       "         4.68152146e-01,   4.88275486e-01,   4.95740527e-01,\n",
       "         4.74636669e-01,   4.41497574e-01,   4.02384738e-01,\n",
       "         4.33882376e-01,   4.22858332e-01,   4.19689536e-01,\n",
       "         4.31549634e-01,   4.12768219e-01,   4.44112948e-01,\n",
       "         4.27764074e-01,   4.88602062e-01,   5.65923680e-02,\n",
       "         1.58642548e-01,   1.01457202e-01,   1.16763597e-01,\n",
       "         1.17637725e-01,   8.45354143e-02,   9.43156414e-02,\n",
       "         9.51734190e-02,   1.55045232e-01,   1.50313515e-01,\n",
       "         1.52038720e-01,   9.29135926e-02,   1.09481179e-01,\n",
       "         8.38354645e-02,   1.39964129e-01,   1.41882000e-01,\n",
       "         1.36811503e-01,   1.20000953e-01,   1.45629892e-01,\n",
       "         1.24263377e-01,   9.07504453e-02,   8.83529247e-02,\n",
       "         1.34831315e-01,   1.27068855e-01,   1.29693712e-01,\n",
       "         1.25610582e-01,   8.23379479e-02,   1.30989816e-01,\n",
       "         8.93012923e-02,   3.86507213e-01,   1.67519370e-01,\n",
       "         1.66036535e-01,   4.04404122e-01,   4.10291379e-01,\n",
       "         4.28267848e-01,   4.32261243e-01,   3.81985524e-01,\n",
       "         3.73204009e-01,   3.84128215e-01,   4.26717127e-01,\n",
       "         8.95954803e-02,   3.67193770e-01,   3.65423717e-01,\n",
       "         4.10939996e-01,   1.73186322e-01,   2.24447622e-01,\n",
       "         1.99966609e-01,   1.92003987e-01,   1.86780198e-01,\n",
       "         1.85967622e-01,   1.88178168e-01,   2.05974176e-01,\n",
       "         2.22762117e-01,   3.64092005e-01,   1.74646350e-01,\n",
       "         1.82072012e-01,   1.46036888e-01,   1.25749021e-01,\n",
       "         1.31052284e-01,   1.94976602e-01,   1.79837905e-01,\n",
       "         3.58673194e-01,   3.21146509e-01,   3.33386966e-01,\n",
       "         2.04118073e-01,   3.13527360e-01,   3.48554076e-01,\n",
       "         2.32697283e-01,   1.76592429e-01,   3.35453572e-01,\n",
       "         3.42405253e-01,   3.41129103e-01,   3.52777852e-01,\n",
       "         3.57987159e-01,   3.17499165e-01,   2.18393438e-01,\n",
       "         3.10017977e-01,   3.57519567e-01,   1.78594979e-01,\n",
       "         3.37169961e-01,   3.01243724e-01,   2.17851381e-01,\n",
       "         2.88837919e-01,   2.85900590e-01,   2.12818220e-01,\n",
       "         3.00574272e-01,   2.01591482e-01,   3.50292948e-01,\n",
       "         2.83976293e-01,   3.07212396e-01,   2.38663462e-01,\n",
       "         2.42707329e-01,   2.12174736e-01,   2.77488579e-01,\n",
       "         2.51951145e-01,   2.59426210e-01,   2.72258852e-01,\n",
       "         2.38043453e-01,   2.68948544e-01,   2.49957311e-01,\n",
       "         2.47907957e-01,   2.63017992e-01,   2.98230127e-01,\n",
       "         2.70127211e-01,   2.63521678e-01,   2.66469679e-01,\n",
       "         8.86569753e-02,   8.89570321e-02,   4.09242464e-01,\n",
       "         3.85778023e-01,   3.63535563e-01,   2.66428309e-01,\n",
       "         8.96778355e-02,   1.76609052e-01,   1.95255539e-01,\n",
       "         2.13459198e-01,   3.43971799e-01,   2.89857378e-01,\n",
       "         3.05171564e-01,   2.81379164e-01,   3.08696051e-01,\n",
       "         3.37676594e-01,   2.49480527e-01,   3.38889299e-01,\n",
       "         2.46086566e-01,   2.58117088e-01,   2.78273642e-01,\n",
       "         2.69371352e-01,   1.75635672e-01,   1.77801788e-01,\n",
       "         2.41428477e-01,   2.45483980e-01])"
      ]
     },
     "execution_count": 132,
     "metadata": {},
     "output_type": "execute_result"
    }
   ],
   "source": [
    "# eigenvalues of true kernel\n",
    "evals_true, evecs_true = eig(K_rbf_true)\n",
    "evals_true"
   ]
  },
  {
   "cell_type": "code",
   "execution_count": 133,
   "metadata": {
    "collapsed": true
   },
   "outputs": [
    {
     "data": {
      "text/plain": [
       "array([  1.28749999e+01,   1.19805280e+01,   9.20964590e+00,\n",
       "         7.66089490e+00,   7.18652332e+00,   6.23657578e+00,\n",
       "         5.64214515e+00,   5.03608955e+00,   4.95738011e+00,\n",
       "         4.79811185e+00,   4.73277606e+00,   4.63294707e+00,\n",
       "         4.51712575e+00,   4.42402595e+00,   4.29392490e+00,\n",
       "         4.23411147e+00,   3.97932050e+00,   3.88142268e+00,\n",
       "         3.88894018e+00,   3.72362795e+00,   3.61023418e+00,\n",
       "         3.53785047e+00,   3.47836474e+00,   3.34494061e+00,\n",
       "         3.31657719e+00,   3.19732089e+00,   3.12672844e+00,\n",
       "         3.09606206e+00,   3.05690762e+00,   3.01230234e+00,\n",
       "         2.99578742e+00,   2.92642581e+00,   2.88123429e+00,\n",
       "         2.83912765e+00,   2.82420885e+00,   2.80117225e+00,\n",
       "         2.73780942e+00,   2.71669933e+00,   2.66148684e+00,\n",
       "         2.60170436e+00,   2.55514754e+00,   2.53489847e+00,\n",
       "         2.51761572e+00,   2.45083479e+00,   2.43037023e+00,\n",
       "         2.41699130e+00,   2.35516124e+00,   2.31262266e+00,\n",
       "         2.29074020e+00,   2.26638924e+00,   2.23598940e+00,\n",
       "         2.22515701e+00,   2.19633565e+00,   2.15188065e+00,\n",
       "         2.13523839e+00,   2.11589919e+00,   2.09617219e+00,\n",
       "         2.06755363e+00,   2.06840801e+00,   2.00865152e+00,\n",
       "         1.98591569e+00,   1.98108957e+00,   1.97307397e+00,\n",
       "         1.94852966e+00,   1.92062058e+00,   1.91006407e+00,\n",
       "         1.89383865e+00,   1.88989551e+00,   1.85051709e+00,\n",
       "         1.84290648e+00,   1.82057685e+00,   1.80704918e+00,\n",
       "         1.79482223e+00,   1.78082496e+00,   1.77213080e+00,\n",
       "         1.75809168e+00,   1.73423569e+00,   1.71615305e+00,\n",
       "         1.70271812e+00,   1.69109372e+00,   1.66266657e+00,\n",
       "         1.67403034e+00,   1.63054402e+00,   1.60720159e+00,\n",
       "         1.60512399e+00,   1.58026267e+00,   1.57281267e+00,\n",
       "         1.55477538e+00,   1.21206421e-03,   1.54247838e+00,\n",
       "         1.52625929e+00,   1.50998061e+00,   1.50257523e+00,\n",
       "         1.49588712e+00,   1.47290017e+00,   1.46934235e+00,\n",
       "         1.45594850e+00,   1.44421123e+00,   1.44672677e+00,\n",
       "         1.42282952e+00,   1.41437966e+00,   1.40790168e+00,\n",
       "         1.39134956e+00,   1.36906303e+00,   1.37405021e+00,\n",
       "         1.37789056e+00,   1.34464592e+00,   1.33661430e+00,\n",
       "         1.33582597e+00,   1.32289747e+00,   1.31751820e+00,\n",
       "         1.30198061e+00,   1.29807724e+00,   1.27677405e+00,\n",
       "         1.26637008e+00,   1.25737819e+00,   1.24617705e+00,\n",
       "         1.23842339e+00,   1.23090683e+00,   1.21879273e+00,\n",
       "         1.20291720e+00,   1.18460149e+00,   1.20841935e+00,\n",
       "         1.19331941e+00,   1.17415307e+00,   1.14674159e+00,\n",
       "         1.14862580e+00,   1.16341594e+00,   1.15645889e+00,\n",
       "         1.15815183e+00,   1.17069315e+00,   4.08930535e-03,\n",
       "         1.13862393e+00,   1.14239201e+00,   1.13029105e+00,\n",
       "         1.12242634e+00,   1.11585183e+00,   1.11407476e+00,\n",
       "         1.10834222e+00,   1.10231446e+00,   1.10031705e+00,\n",
       "         1.08867059e+00,   1.09363967e+00,   1.09176645e+00,\n",
       "         1.07771661e+00,   1.07493220e+00,   1.07061919e+00,\n",
       "         1.06354487e+00,   9.37027947e-01,   1.06148623e+00,\n",
       "         1.06022390e+00,   1.05724952e+00,   9.44933134e-01,\n",
       "         9.47572377e-01,   1.05038780e+00,   1.04431988e+00,\n",
       "         1.04807622e+00,   1.04176935e+00,   1.03910979e+00,\n",
       "         9.50598926e-01,   9.52156993e-01,   9.57201880e-01,\n",
       "         1.03285327e+00,   1.02158954e+00,   1.02351741e+00,\n",
       "         1.02767711e+00,   9.63413605e-01,   9.69274100e-01,\n",
       "         1.00917634e+00,   1.00276871e+00,   9.91621272e-01,\n",
       "         9.73369829e-01,   9.75689771e-01,   9.77577395e-01,\n",
       "         9.98370400e-01,   1.02515177e+00,   1.00058052e+00,\n",
       "         9.87173438e-01,   9.85037447e-01,   9.61207049e-01,\n",
       "         1.01105939e+00,   9.99618970e-01,   8.35920972e-01,\n",
       "         8.41354021e-01,   8.43288227e-01,   8.49832557e-01,\n",
       "         8.52307782e-01,   8.54650101e-01,   9.42261600e-01,\n",
       "         8.59084337e-01,   9.32789577e-01,   9.23202427e-01,\n",
       "         8.64257442e-01,   8.84002247e-01,   8.78447033e-01,\n",
       "         8.75467437e-01,   8.92236998e-01,   8.63520824e-01,\n",
       "         9.17780017e-01,   9.06115235e-01,   8.95689234e-01,\n",
       "         8.98239505e-01,   8.74222309e-01,   9.02752278e-01,\n",
       "         9.35006928e-01,   9.15658255e-01,   9.12416745e-01,\n",
       "         8.67319785e-01,   9.01713802e-01,   9.14183540e-01,\n",
       "         8.30182742e-01,   8.14616288e-01,   8.23396919e-01,\n",
       "         8.24488442e-01,   8.27617626e-01,   8.04478048e-01,\n",
       "         8.01176143e-01,   7.95750962e-01,   7.91104432e-01,\n",
       "         7.86347196e-01,   7.81195965e-01,   7.74939076e-01,\n",
       "         7.72305404e-01,   7.67818553e-01,   7.57165428e-01,\n",
       "         7.48729489e-01,   7.50371406e-01,   7.62039643e-01,\n",
       "         7.52075268e-01,   7.60882451e-01,   8.02830834e-01,\n",
       "         2.59877906e-02,   1.66136042e-02,   1.60992851e-02,\n",
       "         1.50740965e-02,   8.41055852e-03,   1.32268203e-02,\n",
       "         1.01293474e-02,   1.00388526e-02,   7.38773924e-01,\n",
       "         7.41788711e-01,   7.34386385e-01,   7.32126673e-01,\n",
       "         7.24962428e-01,   7.07532762e-01,   7.14835140e-01,\n",
       "         7.17284305e-01,   6.58758930e-01,   6.93727834e-01,\n",
       "         7.20701436e-01,   6.86166358e-01,   6.83192933e-01,\n",
       "         6.72701872e-01,   7.19728737e-01,   6.97431506e-01,\n",
       "         6.99256953e-01,   6.67029699e-01,   6.74805605e-01,\n",
       "         6.98711856e-01,   6.75964335e-01,   1.15308151e-02,\n",
       "         2.88833796e-02,   2.72121621e-02,   1.77136793e-02,\n",
       "         2.40439249e-02,   2.00684238e-02,   2.01774562e-02,\n",
       "         6.47914903e-01,   6.55447506e-01,   6.62945697e-01,\n",
       "         6.49853943e-01,   6.40259260e-01,   6.34547402e-01,\n",
       "         6.36344047e-01,   6.43014029e-01,   6.19129337e-01,\n",
       "         6.25720747e-01,   6.24960807e-01,   6.12306400e-01,\n",
       "         6.06139003e-01,   6.10496838e-01,   5.20976437e-01,\n",
       "         5.88332569e-01,   6.01699575e-01,   5.98799282e-01,\n",
       "         5.96349362e-01,   5.97043442e-01,   5.27841193e-01,\n",
       "         5.85784424e-01,   5.34462965e-01,   5.37171604e-01,\n",
       "         5.42435009e-01,   5.75536544e-01,   5.71535013e-01,\n",
       "         5.51020776e-01,   5.44257799e-01,   5.48753625e-01,\n",
       "         5.58543630e-01,   5.61759468e-01,   5.69097760e-01,\n",
       "         5.65704161e-01,   5.80232573e-01,   2.81777529e-02,\n",
       "         2.79950784e-02,   5.08063168e-01,   5.15125066e-01,\n",
       "         5.18693284e-01,   5.17491729e-01,   5.09909189e-01,\n",
       "         3.12263684e-02,   3.17949388e-02,   3.38696352e-02,\n",
       "         3.27139476e-02,   3.82237882e-02,   5.03499767e-01,\n",
       "         3.92251107e-02,   4.06813374e-02,   4.96892220e-01,\n",
       "         4.90549366e-01,   4.86234262e-01,   4.34445554e-02,\n",
       "         4.84997781e-01,   4.82471318e-01,   4.77851912e-01,\n",
       "         4.53662198e-02,   4.56011074e-02,   4.58841209e-02,\n",
       "         4.67093375e-02,   4.77429843e-02,   4.74539095e-01,\n",
       "         4.73021376e-01,   6.35615348e-02,   5.00172418e-02,\n",
       "         4.90574239e-02,   5.58310568e-02,   5.42001053e-02,\n",
       "         5.29555663e-02,   5.73638604e-02,   5.17477275e-02,\n",
       "         6.12065249e-02,   5.86067303e-02,   4.67016827e-01,\n",
       "         6.27605380e-02,   4.63274682e-01,   5.09593264e-02,\n",
       "         4.59620191e-01,   4.59293778e-01,   4.53950773e-01,\n",
       "         4.49331215e-01,   4.56617711e-01,   4.45915514e-01,\n",
       "         3.58267146e-01,   4.42597816e-01,   4.38644502e-01,\n",
       "         3.64728673e-01,   4.35733302e-01,   3.69615861e-01,\n",
       "         3.72804690e-01,   4.31488936e-01,   4.34178594e-01,\n",
       "         3.80686514e-01,   3.70803113e-01,   3.84753180e-01,\n",
       "         4.25900783e-01,   3.94265945e-01,   3.88084573e-01,\n",
       "         3.99224550e-01,   4.28794304e-01,   3.76996613e-01,\n",
       "         4.03438750e-01,   4.11128300e-01,   4.05755077e-01,\n",
       "         4.16676102e-01,   4.14571298e-01,   3.89825221e-01,\n",
       "         4.17748283e-01,   4.08367486e-01,   6.53663317e-02,\n",
       "         6.73241025e-02,   6.86014372e-02,   3.52251216e-01,\n",
       "         3.47605438e-01,   3.54380548e-01,   6.22197581e-02,\n",
       "         9.94477541e-02,   7.06909050e-02,   7.36790990e-02,\n",
       "         7.52137786e-02,   3.21522769e-01,   3.24302770e-01,\n",
       "         3.41047728e-01,   3.31340281e-01,   3.33591317e-01,\n",
       "         3.40107670e-01,   3.28106220e-01,   3.50505814e-01,\n",
       "         3.35929421e-01,   3.38194421e-01,   3.29206806e-01,\n",
       "         1.05327075e-01,   1.01617169e-01,   3.19745761e-01,\n",
       "         3.17027098e-01,   1.37885786e-01,   9.66956195e-02,\n",
       "         1.09145915e-01,   1.11672161e-01,   9.27941243e-02,\n",
       "         9.41301650e-02,   1.14765405e-01,   1.15109450e-01,\n",
       "         3.11198519e-01,   8.94367333e-02,   1.19041701e-01,\n",
       "         3.04896727e-01,   8.86163559e-02,   7.84445182e-02,\n",
       "         2.96043165e-01,   2.97715666e-01,   3.00178245e-01,\n",
       "         1.21231714e-01,   1.21781454e-01,   3.07981295e-01,\n",
       "         7.98252225e-02,   8.38805025e-02,   8.51993355e-02,\n",
       "         3.08196988e-01,   8.12331847e-02,   2.92507495e-01,\n",
       "         1.42441372e-01,   1.40836349e-01,   1.35080238e-01,\n",
       "         1.32636930e-01,   1.24598184e-01,   2.77626389e-01,\n",
       "         2.89145077e-01,   2.75260499e-01,   1.26492510e-01,\n",
       "         2.84438168e-01,   2.89547943e-01,   2.72760238e-01,\n",
       "         2.84038013e-01,   1.95616625e-01,   1.49208188e-01,\n",
       "         8.22495895e-02,   2.68939398e-01,   1.28163706e-01,\n",
       "         7.11400452e-02,   1.52758936e-01,   1.51783165e-01,\n",
       "         2.64941368e-01,   7.75940220e-02,   2.66249625e-01,\n",
       "         1.57619988e-01,   2.59928057e-01,   2.60563838e-01,\n",
       "         8.04588952e-02,   8.66984441e-02,   8.47132662e-02,\n",
       "         1.10284341e-01,   1.27991768e-01,   1.30799251e-01,\n",
       "         1.54842616e-01,   1.61261417e-01,   1.60266743e-01,\n",
       "         2.54892718e-01,   1.91552428e-01,   1.83246386e-01,\n",
       "         1.90955503e-01,   2.10061992e-01,   2.17196474e-01,\n",
       "         2.52803706e-01,   2.50991166e-01,   2.18308282e-01,\n",
       "         1.86142816e-01,   2.00570697e-01,   2.56872004e-01,\n",
       "         1.63588817e-01,   1.78571213e-01,   2.32227528e-01,\n",
       "         2.05120037e-01,   2.06525289e-01,   1.79553266e-01,\n",
       "         1.87237159e-01,   2.44346488e-01,   2.35176653e-01,\n",
       "         2.24275455e-01,   2.22498621e-01,   2.42443754e-01,\n",
       "         1.76298672e-01,   1.70141614e-01,   1.73355716e-01,\n",
       "         2.21681842e-01,   2.38417078e-01,   2.40750237e-01,\n",
       "         1.67074579e-01,   2.01654918e-01,   2.25726497e-01,\n",
       "         1.66068256e-01,   2.36931093e-01,   1.72544473e-01,\n",
       "         1.66884217e-01,   2.04116373e-01,   2.47893499e-01,\n",
       "         2.46459760e-01,   2.39817872e-01])"
      ]
     },
     "execution_count": 133,
     "metadata": {},
     "output_type": "execute_result"
    }
   ],
   "source": [
    "evals_approx, evecs_approx = eig(K_rbf_approx)\n",
    "evals_approx"
   ]
  },
  {
   "cell_type": "code",
   "execution_count": 134,
   "metadata": {},
   "outputs": [
    {
     "data": {
      "text/plain": [
       "252"
      ]
     },
     "execution_count": 134,
     "metadata": {},
     "output_type": "execute_result"
    }
   ],
   "source": [
    "np.sum(evals_approx > evals_true)"
   ]
  },
  {
   "cell_type": "code",
   "execution_count": 136,
   "metadata": {},
   "outputs": [
    {
     "data": {
      "text/plain": [
       "5.9588453221599842"
      ]
     },
     "execution_count": 136,
     "metadata": {},
     "output_type": "execute_result"
    }
   ],
   "source": [
    "# error bound ?\n",
    "np.sqrt(2*X.shape[0]*norm(K_rbf_true,2)*np.log(2*X.shape[0])/10000) + 2*X.shape[0]*norm(K_rbf_true,2)*np.log(2*X.shape[0])/(3*10000)"
   ]
  },
  {
   "cell_type": "code",
   "execution_count": 138,
   "metadata": {
    "collapsed": true
   },
   "outputs": [],
   "source": [
    "import pandas as pd"
   ]
  },
  {
   "cell_type": "code",
   "execution_count": 139,
   "metadata": {
    "collapsed": true
   },
   "outputs": [],
   "source": [
    "# takes a little while to run\n",
    "df = pd.read_csv(r'https://archive.ics.uci.edu/ml/machine-learning-databases/00203/YearPredictionMSD.txt.zip', header=None)"
   ]
  },
  {
   "cell_type": "code",
   "execution_count": 142,
   "metadata": {
    "collapsed": true
   },
   "outputs": [],
   "source": [
    "from sklearn.model_selection import train_test_split"
   ]
  },
  {
   "cell_type": "code",
   "execution_count": 143,
   "metadata": {
    "collapsed": true
   },
   "outputs": [],
   "source": [
    "train_set, test_set = train_test_split(df, test_size=0.4, random_state=1)\n",
    "\n",
    "'''\n",
    "Maybe should split by this recommendation from the data source:\n",
    "\n",
    "Data Set Information:\n",
    "\n",
    "You should respect the following train / test split: \n",
    "train: first 463,715 examples \n",
    "test: last 51,630 examples \n",
    "It avoids the 'producer effect' by making sure no song \n",
    "from a given artist ends up in both the train and test set.\n",
    "'''"
   ]
  },
  {
   "cell_type": "code",
   "execution_count": 145,
   "metadata": {
    "collapsed": true
   },
   "outputs": [],
   "source": [
    "years_train_samples, years_train_features = train_set.iloc[:,1:], train_set.iloc[:,0]"
   ]
  },
  {
   "cell_type": "code",
   "execution_count": 148,
   "metadata": {
    "collapsed": true
   },
   "outputs": [],
   "source": [
    "years_train_samples = StandardScaler().fit_transform(years_train_samples)"
   ]
  },
  {
   "cell_type": "code",
   "execution_count": 150,
   "metadata": {},
   "outputs": [
    {
     "name": "stderr",
     "output_type": "stream",
     "text": [
      "/Users/cdickens/anaconda3/lib/python3.6/site-packages/ipykernel_launcher.py:1: FutureWarning: reshape is deprecated and will raise in a subsequent release. Please use .values.reshape(...) instead\n",
      "  \"\"\"Entry point for launching an IPython kernel.\n",
      "/Users/cdickens/anaconda3/lib/python3.6/site-packages/sklearn/utils/validation.py:475: DataConversionWarning: Data with input dtype int64 was converted to float64 by StandardScaler.\n",
      "  warnings.warn(msg, DataConversionWarning)\n"
     ]
    }
   ],
   "source": [
    "years_train_features = StandardScaler().fit_transform(years_train_features.reshape(-1,1))"
   ]
  },
  {
   "cell_type": "code",
   "execution_count": 151,
   "metadata": {},
   "outputs": [
    {
     "data": {
      "text/plain": [
       "(309207, 90)"
      ]
     },
     "execution_count": 151,
     "metadata": {},
     "output_type": "execute_result"
    }
   ],
   "source": [
    "years_train_samples.shape"
   ]
  },
  {
   "cell_type": "code",
   "execution_count": 179,
   "metadata": {},
   "outputs": [
    {
     "data": {
      "text/plain": [
       "(10000, 90)"
      ]
     },
     "execution_count": 179,
     "metadata": {},
     "output_type": "execute_result"
    }
   ],
   "source": [
    "years_train_subset = years_train_samples[:10000,:] # reduce to 5000 samples to make computation tractable\n",
    "years_train_subset.shape"
   ]
  },
  {
   "cell_type": "code",
   "execution_count": 180,
   "metadata": {
    "collapsed": true
   },
   "outputs": [],
   "source": [
    "subset_rbf_kernel = rbf_kernel(years_train_subset, gamma=1)"
   ]
  },
  {
   "cell_type": "code",
   "execution_count": 182,
   "metadata": {},
   "outputs": [
    {
     "name": "stdout",
     "output_type": "stream",
     "text": [
      "Frobenius norm of kernel is 100.00084712175412\n",
      "Spectral norm of kernel is 1.2609043517230263\n"
     ]
    }
   ],
   "source": [
    "true_spectral_norm = norm(subset_rbf_kernel, 2)\n",
    "print(\"Frobenius norm of kernel is {}\".format(norm(subset_rbf_kernel, 'fro')))\n",
    "print(\"Spectral norm of kernel is {}\".format(true_spectral_norm))"
   ]
  },
  {
   "cell_type": "code",
   "execution_count": 183,
   "metadata": {
    "collapsed": true
   },
   "outputs": [],
   "source": [
    "num_random_features = 5000\n",
    "rbf_feature = RBFSampler(gamma=1,n_components=num_random_features, random_state=1)\n",
    "subset_random_features = rbf_feature.fit_transform(years_train_subset)\n",
    "subset_approx_rbf_kernel = np.dot(subset_random_features, subset_random_features.T)"
   ]
  },
  {
   "cell_type": "code",
   "execution_count": 184,
   "metadata": {},
   "outputs": [
    {
     "name": "stdout",
     "output_type": "stream",
     "text": [
      "Frobenius norm of kernel is 173.23391494533533\n",
      "Spectral norm of kernel is 5.830185008232921\n"
     ]
    }
   ],
   "source": [
    "approx_spectral_norm = norm(subset_approx_rbf_kernel, 2)\n",
    "print(\"Frobenius norm of kernel is {}\".format(norm(subset_approx_rbf_kernel, 'fro')))\n",
    "print(\"Spectral norm of kernel is {}\".format(approx_spectral_norm))"
   ]
  },
  {
   "cell_type": "code",
   "execution_count": 185,
   "metadata": {
    "collapsed": true
   },
   "outputs": [],
   "source": [
    "# error bound ?\n",
    "error_bound = np.sqrt(2*years_train_subset.shape[0]*true_spectral_norm*np.log(2*years_train_subset.shape[0])/num_random_features) \\\n",
    "+ 2*years_train_subset.shape[0]*true_spectral_norm*np.log(2*years_train_subset.shape[0])/(3*num_random_features)"
   ]
  },
  {
   "cell_type": "code",
   "execution_count": 186,
   "metadata": {},
   "outputs": [
    {
     "name": "stdout",
     "output_type": "stream",
     "text": [
      "Error: 4.5692806565098945, Bound: 23.717289838446533\n"
     ]
    }
   ],
   "source": [
    "performance = np.abs(approx_spectral_norm - true_spectral_norm)\n",
    "print(\"Error: {}, Bound: {}\".format(performance, error_bound))"
   ]
  },
  {
   "cell_type": "markdown",
   "metadata": {
    "collapsed": true
   },
   "source": [
    "## A different method - using countsketch on the kernel\n",
    "\n",
    "If we have a kernel $K$ which has some structure, then a countsketch may reduce the size of $K$."
   ]
  },
  {
   "cell_type": "code",
   "execution_count": 77,
   "metadata": {},
   "outputs": [
    {
     "name": "stdout",
     "output_type": "stream",
     "text": [
      "(2000, 8)\n"
     ]
    }
   ],
   "source": [
    "import numpy as np\n",
    "import matplotlib.pyplot as plt\n",
    "%matplotlib inline\n",
    "from sklearn.metrics.pairwise import rbf_kernel\n",
    "from sklearn.datasets import load_boston\n",
    "from sklearn.datasets import fetch_california_housing\n",
    "\n",
    "#X = np.random.randn(500) \n",
    "boston = fetch_california_housing()\n",
    "data, target = boston.data, boston.target\n",
    "data = data[0:2000,:]\n",
    "print(data.shape)\n",
    "\n",
    "bandwidth = 256\n",
    "\n",
    "#gauss_kernel = np.exp(-bandwidth*((X[:, None] - X[None, :])**2))\n",
    "gauss_kernel = rbf_kernel(data, gamma=bandwidth)"
   ]
  },
  {
   "cell_type": "code",
   "execution_count": 78,
   "metadata": {},
   "outputs": [
    {
     "data": {
      "text/plain": [
       "2000"
      ]
     },
     "execution_count": 78,
     "metadata": {},
     "output_type": "execute_result"
    }
   ],
   "source": [
    "evals = np.linalg.eigvals(gauss_kernel)\n",
    "evals\n",
    "np.linalg.matrix_rank(gauss_kernel)"
   ]
  },
  {
   "cell_type": "code",
   "execution_count": 79,
   "metadata": {
    "collapsed": true
   },
   "outputs": [],
   "source": [
    "from seaborn import heatmap"
   ]
  },
  {
   "cell_type": "code",
   "execution_count": 80,
   "metadata": {},
   "outputs": [
    {
     "data": {
      "text/plain": [
       "<matplotlib.axes._subplots.AxesSubplot at 0x1212e9828>"
      ]
     },
     "execution_count": 80,
     "metadata": {},
     "output_type": "execute_result"
    },
    {
     "data": {
      "image/png": "[encoded data removed]",
      "text/plain": [
       "<matplotlib.figure.Figure at 0x11ce9b4e0>"
      ]
     },
     "metadata": {},
     "output_type": "display_data"
    }
   ],
   "source": [
    "heatmap(gauss_kernel, cmap=\"YlGnBu\")"
   ]
  },
  {
   "cell_type": "code",
   "execution_count": 81,
   "metadata": {
    "collapsed": true
   },
   "outputs": [],
   "source": [
    "def countSketchInMemroy(matrixA, s):\n",
    "    '''from http://wangshusen.github.io/code/countsketch.html'''\n",
    "    m, n = matrixA.shape\n",
    "    matrixC = np.zeros([m, s])\n",
    "    hashedIndices = np.random.choice(s, n, replace=True)\n",
    "    randSigns = np.random.choice(2, n, replace=True) * 2 - 1 # a n-by-1{+1, -1} vector\n",
    "    matrixA = matrixA * randSigns.reshape(1, n) # flip the signs of 50% columns of A\n",
    "    for i in range(s):\n",
    "        idx = (hashedIndices == i)\n",
    "        matrixC[:, i] = np.sum(matrixA[:, idx], 1)\n",
    "    return matrixC\n",
    "\n",
    "def scaled_rademacher(rows, cols):\n",
    "    \n",
    "    sketch = 2*np.random.randint(low=0, high=2,size=(rows*cols)) - 1\n",
    "    return np.reshape(sketch, (rows,cols))/np.sqrt(rows)"
   ]
  },
  {
   "cell_type": "code",
   "execution_count": 82,
   "metadata": {},
   "outputs": [
    {
     "data": {
      "text/plain": [
       "(2000, 2000)"
      ]
     },
     "execution_count": 82,
     "metadata": {},
     "output_type": "execute_result"
    }
   ],
   "source": [
    "L = np.linalg.cholesky(gauss_kernel)\n",
    "L_opp = L.T\n",
    "L_opp.shape"
   ]
  },
  {
   "cell_type": "code",
   "execution_count": 83,
   "metadata": {},
   "outputs": [
    {
     "data": {
      "text/plain": [
       "True"
      ]
     },
     "execution_count": 83,
     "metadata": {},
     "output_type": "execute_result"
    }
   ],
   "source": [
    "np.allclose(np.dot(L_opp, L_opp.T), gauss_kernel)"
   ]
  },
  {
   "cell_type": "code",
   "execution_count": 84,
   "metadata": {},
   "outputs": [
    {
     "data": {
      "text/plain": [
       "(250, 2000)"
      ]
     },
     "execution_count": 84,
     "metadata": {},
     "output_type": "execute_result"
    }
   ],
   "source": [
    "#sketch_L = countSketchInMemroy(L, 300)\n",
    "sketch_L = scaled_rademacher(250, L_opp.shape[0])\n",
    "sketch_L.shape"
   ]
  },
  {
   "cell_type": "code",
   "execution_count": 85,
   "metadata": {},
   "outputs": [
    {
     "data": {
      "text/plain": [
       "(2000, 2000)"
      ]
     },
     "execution_count": 85,
     "metadata": {},
     "output_type": "execute_result"
    }
   ],
   "source": [
    "sketch_gauss_kernel = np.dot(sketch_L.T, sketch_L)\n",
    "sketch_gauss_kernel.shape"
   ]
  },
  {
   "cell_type": "code",
   "execution_count": 86,
   "metadata": {},
   "outputs": [
    {
     "data": {
      "text/plain": [
       "-8956.2815320187019"
      ]
     },
     "execution_count": 86,
     "metadata": {},
     "output_type": "execute_result"
    }
   ],
   "source": [
    "(506/0.9**2)*np.log(0.1)*np.log(506)"
   ]
  },
  {
   "cell_type": "code",
   "execution_count": 87,
   "metadata": {},
   "outputs": [
    {
     "data": {
      "text/plain": [
       "<matplotlib.axes._subplots.AxesSubplot at 0x11ce2f4a8>"
      ]
     },
     "execution_count": 87,
     "metadata": {},
     "output_type": "execute_result"
    },
    {
     "data": {
      "image/png": "[encoded data removed]",
      "text/plain": [
       "<matplotlib.figure.Figure at 0x11cf67390>"
      ]
     },
     "metadata": {},
     "output_type": "display_data"
    }
   ],
   "source": [
    "heatmap(np.abs(sketch_gauss_kernel), cmap=\"YlGnBu\")"
   ]
  },
  {
   "cell_type": "code",
   "execution_count": 88,
   "metadata": {},
   "outputs": [
    {
     "data": {
      "text/plain": [
       "134.24614860768438"
      ]
     },
     "execution_count": 88,
     "metadata": {},
     "output_type": "execute_result"
    }
   ],
   "source": [
    "np.linalg.norm(np.abs(sketch_gauss_kernel), 'fro')"
   ]
  },
  {
   "cell_type": "code",
   "execution_count": 89,
   "metadata": {},
   "outputs": [
    {
     "data": {
      "text/plain": [
       "44.721359549995796"
      ]
     },
     "execution_count": 89,
     "metadata": {},
     "output_type": "execute_result"
    }
   ],
   "source": [
    "np.linalg.norm(gauss_kernel, 'fro')"
   ]
  },
  {
   "cell_type": "code",
   "execution_count": 90,
   "metadata": {},
   "outputs": [
    {
     "data": {
      "text/plain": [
       "3.0018351400432102"
      ]
     },
     "execution_count": 90,
     "metadata": {},
     "output_type": "execute_result"
    }
   ],
   "source": [
    "np.linalg.norm(np.abs(sketch_gauss_kernel), 'fro') / np.linalg.norm(gauss_kernel, 'fro')"
   ]
  },
  {
   "cell_type": "code",
   "execution_count": 91,
   "metadata": {},
   "outputs": [
    {
     "data": {
      "text/plain": [
       "101.89372896424375"
      ]
     },
     "execution_count": 91,
     "metadata": {},
     "output_type": "execute_result"
    }
   ],
   "source": [
    "np.linalg.norm(np.abs(sketch_gauss_kernel), ord=2) / np.linalg.norm(gauss_kernel, ord=2)"
   ]
  },
  {
   "cell_type": "code",
   "execution_count": 92,
   "metadata": {
    "collapsed": true
   },
   "outputs": [],
   "source": [
    "low_flags = sketch_gauss_kernel < 0.25\n",
    "sketch_gauss_kernel[low_flags] = 0"
   ]
  },
  {
   "cell_type": "code",
   "execution_count": 93,
   "metadata": {},
   "outputs": [
    {
     "data": {
      "text/plain": [
       "<matplotlib.axes._subplots.AxesSubplot at 0x10f723d30>"
      ]
     },
     "execution_count": 93,
     "metadata": {},
     "output_type": "execute_result"
    },
    {
     "data": {
      "image/png": "[encoded data removed]",
      "text/plain": [
       "<matplotlib.figure.Figure at 0x11cf67320>"
      ]
     },
     "metadata": {},
     "output_type": "display_data"
    }
   ],
   "source": [
    "heatmap(np.abs(sketch_gauss_kernel), cmap=\"YlGnBu\")"
   ]
  },
  {
   "cell_type": "code",
   "execution_count": 94,
   "metadata": {},
   "outputs": [
    {
     "data": {
      "text/plain": [
       "1.0025995651305661"
      ]
     },
     "execution_count": 94,
     "metadata": {},
     "output_type": "execute_result"
    }
   ],
   "source": [
    "np.linalg.norm(np.abs(sketch_gauss_kernel), 'fro') / np.linalg.norm(gauss_kernel, 'fro')"
   ]
  },
  {
   "cell_type": "code",
   "execution_count": 95,
   "metadata": {},
   "outputs": [
    {
     "data": {
      "text/plain": [
       "1.3848324310657831"
      ]
     },
     "execution_count": 95,
     "metadata": {},
     "output_type": "execute_result"
    }
   ],
   "source": [
    "np.linalg.norm(np.abs(sketch_gauss_kernel), ord=2) / np.linalg.norm(gauss_kernel, ord=2)"
   ]
  },
  {
   "cell_type": "code",
   "execution_count": 107,
   "metadata": {
    "collapsed": true
   },
   "outputs": [],
   "source": [
    "def sketch_cholesky_factors(L):\n",
    "    '''Given a cholesky factor time how long it \n",
    "       takes to sketch, filter, then output.'''\n",
    "    \n",
    "    sketch_L = scaled_rademacher( L.shape[0], 1000)\n",
    "    sketch_gauss_kernel = np.dot(sketch_L, sketch_L.T)\n",
    "    sketch_gauss_kernel[sketch_gauss_kernel < 0.25] = 0\n",
    "    return sketch_gauss_kernel"
   ]
  },
  {
   "cell_type": "code",
   "execution_count": 108,
   "metadata": {
    "collapsed": true
   },
   "outputs": [],
   "source": [
    "K = sketch_cholesky_factors(L)"
   ]
  },
  {
   "cell_type": "code",
   "execution_count": 109,
   "metadata": {},
   "outputs": [
    {
     "data": {
      "text/plain": [
       "(2000, 2000)"
      ]
     },
     "execution_count": 109,
     "metadata": {},
     "output_type": "execute_result"
    }
   ],
   "source": [
    "K.shape"
   ]
  },
  {
   "cell_type": "code",
   "execution_count": 110,
   "metadata": {},
   "outputs": [
    {
     "data": {
      "text/plain": [
       "<matplotlib.axes._subplots.AxesSubplot at 0x11d197cc0>"
      ]
     },
     "execution_count": 110,
     "metadata": {},
     "output_type": "execute_result"
    },
    {
     "data": {
      "image/png": "[encoded data removed]",
      "text/plain": [
       "<matplotlib.figure.Figure at 0x11d7cd4a8>"
      ]
     },
     "metadata": {},
     "output_type": "display_data"
    }
   ],
   "source": [
    "heatmap(K, cmap=\"YlGnBu\")"
   ]
  },
  {
   "cell_type": "code",
   "execution_count": 111,
   "metadata": {},
   "outputs": [
    {
     "name": "stdout",
     "output_type": "stream",
     "text": [
      "82.3 ms ± 6.57 ms per loop (mean ± std. dev. of 7 runs, 10 loops each)\n"
     ]
    }
   ],
   "source": [
    "%timeit sketch_cholesky_factors(L)"
   ]
  },
  {
   "cell_type": "code",
   "execution_count": 101,
   "metadata": {},
   "outputs": [
    {
     "name": "stdout",
     "output_type": "stream",
     "text": [
      "35 ms ± 3 ms per loop (mean ± std. dev. of 7 runs, 10 loops each)\n"
     ]
    }
   ],
   "source": [
    "%timeit rbf_kernel(data, gamma=bandwidth)"
   ]
  },
  {
   "cell_type": "code",
   "execution_count": null,
   "metadata": {
    "collapsed": true
   },
   "outputs": [],
   "source": []
  },
  {
   "cell_type": "code",
   "execution_count": null,
   "metadata": {
    "collapsed": true
   },
   "outputs": [],
   "source": []
  }
 ],
 "metadata": {
  "kernelspec": {
   "display_name": "Python 3",
   "language": "python",
   "name": "python3"
  },
  "language_info": {
   "codemirror_mode": {
    "name": "ipython",
    "version": 3
   },
   "file_extension": ".py",
   "mimetype": "text/x-python",
   "name": "python",
   "nbconvert_exporter": "python",
   "pygments_lexer": "ipython3",
   "version": "3.6.3"
  }
 },
 "nbformat": 4,
 "nbformat_minor": 2
}
