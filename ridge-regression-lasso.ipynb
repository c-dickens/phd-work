{
 "cells": [
  {
   "cell_type": "markdown",
   "metadata": {},
   "source": [
    "# Constrained Least Squares problems\n",
    "\n",
    "Here, we use the theory developed in the previous notebook to combat constrained problems.  Although the previous notebook was specifically focused on unconstrained least squares, the general theory applies to constrained problems so we check if the CountSketch still works in this setting."
   ]
  },
  {
   "cell_type": "code",
   "execution_count": 1,
   "metadata": {
    "collapsed": true
   },
   "outputs": [],
   "source": [
    "import numpy as np\n",
    "import scipy as sp\n",
    "from sklearn.datasets import make_regression\n",
    "from scipy.optimize import minimize\n",
    "from scipy.linalg import clarkson_woodruff_transform \n",
    "from sklearn.metrics import mean_squared_error\n",
    "from sklearn.linear_model import Ridge, Lasso\n",
    "import matplotlib.pyplot as plt\n",
    "%matplotlib inline\n",
    "\n",
    "from numpy.linalg import norm"
   ]
  },
  {
   "cell_type": "code",
   "execution_count": 2,
   "metadata": {
    "collapsed": true
   },
   "outputs": [],
   "source": [
    "def gaussian_sketch(nrows, ncols):\n",
    "    '''Generate a Gausian sketching matrix of size\n",
    "    (nrows, ncols)'''\n",
    "    return (1/np.sqrt(nrows))*np.random.randn(nrows, ncols)\n",
    "\n",
    "def generate_data(nsamples, nfeatures, variance=1):\n",
    "    '''Generates a data matrix of size (nsamples, nfeatures)\n",
    "    which defines a linear relationship on the variables.'''\n",
    "    X, y, coef = make_regression(n_samples=nsamples, n_features=nfeatures,\\\n",
    "                        n_informative=nfeatures,noise=variance,coef=True)\n",
    "    #X[:,0] = np.ones(shape=(nsamples)) # add bias terms\n",
    "    return X, y, coef"
   ]
  },
  {
   "cell_type": "markdown",
   "metadata": {},
   "source": [
    "### Hessian Sketching methods\n",
    "\n",
    "Two functions which are almost equivalent except for the choice of sketch."
   ]
  },
  {
   "cell_type": "code",
   "execution_count": 3,
   "metadata": {
    "collapsed": true
   },
   "outputs": [],
   "source": [
    "def iterative_hessian(data, targets, sketch_size, num_iters):\n",
    "    '''\n",
    "    Input:\n",
    "    data - n x d matrix\n",
    "    targets - n x 1 target variables\n",
    "    num_iters - how many iterations to perform.  \n",
    "    Need log(1/eps) -- > num_iters for eps accuracy where\n",
    "    eps is relative error in the semi-norm ||u-v||_A = \n",
    "    1/sqrt(n)*||A(u-v)||_2.\n",
    "    \n",
    "    \n",
    "    Add functionality for lower bound on sketch size\n",
    "    '''\n",
    "    A = data\n",
    "    y = targets\n",
    "    n,d = A.shape\n",
    "    x0 = np.zeros(shape=(d,1))\n",
    "    m = int(sketch_size) # sketching dimension\n",
    "    \n",
    "    ATy = A.T.dot(y)[:,None]\n",
    "    covariance_mat = A.T.dot(A)\n",
    "   \n",
    "    for n_iter in range(int(num_iters)):\n",
    "        S = gaussian_sketch(m, n)\n",
    "        S_A = S.dot(A)\n",
    "        B = S_A.T.dot(S_A)\n",
    "        z = ATy - covariance_mat.dot(x0) + np.dot(S_A.T, (np.dot(S_A,x0)))\n",
    "        sol = sp.linalg.lstsq(B,z)\n",
    "        x_new = sol[0] \n",
    "        \n",
    "        \n",
    "        ### KEEP BELOW AS THIS WILL BE USED FOR LASSO OR\n",
    "        ### PENALISED REGRESSION.\n",
    "        \n",
    "        #x0 = np.zeros((X.shape[0],1))\n",
    "        #xt = np.zeros((2,1))\n",
    "        #x_new = np.zeros((2,1))\n",
    "        #for it in range(20):\n",
    "        #    result = minimize(f2min, x0=x_new,args=(X,y,x_new),\n",
    "        #                     method='L-BFGS-B', jac=False )\n",
    "        #    print(result)\n",
    "        #    x_new = result.x\n",
    "        \n",
    "        x_new = sp.linalg.solve(B,z)\n",
    "        #print(\"ITERATION {}: ||x_t - x_t+1|| = {}\".\\\n",
    "                  #format(n_iter, np.linalg.norm(x0-x_new)))\n",
    "        x0 = x_new  # reassign to go through the loop\n",
    "    return np.ravel(x0)"
   ]
  },
  {
   "cell_type": "code",
   "execution_count": 4,
   "metadata": {
    "collapsed": true
   },
   "outputs": [],
   "source": [
    "def ridge_function(x, data, target, sketch, alpha, offset):\n",
    "    A = data\n",
    "    #S = np.eye(A.shape[0])\n",
    "    S = sketch\n",
    "    #print(S.shape)\n",
    "    #print(A.shape)\n",
    "    y = target\n",
    "    xt = np.ravel(offset)\n",
    "\n",
    "    #print(xt.shape)\n",
    "    #print((S@y).shape)\n",
    "    #print((S@A@(x-xt)).shape)\n",
    "    norm_val = norm(S@A@(x-xt))**2 + alpha*norm(x-xt)**2\n",
    "    inner_prod = (y.T@A - xt@(A.T@A) - alpha*xt)@(x-xt)\n",
    "        #A.T@(y - A@xt).T@A@(x-xt) - alpha*xt.T@(x-xt)\n",
    "    \n",
    "    return norm_val - inner_prod\n",
    "\n",
    "def iterative_hessian_scp_opt(data, targets, sketch_size, alpha, num_iters):\n",
    "    '''\n",
    "    Input:\n",
    "    data - n x d matrix\n",
    "    targets - n x 1 target variables\n",
    "    num_iters - how many iterations to perform.  \n",
    "    Need log(1/eps) -- > num_iters for eps accuracy where\n",
    "    eps is relative error in the semi-norm ||u-v||_A = \n",
    "    1/sqrt(n)*||A(u-v)||_2.\n",
    "    \n",
    "    \n",
    "    Add functionality for lower bound on sketch size\n",
    "    '''\n",
    "    A = data\n",
    "    y = targets\n",
    "    n,d = A.shape\n",
    "    x0 = np.zeros(shape=(d,1))\n",
    "    m = int(sketch_size) # sketching dimension\n",
    "    \n",
    "    ATy = A.T.dot(y)[:,None]\n",
    "    covariance_mat = A.T.dot(A)\n",
    "   \n",
    "    for n_iter in range(int(num_iters)):\n",
    "        S = gaussian_sketch(m, n)\n",
    "        #print(S.shape)\n",
    "        #S_A = S.dot(A)\n",
    "        #B = S_A.T.dot(S_A)\n",
    "        #z = ATy - covariance_mat.dot(x0) + np.dot(S_A.T, (np.dot(S_A,x0)))\n",
    "        #sol = sp.linalg.lstsq(B,z)\n",
    "        #x_new = sol[0] \n",
    "        \n",
    "        \n",
    "        ### KEEP BELOW AS THIS WILL BE USED FOR LASSO OR\n",
    "        ### PENALISED REGRESSION.\n",
    "        \n",
    "        x0 = np.zeros((X.shape[0],1))\n",
    "        xt = np.zeros((d,1))\n",
    "        x_new = np.zeros((d,1))\n",
    "        for it in range(20):\n",
    "            result = minimize(ridge_function, x0=x_new,args=(X,y,S,alpha,x_new),\n",
    "                             method='L-BFGS-B', jac=False )\n",
    "        #    print(result)\n",
    "            x_new = result.x\n",
    "        \n",
    "        #x_new = sp.linalg.solve(B,z)\n",
    "        #print(\"ITERATION {}: ||x_t - x_t+1|| = {}\".\\\n",
    "                  #format(n_iter, np.linalg.norm(x0-x_new)))\n",
    "        x0 = x_new\n",
    "    return np.ravel(x0)"
   ]
  },
  {
   "cell_type": "code",
   "execution_count": 5,
   "metadata": {},
   "outputs": [],
   "source": [
    "def iterative_hessian_ridge(data, targets, sketch_size, alpha, num_iters):\n",
    "    '''\n",
    "    Input:\n",
    "    data - n x d matrix\n",
    "    targets - n x 1 target variables\n",
    "    num_iters - how many iterations to perform.  \n",
    "    alpha - regularisation parameter\n",
    "    Need log(1/eps) -- > num_iters for eps accuracy where\n",
    "    eps is relative error in the semi-norm ||u-v||_A = \n",
    "    1/sqrt(n)*||A(u-v)||_2.\n",
    "    \n",
    "    \n",
    "    Add functionality for lower bound on sketch size\n",
    "    '''\n",
    "    A = data\n",
    "    y = targets\n",
    "    n,d = A.shape\n",
    "    x0 = np.zeros(shape=(d,1))\n",
    "    m = int(sketch_size) # sketching dimension\n",
    "    \n",
    "    ATy = A.T.dot(y)[:,None]\n",
    "    covariance_mat = A.T.dot(A)\n",
    "   \n",
    "    for n_iter in range(int(num_iters)):\n",
    "        S = gaussian_sketch(m, n)\n",
    "        S_A = S.dot(A)\n",
    "        B = S_A.T.dot(S_A) + alpha*np.eye(d)\n",
    "        z = ATy - covariance_mat.dot(x0) + np.dot(S_A.T, (np.dot(S_A,x0)))\n",
    "        x_new = sp.linalg.solve(B,z)\n",
    "        #print(\"ITERATION {}: ||x_t - x_t+1|| = {}\".\\\n",
    "                  #format(n_iter, np.linalg.norm(x0-x_new)))\n",
    "        x0 = x_new # reassign to go through the loop\n",
    "    return np.ravel(x0)"
   ]
  },
  {
   "cell_type": "code",
   "execution_count": 6,
   "metadata": {
    "collapsed": true
   },
   "outputs": [],
   "source": [
    "def iterative_hessian_cwt_ridge(data, targets, sketch_size, alpha, num_iters):\n",
    "    '''\n",
    "    Input:\n",
    "    data - n x d matrix\n",
    "    targets - n x 1 target variables\n",
    "    num_iters - how many iterations to perform.  \n",
    "    Need log(1/eps) -- > num_iters for eps accuracy where\n",
    "    eps is relative error in the semi-norm ||u-v||_A = \n",
    "    1/sqrt(n)*||A(u-v)||_2.\n",
    "    \n",
    "    \n",
    "    Add functionality for lower bound on sketch size\n",
    "    '''\n",
    "    A = data\n",
    "    y = targets\n",
    "    n,d = A.shape\n",
    "    x0 = np.zeros(shape=(d,1))\n",
    "    m = int(sketch_size) # sketching dimension\n",
    "    \n",
    "    ATy = A.T.dot(y)[:,None]\n",
    "    covariance_mat = A.T.dot(A)\n",
    "   \n",
    "    for n_iter in range(int(num_iters)):\n",
    "        S_A = clarkson_woodruff_transform(A, sketch_size=m)\n",
    "        B = S_A.T.dot(S_A) + alpha*np.eye(d)\n",
    "        z = ATy - covariance_mat.dot(x0) + np.dot(S_A.T, (np.dot(S_A,x0)))\n",
    "        #sol = sp.linalg.lstsq(B,z)\n",
    "        #x_new = sol[0] \n",
    "        x_new = sp.linalg.solve(B,z)\n",
    "        #print(\"ITERATION {}: ||x_t - x_t+1|| = {}\".\\\n",
    "                  #format(n_iter, np.linalg.norm(x0-x_new)))\n",
    "        x0 = x_new # reassign to go through the loop\n",
    "    return np.ravel(x0)"
   ]
  },
  {
   "cell_type": "markdown",
   "metadata": {},
   "source": [
    "## Testing\n",
    "\n",
    "First we will instantiate a ridge experiment by generating synthetic data and solving the full problem.  Then we will compare the Gaussian and CountSketch methods.\n",
    "\n",
    "Recall that the problem we want to solve is $\\min_{w \\in R^d} \\| Xw - y \\|^2 + \\frac{\\lambda}{2} \\|w\\|^2$.  This takes the functional form of \n",
    "\n",
    "$$ F = \\frac{w^T X^T X w + \\lambda w^T w}{2} - \\langle Xw, y \\rangle $$.\n",
    "\n",
    "Then we can perform the Hessian sketching technique to get:\n",
    "\n",
    "$$ F_{HS} = \\frac{w^T X^T S^T S X w + \\lambda w^T w}{2} - \\langle Xw, y \\rangle $$.\n",
    "\n",
    "This is now of the same form as the original least squares Hessian sketch but with the additional regularising term.  In the iterative procedure by finding the minimiser in each direction we have the relation:\n",
    "\n",
    "$$ \\hat{u}_t = \\arg \\min_{u} \\frac{\\|SXu\\|^2+ \\lambda \\|u\\|^2}{2} - \\langle X^T(y - Xw_t) - \\lambda w_t, y \\rangle $$.\n",
    "\n",
    "Taking $u_t = w_{t+1} - w_t$ we can just modify the least squares solver where at each iteration we found \n",
    "\n",
    "$$ w_{t+1} = \\arg \\min_{w} \\frac{1}{2} \\|S X (w - w_t) \\|^2 - \\langle X^T(y-Xw_t), w-w_t \\rangle$$.\n",
    "\n",
    "Hence, the iteration system to be solved is:\n",
    "\n",
    "$$ w_{t+1} = \\arg \\min_{w} \\frac{\\|S X (w - w_t) \\|^2 + \\lambda \\|w - w_t\\|^2}{2}  - \\langle X^T(y-Xw_t) - \\lambda w_t, w-w_t \\rangle$$.\n",
    "\n",
    "From the norm terms we get gradients (wrt $w$) as:\n",
    "- $\\|S X (w-w_t)\\|^2 / 2\\to X^T S^T S X ( w-w_t)$  \n",
    "- $\\frac{\\lambda}{2} \\|w-w_t\\|^2 \\to \\lambda(w-w_t)$\n",
    "\n",
    "For the inner product terms the gradients are:\n",
    "$X^T y - X^TX w_t - \\lambda w_t$."
   ]
  },
  {
   "cell_type": "markdown",
   "metadata": {},
   "source": [
    "The implementations are essentially the same but with the addition of some regularising terms in the code.  Two are given: one using the linear system method and one using scipy optimize.  Although the linear system method is faster, it will not generalise to arbitrary convex programs, LASSO, for example."
   ]
  },
  {
   "cell_type": "code",
   "execution_count": 7,
   "metadata": {},
   "outputs": [
    {
     "data": {
      "text/plain": [
       "array([ 46.71118305,  36.92194003,  44.04071533,   4.65619193,  62.10536849])"
      ]
     },
     "execution_count": 7,
     "metadata": {},
     "output_type": "execute_result"
    }
   ],
   "source": [
    "# Generate data\n",
    "n, d = 1000, 5\n",
    "regularise_parameter = 1.5\n",
    "sketch_size = 500\n",
    "X,y, coef = generate_data(nsamples=n, nfeatures=d)\n",
    "coef"
   ]
  },
  {
   "cell_type": "code",
   "execution_count": 8,
   "metadata": {},
   "outputs": [],
   "source": [
    "ridge = Ridge(alpha=regularise_parameter)"
   ]
  },
  {
   "cell_type": "code",
   "execution_count": 9,
   "metadata": {},
   "outputs": [
    {
     "data": {
      "text/plain": [
       "array([ 46.6573076 ,  36.88808848,  43.97560423,   4.65765115,  61.99894717])"
      ]
     },
     "execution_count": 9,
     "metadata": {},
     "output_type": "execute_result"
    }
   ],
   "source": [
    "ridge.fit(X,y)\n",
    "coef_ridge = ridge.coef_\n",
    "coef_ridge"
   ]
  },
  {
   "cell_type": "code",
   "execution_count": 10,
   "metadata": {},
   "outputs": [
    {
     "data": {
      "text/plain": [
       "array([ 46.68197099,  36.90637436,  43.9970826 ,   4.66154702,  62.03117728])"
      ]
     },
     "execution_count": 10,
     "metadata": {},
     "output_type": "execute_result"
    }
   ],
   "source": [
    "sketched_x_ridge = iterative_hessian_ridge(X, y, sketch_size, 1.0,  12)\n",
    "sketched_x_ridge"
   ]
  },
  {
   "cell_type": "code",
   "execution_count": 11,
   "metadata": {},
   "outputs": [
    {
     "data": {
      "text/plain": [
       "array([ 46.68170262,  36.90624848,  43.99711086,   4.66162879,  62.03083166])"
      ]
     },
     "execution_count": 11,
     "metadata": {},
     "output_type": "execute_result"
    }
   ],
   "source": [
    "x_scp = iterative_hessian_scp_opt(X, y, sketch_size, 1.0,  12)\n",
    "x_scp"
   ]
  },
  {
   "cell_type": "code",
   "execution_count": 12,
   "metadata": {},
   "outputs": [
    {
     "data": {
      "text/plain": [
       "array([ 46.68197099,  36.90637436,  43.9970826 ,   4.66154702,  62.03117728])"
      ]
     },
     "execution_count": 12,
     "metadata": {},
     "output_type": "execute_result"
    }
   ],
   "source": [
    "cwt_x = iterative_hessian_cwt_ridge(X, y, sketch_size, 1.0,  12)\n",
    "cwt_x"
   ]
  },
  {
   "cell_type": "markdown",
   "metadata": {},
   "source": [
    "Now that this seems to be working we will try to reproduce the results in the paper similar to the ordinary least squares method."
   ]
  },
  {
   "cell_type": "markdown",
   "metadata": {},
   "source": [
    "## Experiment 1: comparing the MSE of each method\n",
    "\n",
    "We need to produce two graphs each showing MSE and MS(prediction)E against the rows dimension $n$.  Parameter settings are as follows:\n",
    "1. $n \\in \\{100,200, \\ldots, 25600 \\}$\n",
    "2. $d=10$\n",
    "3. Iterative Hessian sketch with $N = 1 + \\text{ceil}(\\log(n)$ rounds and $m=7d$\n",
    "4. Sketch and solve approach with sketch size $M = Nm$"
   ]
  },
  {
   "cell_type": "code",
   "execution_count": 13,
   "metadata": {},
   "outputs": [
    {
     "data": {
      "text/plain": [
       "100"
      ]
     },
     "execution_count": 13,
     "metadata": {},
     "output_type": "execute_result"
    }
   ],
   "source": [
    "n_vals = [100*2**_ for _ in range(12)]\n",
    "d = 10\n",
    "num_rounds = [np.log2(n_vals[_]) for _ in range(len(n_vals))]\n",
    "num_rounds = np.ceil(num_rounds) + 1\n",
    "hessian_sketch_dimension = 10*d\n",
    "sketch_and_solve_dimension = [int(num_rounds[_]*hessian_sketch_dimension) for _ in range(len(num_rounds))] \n",
    "hessian_sketch_dimension\n",
    "\n",
    "# Error metrics\n",
    "#mse_rr = {n_vals[i]: np.zeros(shape=(len(n_vals),1))\\\n",
    "#          for i in range(len(n_vals))}\n",
    "# Can put this back in when we want to test and cross-validate\n",
    "\n"
   ]
  },
  {
   "cell_type": "code",
   "execution_count": 14,
   "metadata": {},
   "outputs": [],
   "source": [
    "def test_all_methods_samples(num_tests):\n",
    "    # use this over above one\n",
    "    # Error metrics\n",
    "    \n",
    "    mse_ihs_gauss = {n_vals[i]: 0 for i in range(len(n_vals))}\n",
    "    mse_ihs_cwt = {n_vals[i]: 0 for i in range(len(n_vals))}\n",
    "    mse_SkSol = {n_vals[i]: 0 for i in range(len(n_vals))}\n",
    "\n",
    "    pred_err_rr = {n_vals[i]: 0 for i in range(len(n_vals))}\n",
    "    pred_err_ihs_gauss = {n_vals[i]: 0 for i in range(len(n_vals))}\n",
    "    pred_err_ihs_cwt = {n_vals[i]: 0 for i in range(len(n_vals))}\n",
    "    pred_err_SkSol = {n_vals[i]: 0 for i in range(len(n_vals))}\n",
    "\n",
    "\n",
    "    for exp_no in range(num_tests):\n",
    "        print(\"Trial number: {}\".format(exp_no))\n",
    "        # Fix the dataset and parameters\n",
    "        X_full,y_full, _ = generate_data(nsamples=n_vals[-1],\n",
    "                                               nfeatures=d)\n",
    "        # remove _ if want to see the true coeffs.  Useful for\n",
    "        # testing when alpha = 0\n",
    "        \n",
    "        regulariser = 1.0\n",
    "\n",
    "        for num_samples in n_vals:\n",
    "            print(\"Testing {} rows\".format(num_samples))\n",
    "            # Generate new data\n",
    "            X = X_full[:num_samples]\n",
    "            y = y_full[:num_samples]\n",
    "            rounds = num_rounds[n_vals.index(num_samples)]\n",
    "            #x_star = x_star_full[:n_vals[num_samples]]\n",
    "\n",
    "            # ridge regression\n",
    "            ridge = Ridge(alpha=regulariser)\n",
    "            ridge.fit(X,y)\n",
    "            x_rr = ridge.coef_\n",
    "            \n",
    "            # Can put this back in when we want to test and cross-validate\n",
    "            #mse_ls[num_samples] += norm(x_star - x_ls,2)**2\n",
    "            #pred_err_ls[num_samples] += norm(X@(x_star[:,None] - x_ls[:,None]))**2\n",
    "\n",
    "            # IHS  with Gaussian\n",
    "            x_ihs = iterative_hessian_ridge(X, y, hessian_sketch_dimension,\n",
    "                              regulariser, rounds)\n",
    "            mse_ihs_gauss[num_samples] += norm(x_rr - x_ihs,2)**2\n",
    "            pred_err_ihs_gauss[num_samples] += norm(X@(x_rr[:,None] - x_ihs[:,None]))**2\n",
    "\n",
    "            # IHS with cwt\n",
    "            x_cwt = iterative_hessian_cwt_ridge(X, y, hessian_sketch_dimension,\n",
    "                              regulariser, rounds)\n",
    "            mse_ihs_cwt[num_samples] += norm(x_rr - x_cwt,2)**2\n",
    "            pred_err_ihs_cwt[num_samples]+= norm(X@(x_rr[:,None] - x_cwt[:,None]))**2\n",
    "\n",
    "            # Sketch and Solve\n",
    "            M = sketch_and_solve_dimension[n_vals.index(num_samples)]\n",
    "            S = gaussian_sketch(nrows=M,ncols=X.shape[0])\n",
    "            sk_ridge = Ridge(alpha=regulariser)\n",
    "            sk_ridge.fit(S@X, S@y)\n",
    "            x_sk = sk_ridge.coef_\n",
    "            mse_SkSol[num_samples] += norm(x_rr - x_sk,2)**2\n",
    "            pred_err_SkSol[num_samples] += norm(X@(x_rr[:,None] - x_sk[:,None]))**2\n",
    "\n",
    "            \n",
    "\n",
    "    mse_ihs_gauss = {k : v / len(range(num_tests)) for k, v in mse_ihs_gauss.items()}\n",
    "    mse_ihs_cwt = {k : v / len(range(num_tests)) for k, v in mse_ihs_cwt.items()}\n",
    "    mse_SkSol = {k : v / len(range(num_tests)) for k, v in mse_SkSol.items()}\n",
    "\n",
    "    pred_err_ihs_gauss = {k : v / len(range(num_tests))\\\n",
    "                          for k, v in pred_err_ihs_gauss.items()}\n",
    "    pred_err_ihs_cwt =  {k : v / len(range(num_tests))\\\n",
    "                          for k, v in pred_err_ihs_cwt.items()}\n",
    "    pred_err_SkSol = {k : v / len(range(num_tests))\\\n",
    "                          for k, v in pred_err_SkSol.items()}\n",
    "\n",
    "\n",
    "\n",
    "    fig, ax = plt.subplots()\n",
    "\n",
    "    ax.loglog(n_vals, list(mse_ihs_gauss.values()), 'o-', label=\"IHS-Gaussian\")\n",
    "    ax.loglog(n_vals, list(mse_ihs_cwt.values()), 'o-', label=\"IHS-CWT\")\n",
    "    ax.loglog(n_vals, list(mse_SkSol.values()), 'o-', label=\"Sketch-and-Solve\")\n",
    "\n",
    "    ax.legend()\n",
    "    ax.set_title(\"MSE compared to row dimension\")\n",
    "    ax.set_xlabel(\"Row dimension $n$\")\n",
    "    ax.set_ylabel(\"$||x_{estimate} - x^*||^2$\")\n",
    "\n",
    "    fig1, ax1 = plt.subplots()\n",
    "\n",
    "    #ax1.loglog(n_vals, pred_err_ls, 'o-', label=\"Least Squares\")\n",
    "    ax1.loglog(n_vals, list(pred_err_ihs_gauss.values()), 'o-', label=\"IHS-Gaussian\")\n",
    "    ax1.loglog(n_vals, list(pred_err_ihs_cwt.values()), 'o-', label=\"IHS-cwt\")\n",
    "    ax1.loglog(n_vals, list(pred_err_SkSol.values()), 'o-', label=\"Sketch-and-Solve\")\n",
    "\n",
    "    ax1.legend()\n",
    "    ax1.set_title(\"Prediction error compared to row dimension\")\n",
    "    ax1.set_xlabel(\"Row dimension $n$\")\n",
    "    ax1.set_ylabel(\"$||x_{estimate} - x^*||^2$\")\n"
   ]
  },
  {
   "cell_type": "code",
   "execution_count": 15,
   "metadata": {},
   "outputs": [
    {
     "name": "stdout",
     "output_type": "stream",
     "text": [
      "Trial number: 0\n",
      "Testing 100 rows\n",
      "Testing 200 rows\n",
      "Testing 400 rows\n",
      "Testing 800 rows\n",
      "Testing 1600 rows\n",
      "Testing 3200 rows\n",
      "Testing 6400 rows\n",
      "Testing 12800 rows\n",
      "Testing 25600 rows\n",
      "Testing 51200 rows\n",
      "Testing 102400 rows\n",
      "Testing 204800 rows\n",
      "Trial number: 1\n",
      "Testing 100 rows\n",
      "Testing 200 rows\n",
      "Testing 400 rows\n",
      "Testing 800 rows\n",
      "Testing 1600 rows\n",
      "Testing 3200 rows\n",
      "Testing 6400 rows\n",
      "Testing 12800 rows\n",
      "Testing 25600 rows\n",
      "Testing 51200 rows\n",
      "Testing 102400 rows\n",
      "Testing 204800 rows\n",
      "Trial number: 2\n",
      "Testing 100 rows\n",
      "Testing 200 rows\n",
      "Testing 400 rows\n",
      "Testing 800 rows\n",
      "Testing 1600 rows\n",
      "Testing 3200 rows\n",
      "Testing 6400 rows\n",
      "Testing 12800 rows\n",
      "Testing 25600 rows\n",
      "Testing 51200 rows\n",
      "Testing 102400 rows\n",
      "Testing 204800 rows\n",
      "Trial number: 3\n",
      "Testing 100 rows\n",
      "Testing 200 rows\n",
      "Testing 400 rows\n",
      "Testing 800 rows\n",
      "Testing 1600 rows\n",
      "Testing 3200 rows\n",
      "Testing 6400 rows\n",
      "Testing 12800 rows\n",
      "Testing 25600 rows\n",
      "Testing 51200 rows\n",
      "Testing 102400 rows\n",
      "Testing 204800 rows\n"
     ]
    },
    {
     "data": {
      "image/png": "[encoded data removed]",
      "text/plain": [
       "<matplotlib.figure.Figure at 0x10e0fafd0>"
      ]
     },
     "metadata": {},
     "output_type": "display_data"
    },
    {
     "data": {
      "image/png": "[encoded data removed]",
      "text/plain": [
       "<matplotlib.figure.Figure at 0x1072dc4a8>"
      ]
     },
     "metadata": {},
     "output_type": "display_data"
    }
   ],
   "source": [
    "test_all_methods_samples(4)"
   ]
  },
  {
   "cell_type": "markdown",
   "metadata": {},
   "source": [
    "Now we will test the log-error to ridge solution versus iterations with various sketch sizes in both Gaussian and CountSketch regimes."
   ]
  },
  {
   "cell_type": "code",
   "execution_count": 16,
   "metadata": {
    "collapsed": true
   },
   "outputs": [],
   "source": [
    "X, y, x_star = generate_data(nsamples=6000, nfeatures=200)\n",
    "n,d = X.shape\n",
    "gamma_vals = [4,7,10]\n",
    "number_iterations = range(0,40, 5)\n",
    "regulariser = 1.0\n",
    "\n",
    "# setup independent variables\n",
    "iter_gauss_vs_ridge_errors = {gamma_vals[i]: np.zeros((len(number_iterations),1))\\\n",
    "                      for i in range(len(gamma_vals))}\n",
    "iter_cwt_vs_ridge_errors = {gamma_vals[i]: np.zeros((len(number_iterations),1))\\\n",
    "                      for i in range(len(gamma_vals))}"
   ]
  },
  {
   "cell_type": "code",
   "execution_count": 17,
   "metadata": {},
   "outputs": [
    {
     "name": "stdout",
     "output_type": "stream",
     "text": [
      "Testing gamma: 4, num_iterations: 0\n",
      "Testing gamma: 4, num_iterations: 1\n",
      "Testing gamma: 4, num_iterations: 2\n",
      "Testing gamma: 4, num_iterations: 3\n",
      "Testing gamma: 4, num_iterations: 4\n",
      "Testing gamma: 4, num_iterations: 5\n",
      "Testing gamma: 4, num_iterations: 6\n",
      "Testing gamma: 4, num_iterations: 7\n",
      "Testing gamma: 7, num_iterations: 0\n",
      "Testing gamma: 7, num_iterations: 1\n",
      "Testing gamma: 7, num_iterations: 2\n",
      "Testing gamma: 7, num_iterations: 3\n",
      "Testing gamma: 7, num_iterations: 4\n",
      "Testing gamma: 7, num_iterations: 5\n",
      "Testing gamma: 7, num_iterations: 6\n",
      "Testing gamma: 7, num_iterations: 7\n",
      "Testing gamma: 10, num_iterations: 0\n",
      "Testing gamma: 10, num_iterations: 1\n",
      "Testing gamma: 10, num_iterations: 2\n",
      "Testing gamma: 10, num_iterations: 3\n",
      "Testing gamma: 10, num_iterations: 4\n",
      "Testing gamma: 10, num_iterations: 5\n",
      "Testing gamma: 10, num_iterations: 6\n",
      "Testing gamma: 10, num_iterations: 7\n"
     ]
    }
   ],
   "source": [
    "# Ridge estimator\n",
    "ridge = Ridge(alpha=regulariser)\n",
    "ridge.fit(X,y)\n",
    "x_rr = ridge.coef_\n",
    "\n",
    "for gamma in gamma_vals:\n",
    "    sketch_size = int(gamma*d)\n",
    "    for ii in range(len(number_iterations)):\n",
    "        print(\"Testing gamma: {}, num_iterations: {}\".format(gamma,ii))\n",
    "        iter_num = number_iterations[ii]\n",
    "    \n",
    "    \n",
    "        # x_t is IHS output after iter_num iterations\n",
    "        x_t = iterative_hessian_ridge(data=X,targets=y,\n",
    "                                    sketch_size=sketch_size,\n",
    "                                      alpha=regulariser,\n",
    "                                      num_iters=iter_num)\n",
    "        x_cwt = iterative_hessian_cwt_ridge(data=X,targets=y,\n",
    "                                    sketch_size=sketch_size,\n",
    "                                      alpha=regulariser,\n",
    "                                      num_iters=iter_num)\n",
    "    \n",
    "        iter_gauss_vs_ridge_errors[gamma][ii] = 1/np.sqrt(n)*norm(X@(x_t-x_rr))\n",
    "        iter_cwt_vs_ridge_errors[gamma][ii] = 1/np.sqrt(n)*norm(X@(x_cwt-x_rr))\n",
    "        \n"
   ]
  },
  {
   "cell_type": "code",
   "execution_count": 18,
   "metadata": {},
   "outputs": [
    {
     "data": {
      "text/plain": [
       "Text(0.5,1,'Error to least-squares solution vs iteration - CountSketch')"
      ]
     },
     "execution_count": 18,
     "metadata": {},
     "output_type": "execute_result"
    },
    {
     "data": {
      "image/png": "[encoded data removed]",
      "text/plain": [
       "<matplotlib.figure.Figure at 0x115413438>"
      ]
     },
     "metadata": {},
     "output_type": "display_data"
    }
   ],
   "source": [
    "fig, ax = plt.subplots(nrows=1, ncols=2,\n",
    "                       figsize=(12,5),\n",
    "                       sharey=False, sharex=True)\n",
    "\n",
    "for gamma in gamma_vals:\n",
    "    ax[0].plot(number_iterations, np.log(iter_gauss_vs_ridge_errors[gamma]),\n",
    "            '-D', label=\"gamma = {}\".format(gamma))\n",
    "    ax[0].grid(True)\n",
    "    ax[1].plot(number_iterations, np.log(iter_cwt_vs_ridge_errors[gamma]),\n",
    "            '-D', label=\"gamma = {}\".format(gamma))\n",
    "    ax[1].grid(True)\n",
    "ax[0].legend()\n",
    "ax[0].set_xlabel(\"Number of iterations\")\n",
    "ax[0].set_ylabel(\"$\\log ||x_t - x_{LS} ||_A$\")\n",
    "ax[0].set_title('Error to least-squares solution vs iteration - gaussian')\n",
    "ax[1].set_title('Error to least-squares solution vs iteration - CountSketch')"
   ]
  },
  {
   "cell_type": "markdown",
   "metadata": {},
   "source": [
    "## Future Work\n",
    "- LASSO using SciPy\n",
    "- Dual Random Projection for kernels"
   ]
  },
  {
   "cell_type": "markdown",
   "metadata": {},
   "source": [
    "## Testing the scipy optimize code with constraints\n",
    "\n",
    "Change from matrix form to constraint form.  \n",
    "\n",
    "From documentation: \"Equality constraint means that the constraint function result is to be zero whereas inequality means that it is to be non-negative.\" \n",
    "\n",
    "In order to enforce $\\sum_i |w_i| \\le t$ we need to code something like $0 \\le t - \\sum_i |w_i|$"
   ]
  },
  {
   "cell_type": "code",
   "execution_count": 36,
   "metadata": {},
   "outputs": [],
   "source": [
    "def lasso_function(x, data, target, sketch, alpha, offset, step_size):\n",
    "    A = data\n",
    "    #S = np.eye(A.shape[0])\n",
    "    S = sketch\n",
    "    #print(S.shape)\n",
    "    #print(A.shape)\n",
    "    y = target\n",
    "    xt = np.ravel(offset)\n",
    "\n",
    "    #print(xt.shape)\n",
    "    #print((S@y).shape)\n",
    "    #print((S@A@(x-xt)).shape)\n",
    "    \n",
    "    norm_val = norm(S@A@(x-xt))**2 #+ alpha*norm(x-xt)**2\n",
    "    inner_prod = (y.T@A - xt@(A.T@A) - alpha*xt)@(x-xt)\n",
    "        #A.T@(y - A@xt).T@A@(x-xt) - alpha*xt.T@(x-xt)\n",
    "    taylor_approximation = norm_val + inner_prod\n",
    "    closeness_term = (0.5*1/step_size)*norm(x-xt)\n",
    "    non_differentiable = norm(x-xt,1)\n",
    "    \n",
    "    return taylor_approximation + closeness_term + non_differentiable\n",
    "\n",
    "def iterative_hessian_lasso(data, targets, sketch_size, alpha, num_iters):\n",
    "    '''\n",
    "    Input:\n",
    "    data - n x d matrix\n",
    "    targets - n x 1 target variables\n",
    "    num_iters - how many iterations to perform.  \n",
    "    Need log(1/eps) -- > num_iters for eps accuracy where\n",
    "    eps is relative error in the semi-norm ||u-v||_A = \n",
    "    1/sqrt(n)*||A(u-v)||_2.\n",
    "    \n",
    "    \n",
    "    Add functionality for lower bound on sketch size\n",
    "    '''\n",
    "    A = data\n",
    "    y = targets\n",
    "    n,d = A.shape\n",
    "    x0 = np.zeros(shape=(d,1))\n",
    "    m = int(sketch_size) # sketching dimension\n",
    "    \n",
    "    \n",
    "    ATy = A.T.dot(y)[:,None]\n",
    "    covariance_mat = A.T.dot(A)\n",
    "   \n",
    "    for n_iter in range(int(num_iters)):\n",
    "        S = gaussian_sketch(m, n)\n",
    "        \n",
    "        ### KEEP BELOW AS THIS WILL BE USED FOR LASSO OR\n",
    "        ### PENALISED REGRESSION.\n",
    "        \n",
    "        x0 = np.zeros((X.shape[0],1))\n",
    "        xt = np.zeros((d,1))\n",
    "        x_new = np.zeros((d,1))\n",
    "        for it in range(20):\n",
    "            result = minimize(lasso_function, x0=x_new,args=(X,y,S,alpha,x_new,1),\n",
    "                             method='L-BFGS-B',\n",
    "                             )\n",
    "        #    print(result)\n",
    "            x_new = result.x\n",
    "        \n",
    "        #x_new = sp.linalg.solve(B,z)\n",
    "        #print(\"ITERATION {}: ||x_t - x_t+1|| = {}\".\\\n",
    "                  #format(n_iter, np.linalg.norm(x0-x_new)))\n",
    "        x0 = x_new\n",
    "    return np.ravel(x0)"
   ]
  },
  {
   "cell_type": "code",
   "execution_count": 32,
   "metadata": {},
   "outputs": [],
   "source": [
    "X, y, _ = generate_data(1000, 5)"
   ]
  },
  {
   "cell_type": "code",
   "execution_count": 37,
   "metadata": {},
   "outputs": [],
   "source": [
    "x_lasso = iterative_hessian_lasso(X,y,1000,1,5)"
   ]
  },
  {
   "cell_type": "code",
   "execution_count": 38,
   "metadata": {},
   "outputs": [
    {
     "data": {
      "text/plain": [
       "array([ -454004.04019009, -1062742.75173165,    29549.9014108 ,\n",
       "        -405878.95822263,   154768.37202027])"
      ]
     },
     "execution_count": 38,
     "metadata": {},
     "output_type": "execute_result"
    }
   ],
   "source": [
    "x_lasso"
   ]
  },
  {
   "cell_type": "code",
   "execution_count": 35,
   "metadata": {},
   "outputs": [
    {
     "data": {
      "text/plain": [
       "array([ 88.99555036,  98.24593125,   2.72564066,  46.47223468,  11.37868953])"
      ]
     },
     "execution_count": 35,
     "metadata": {},
     "output_type": "execute_result"
    }
   ],
   "source": [
    "lasso = Lasso(alpha=1.0)\n",
    "lasso.fit(X,y)\n",
    "coef_ridge = lasso.coef_\n",
    "coef_ridge"
   ]
  },
  {
   "cell_type": "code",
   "execution_count": null,
   "metadata": {
    "collapsed": true
   },
   "outputs": [],
   "source": []
  }
 ],
 "metadata": {
  "kernelspec": {
   "display_name": "Python 3",
   "language": "python",
   "name": "python3"
  },
  "language_info": {
   "codemirror_mode": {
    "name": "ipython",
    "version": 3
   },
   "file_extension": ".py",
   "mimetype": "text/x-python",
   "name": "python",
   "nbconvert_exporter": "python",
   "pygments_lexer": "ipython3",
   "version": "3.6.3"
  }
 },
 "nbformat": 4,
 "nbformat_minor": 2
}
